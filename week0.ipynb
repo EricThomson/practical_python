{
 "cells": [
  {
   "cell_type": "markdown",
   "id": "ec21ad9d",
   "metadata": {},
   "source": [
    "# Welcome to Practical Python, Week 0!\n",
    "\n",
    "<img width = \"300\" src=\"./images/hazel.png\" align=\"right\">\n",
    "\n",
    "Congrats you have cloned the Practical Python repository and successfully fired up your first notebook from the repository. You are well on your way to running other people's code, writing your own code to analyze data, and making notebooks to communicate your results to others. \n",
    "\n",
    "What are we doing here? The way this class will work, as mentioned in [readme.md](readme.md) this is going to be a kind of semi-flipped class. Each week we will have a notebook where you will learn some key material, and get a little preview about what is coming in the coming week's class.  \n",
    "\n",
    "In the class, we will go over that material in person and do some practical work to reinforce it. You have already done lots of practical work just by setting up your programming environment, and getting everything working, so now we are going to do some overview of programming, Python, and Jupyter. \n",
    "\n",
    "Note this class is meant for *beginners*, so if you already have experience programming, the material in this notebook will likely seem very basic. If it is too easy, feel free to skip or skim ahead to the Sections that you need, such as how to work with Jupyter notebooks or the preview of the first class (there are links in the Table of Contents).  "
   ]
  },
  {
   "cell_type": "markdown",
   "id": "b79d8f35",
   "metadata": {},
   "source": [
    "<a id = \"toc\"></a>\n",
    "## Table of contents\n",
    "[0. What is a computer program?](#computer_program)   \n",
    "[1. What is Python?](#python)    \n",
    "[2. Software for writing code?](#ide)    \n",
    "[3. What is a Jupyter notebook and why will we use them?](#jupyter)    \n",
    "[4. How are the notebooks organized?](#notebook_anatomy)    \n",
    "[5. Dualing modes: entering code and text into your notebook](#code_and_markdown)    \n",
    "[6. To learn more](#more)    \n",
    "[7. Preview of Week 1](#preview)    "
   ]
  },
  {
   "cell_type": "markdown",
   "id": "b3eb0e16",
   "metadata": {},
   "source": [
    "<a id=\"computer_program\"></a>\n",
    "# 0. What is a computer program?\n",
    "<img align = \"right\" width = \"450\" src=\"./images/super_fort.jpg\" style=\"padding-left:20px\">\n",
    "Computer programs are recipes you write for you computer: they instruct your computer to carry out some task. Even video games like Fortnight are really just complicated recipes -- or sets of instructions -- that tell the computer what to show on the screen in response to what you do on your controller. In that sense Fortnight is no different from Super Mario Brothers. \n",
    "\n",
    "*Coding* is just another word for 'writing a computer program', and *code* is another word for the instructions themselves. Programs are usually just a bunch of lines of text (sort of like you are reading now)\n",
    "There are literally hundreds of different programming languages that different rules for how to tell the computer what to do. Some are very easy to learn because they let you write code by dragging pictures around on a screen, so you can literally code before you can read (Hopscotch and Scratch). \n",
    "\n",
    "Some programming languages, on the other hand, are extremely hard to understand. For instance, *machine code* is code that is not really written for people, but for computers. It is typically written in binary digits, and is really hard for humans to read without tons of training.\n",
    "\n",
    "\n",
    "Between these extremes is where most programmers live, in the world of text-based programming languages that use ordinary words like *and*, *if*, and *or* to tell the computer what to do. Python is one such language. It is extremely popular right now partly because it is easy to learn compared to other languages. For instance, the following line is written in Python:\n",
    "\n",
    "    22+2\n",
    "\n",
    "This instructs the computer to add two numbers, and is something you can easily understand.\n",
    "\n",
    "We can think of Python as an infinitely scalable calculator. In the following cell, enter some mathematical expression, and then hit `shift-enter` on your keyboard to run the code:"
   ]
  },
  {
   "cell_type": "code",
   "execution_count": null,
   "id": "86440ced",
   "metadata": {},
   "outputs": [],
   "source": [
    "# Enter some code here"
   ]
  },
  {
   "cell_type": "markdown",
   "id": "34e7fd3b",
   "metadata": {},
   "source": [
    "<a id =\"python\"></a>\n",
    "[Back to Table of Contents](#toc)    \n",
    "\n",
    "# 1. How does Python work?\n",
    "We learned in the previous lesson that Python is a really good programming language for beginners. It is a glorified calculator that can scale up to handle some of the most complicated tasks you can throw at it. How do Python programs work, though? All Python programs work pretty much the same way: you have some code, such as the expression `1+1`, and you send it off to the *Python interpreter* which then reads this code and produces the appropriate output (`2`). \n",
    "\n",
    "<img align = \"center\" width = \"600\" src=\"./images/python_interpreter.jpg\">\n",
    "\n",
    "You don't need to worry much about the Python interpreter. It is basically the brains of Python -- it takes in the code, reads it, and then carries out the instructions you provided. As you might guess, the Python interpreter is itself a program and is written in a different programming language (one that runs really fast)."
   ]
  },
  {
   "cell_type": "markdown",
   "id": "dc93488c",
   "metadata": {},
   "source": [
    "<a id = \"ides\"></a>\n",
    "[Back to Table of Contents](#toc)    \n",
    "# 2. What software do people use to write Python programs?\n",
    "<img align = \"right\" width = \"150\" src=\"./images/spyder.png\">\n",
    "Before programming in Python ourselves, let's briefly discuss the tools people use to actually write Python programs. There are *many* different options available.\n",
    "\n",
    "At the simplest, you could use a text editor like Wordpad or Google Docs to write your code, and then send it off to the Python interpreter. At the other extreme, there are things known as *IDEs* (Integrated Development Environments). IDEs are fancy software platforms that let you do much more than write code. They also include *debuggers* to help you remove errrors; some will even communicate with the internet so you can easily publish your code to public *repositories* like Github. If you are curious about Python IDEs, you can Google them: some of the more popular ones include *Spyder*, *Eric*, *IDLE*, *PyCharm*, *Visual Studio Code*, and even more."
   ]
  },
  {
   "cell_type": "markdown",
   "id": "d5095f74",
   "metadata": {},
   "source": [
    "<a id=\"jupyter\"></a>\n",
    "[Back to Table of Contents](#toc)    \n",
    "# 3. What is a Jupyter notebook and why will we use them?\n",
    "<img src=\"./images/jupiter.png\" align = \"left\" width=\"155\" style=\"padding-right:25px\">\n",
    "\n",
    "While an Integrated Development Environment (IDE) is meant for writing code efficiently, Jupyter notebooks are more conducive to learning and communicating programming ideas. A Jupyter notebook combines the ability to run Python code with the ability to display text that is formatted in a pleasing way, so people can more readily understand what you are trying to say. \n",
    "\n",
    "Note that while Jupyter notebooks are usually associated with Python, the name 'Jupyter' is formed by combining the names of three popular programming languages: **Ju**lia, **Pyt**hon, and **R**. One nice thing about Jupyter notebooks is that you can use them to program in many different languages. I actually learned to write Javascript (poorly) using Jupyter notebooks.\n",
    "\n",
    "In my experience, when teaching students how to code, I once taught them using an IDE, but they always tended to gravitate toward Jupyter notebooks over other options, so now I have decided to just stop fighting it. They are relatively easy to use, and fun to read. This ease of use, and the resulting nicely formatted documents, is what made me decide to write these lessons as Jupyter notebooks. \n",
    "\n",
    "Jupyter notebooks trade on an ingenious, and sometimes confusing, use of *two modes of entering information*. One, the *code* mode, lets you enter Python code. A second, *markdown* mode lets you enter nicely entering formatted text like you are reading now. (There are actually other modes, but let's ignore them for now).\n",
    "\n",
    "This may all sound tricky or confusing, but I guarantee you will get the hang of it. Basically, Jupyter provides two great services in one: on one hand, a convenient interface with your Python interpreter for writing code. On the other hand, a simple mechanism for displaying formatted text in a way that future you, and other people, will be able to follow. And as you've probably noticed by now, you can even integrate pictures into your markdown. \n",
    "\n",
    "In the rest of this lesson we will go over the key ideas with Jupyter notebooks: just enough to get us moving along in subsequent classes."
   ]
  },
  {
   "cell_type": "markdown",
   "id": "cd4d0822",
   "metadata": {},
   "source": [
    "<a id=\"notebook_anatomy\"></a>\n",
    "[Back to Table of Contents](#toc)    \n",
    "\n",
    "# 4. Anatomy of a Jupyter notebook\n",
    "Take a look around the screen you are currently looking at, in particular the top.\n",
    "\n",
    "You will notice a bunch of little widgets up there that let you control what's going on in your notebook. It should look something like this:\n",
    "\n",
    "<img align = \"center\" width = \"800\" src=\"./images/jupyter_notebook_blank.jpg\" style=\"padding:10px\">\n",
    "\n",
    "At the top left, next to the Jupyter logo, you will find the *name* of the current notebook you are working in. This one should say `week0`. Below that title is the *menu bar* which contains a bunch of dropdown menus, or lists of items that will show when you click on them. \n",
    "\n",
    "For instance, if you click on `File`, the first option is to create a `New notebook`, among many other things (such as `rename`, which is how you change the name of a notebook, or set the name of a new notebook). If you click on `Help` you will see a useful list of keyboard shortcuts. \n",
    "\n",
    "Below the Menu Bar is the *Toolbar*, which has a bunch of little icons (pictures) that you can click to do things. For instance, the little square on the left lets you save your progress. The scissor icon will remove a cell. The button that says *Run* will run the code in a cell (or display the text). If you hover your mouse cursor over an icon for a bit, a little description of what will happen if you click will appear.\n",
    "\n",
    "What about the dropdown menu that says 'Code' in the picture (and in your window probably says 'Markdown'?). This is connected to the part of the window below the Toolbar: the big blank space below that says 'Cell'. It is so important,  we will devote all of the following section to it!"
   ]
  },
  {
   "cell_type": "markdown",
   "id": "c95adf1e",
   "metadata": {},
   "source": [
    "<a id =\"code_and_markdown\"></a>\n",
    "[Back to Table of Contents](#toc)    \n",
    "\n",
    "# 5. Dualing modes: entering code and text into your notebook\n",
    "Beneath all the menus and toolbars in Jupyter are where the magic happens: the *cells*. These are the blank spaces where you can either enter **code** (meant to be run by Python) or **markdown** (text meant to be displayed and read by humans). \n",
    "\n",
    "You are currently reading text that has been written in markdown and processed by Jupyter to display for human consumption. To tell Jupyter whether you are entering code or markdown in a cell, you can use the above dropdown menu we just discussed. If you have the current cell highlighted in the notebook you are reading, it should say `Markdown` in it. Let's talk more about that now."
   ]
  },
  {
   "cell_type": "markdown",
   "id": "c6d0a0e0",
   "metadata": {},
   "source": [
    "## 5A. Markdown mode: A very brief introduction\n",
    "Markdown is a very simple way to format text for display. For instance:\n",
    "\n",
    "- Pound signs (`#`) for headings: Enter a single pound sign (`#`) followed by a space, followed by the text, to make a large title. To make smaller titles, add more pound signs (so use `##` to make a smaller heading).\n",
    "- Italics: put an asterisk `*` before and after the word.\n",
    "- Bold: put double asterisks `**`  before and after the word.\n",
    "- Numbered lists: if you want a numbered list just write numbers with periods after them, and a space, and then the text. For bullet lists like the one you are reading now just put a list of items where each is enumerated with a dash, a space, and the text. \n",
    "\n",
    "Note you can click on any of the cells with formatted text in this document to see how it was formatted, including this one.\n",
    "\n",
    "Frankly, you don't need to know much about markdown to use Jupyter. Basically just start typing and practice, and if you get stuck Google what you need: that's what everyone does. Markdown is a simple, easy, powerful way to format documents. It has become ubiquitous among programmers because it lets us talk to each other interspersed with code. In addition to Jupyter notebooks, it is automatically displayed at Github on the readme files (in `readme.md` files the `md` stands for 'markdown'). \n",
    "\n",
    "For more on markdown, see the suggestions in [Section 6](#more)."
   ]
  },
  {
   "cell_type": "markdown",
   "id": "cefb5d43",
   "metadata": {},
   "source": [
    "### Get some practice!\n",
    "<img align = \"right\" width = \"200\" src=\"./images/sandbox.png\" style=\"padding:5px\">\n",
    "Why don't you practice writing your own markdown? \n",
    "\n",
    "In the following cell, write some markdown that contains a single title (`#`), a numbered list, and some text with bold and italicized words in it. Check the formatting (process and display the formatted text) by clicking on `Run` in the Toolbar (or just `ctrl-enter` on your keyboard)."
   ]
  },
  {
   "cell_type": "markdown",
   "id": "f2b7c83d",
   "metadata": {},
   "source": [
    "    ---> \n",
    "\n",
    "\n",
    "    double click here and replace me with some practice markdown  \n",
    "\n",
    "\n",
    "    <---"
   ]
  },
  {
   "cell_type": "markdown",
   "id": "bb5973ed",
   "metadata": {},
   "source": [
    "## 5B: Code mode -- there will be plenty of time for that\n",
    "In addition to markdown to write formatted text, the most important mode of operation for Python programmers is the *code* mode. When a cell is in code mode, it expects to take in Python expressions. Then when you run them, Jupyter sends the code to the Python interpreter, and displays the output of your code. \n",
    "\n",
    "As an exercise, try entering a mathematical expression in the following cell and then hitting run (or `shift-enter`). Make sure the cell is in Code mode when you do or else it will just print it out as text):"
   ]
  },
  {
   "cell_type": "code",
   "execution_count": 2,
   "id": "726077fd",
   "metadata": {},
   "outputs": [],
   "source": [
    "#\n",
    "# double click here and  replace me with some math like 1/2\n",
    "#"
   ]
  },
  {
   "cell_type": "markdown",
   "id": "a61710ec",
   "metadata": {},
   "source": [
    "Beause the point of the rest of all these classes is to learn to read, write, and run Python code, we are not going to spend more time with this now (except for the preview in Section 7 of the next class). The main thing I'd like you to do is *understand* the difference between the two main modes of operation of cells in Jupyter. "
   ]
  },
  {
   "cell_type": "markdown",
   "id": "c5d2e58b",
   "metadata": {},
   "source": [
    "<a id=\"more\"></a>\n",
    "[Back to Table of Contents](#toc)    \n",
    "# 6. To learn more\n",
    "\n",
    "- [Markdown guide](https://www.markdownguide.org/basic-syntax/): If you want to learn a lot more Markdown basics, there are tons of web sites with detailed instructions and tutorials. I really like this guide for its no-nonsense style. \n",
    "- [Atom](https://atom.io/): a great general-purpose text editor with markdown preview capabilities. It also is good for editing code/text in general. If you ever want to mess around with markdown on your personal computer without having to start up a Jupyter notebook, I recommend using Atom.\n",
    "- [Realpython intro to Jupyter](https://realpython.com/jupyter-notebook-introduction/): In general, RealPython is a great online resources for learning about Python, and this is a nice introduction to Jupyter. \n",
    "- [Intro to jupyter](https://github.com/ipython/ipython-in-depth/blob/7e5ce96cc9251083979efdfc393425f1229a4a68/examples/Notebook/Notebook%20Basics.ipynb): Introduction in a Jupyter notebook, including a more in-depth overview of keyboard shortcuts and such.\n"
   ]
  },
  {
   "cell_type": "markdown",
   "id": "e7024dd3",
   "metadata": {},
   "source": [
    "<a id = \"preview\"></a>\n",
    "[Back to Table of Contents](#toc)    \n",
    "\n",
    "# 7. Preview of first class\n",
    "First do the first class, then come back here and pick things from atbswp:\n",
    "https://www.youtube.com/playlist?list=PL0-84-yl1fUnRuXGFe_F7qSH1LEnn9LkW\n",
    "\n",
    "or:\n",
    "\n",
    "Brief intro to python stuff (microsoft course)\n",
    "    https://www.youtube.com/playlist?list=PLlrxD0HtieHhS8VzuMCfQD4uJ9yne1mE6 \n",
    "    \n",
    "Python! Parking downhill\n",
    "\n",
    "variables and data types\n",
    "strings\n",
    "printing\n",
    "if/then\n",
    "\n",
    "print: \n",
    "    https://www.youtube.com/watch?v=FhoASwgvZHk&list=PLlrxD0HtieHhS8VzuMCfQD4uJ9yne1mE6&index=5\n",
    "        \n",
    "        "
   ]
  },
  {
   "cell_type": "code",
   "execution_count": null,
   "id": "017b47dd",
   "metadata": {},
   "outputs": [],
   "source": []
  }
 ],
 "metadata": {
  "kernelspec": {
   "display_name": "Python 3",
   "language": "python",
   "name": "python3"
  },
  "language_info": {
   "codemirror_mode": {
    "name": "ipython",
    "version": 3
   },
   "file_extension": ".py",
   "mimetype": "text/x-python",
   "name": "python",
   "nbconvert_exporter": "python",
   "pygments_lexer": "ipython3",
   "version": "3.7.6"
  }
 },
 "nbformat": 4,
 "nbformat_minor": 5
}
