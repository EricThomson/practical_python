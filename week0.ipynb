{
 "cells": [
  {
   "cell_type": "markdown",
   "id": "ec21ad9d",
   "metadata": {},
   "source": [
    "# Practical Python: Week 0\n",
    "\n",
    "<img width = \"250\" src=\"./images/hazel.png\" align=\"left\" style=\"padding-right:10px\">\n",
    "\n",
    "Congrats you have cloned the Practical Python repository and successfully fired up your first course notebook!. You are well on your way to running other people's code, writing your own code to analyze data, and making notebooks to communicate your results to others. \n",
    "\n",
    "What will we do this week? Since you have already done a *lot* of of practical work just by setting up miniconda and Jupyter, this pre-class is going to be pretty chill. It will be more reading than the future classes where we focus on actual programming. I hope you enjoy this little tour of programming, Python, and Jupyter. The hardest part is over: you've gotten your environment set up!\n",
    "\n",
    "<img align = \"right\" width = \"100\" src=\"./images/bike_rider.jpg\" style=\"padding-left:20px\">\n",
    "\n",
    "Note this class is meant for *absolute beginners*, and this particular notebook is a  conversational introduction to what will become a fairly fast-paced crash course in Python over the next four weeks. If you already have experience programming, the material in this notebook will probably seem very basic. If so, feel free to skip or skim ahead to sections that interest you, such as how to work with Jupyter notebooks, or the preview of the first class: there are links in the Table of Contents.  "
   ]
  },
  {
   "cell_type": "markdown",
   "id": "b79d8f35",
   "metadata": {},
   "source": [
    "<a id = \"toc\"></a>\n",
    "## Table of contents\n",
    "[0. What is a computer program?](#computer_program)   \n",
    "[1. What is Python?](#python)    \n",
    "[2. Software for writing code?](#ide)    \n",
    "[3. What is a Jupyter notebook and why will we use them?](#jupyter)    \n",
    "[4. How are the notebooks organized?](#notebook_anatomy)    \n",
    "[5. Dualing modes: entering code and text into your notebook](#code_and_markdown)    \n",
    "[6. To learn more](#more)    \n",
    "[7. Preview of Week 1](#preview)    "
   ]
  },
  {
   "cell_type": "markdown",
   "id": "b3eb0e16",
   "metadata": {},
   "source": [
    "<a id=\"computer_program\"></a>\n",
    "# 0. What is a computer program?\n",
    "<img align = \"right\" width = \"450\" src=\"./images/super_fort.jpg\" style=\"padding-left:20px\">\n",
    "Computer programs are recipes you write for you computer: they instruct your computer to carry out some task. Even video games like Fortnight are really just complicated recipes -- or sets of instructions -- that tell the computer what to show on the screen in response to what you do on your controller. \n",
    "\n",
    "*Coding* is just another word for 'writing a computer program', and *code* is another word for the instructions themselves. Programs are usually just a bunch of lines of text. There are literally hundreds of different programming languages that consist of different rules for how to tell the computer what to do. \n",
    "\n",
    "Some are very easy to learn because they let you write code by dragging pictures around on a screen, so kids can literally code before they can read (Hopscotch and Scratch). Some are extremely hard to understand. For instance, *machine code* is code that is typically written in binary digits: it is perfect for the computer, but impossible for untrained humans to read. \n",
    "\n",
    "Between these extremes is where most programmers live, in the world of text-based programming languages that use ordinary words like *and*, *if*, and *or* to tell the computer what to do. Python is one such language. It is extremely popular right now partly because it is easy to learn compared to other languages. For instance, the following line is a Python program:\n",
    "\n",
    "    22+2\n",
    "\n",
    "This instructs the computer to add two numbers, and is something you can easily understand. Indeed, we can think of Python as an infinitely scalable, glorified calculator. "
   ]
  },
  {
   "cell_type": "markdown",
   "id": "34e7fd3b",
   "metadata": {},
   "source": [
    "<a id =\"python\"></a>\n",
    "[Back to Table of Contents](#toc)    \n",
    "\n",
    "# 1. How does Python work?\n",
    "Python is a glorified calculator that can scale up to handle some of the most complicated tasks you can throw at it. How do Python programs work? At a cartoon level, it is pretty simple: you have some code, such as the expression `1+1`, and you send it off to the *Python interpreter* which then reads this code and produces the appropriate output (`2`):\n",
    "\n",
    "<img align = \"center\" width = \"600\" src=\"./images/python_interpreter.jpg\">\n",
    "\n",
    "You don't need to worry much about the Python interpreter. It is basically the brains of Python -- it takes in the code, reads it, and then carries out the instructions you provided. As you might guess, the Python interpreter is itself a program and is written in a different programming language (one that runs really fast)."
   ]
  },
  {
   "cell_type": "markdown",
   "id": "dc93488c",
   "metadata": {},
   "source": [
    "<a id = \"ides\"></a>\n",
    "[Back to Table of Contents](#toc)    \n",
    "# 2. What software do people use to write Python programs?\n",
    "<img align = \"right\" width = \"125\" src=\"./images/spyder.png\">\n",
    "There are *many* different programs we can use to write Python code. \n",
    "\n",
    "At the simplest, you could code by using your computer's built-in text editor to write your programs, and then send this code off to the Python interpreter. At the other extreme, there are programs known as *IDEs* (Integrated Development Environments). IDEs are very fancy software platforms that let you do much more than write code. They also include *debuggers* to help you identify and remove errrors, and they often include connections to code repositories to make it easier to  publish your code to places like Github. If you are curious about Python IDEs, you can look up some of the more popular ones such as *PyCharm*, *Spyder*, *Eric*, *IDLE*, *Visual Studio Code*, and more."
   ]
  },
  {
   "cell_type": "markdown",
   "id": "d5095f74",
   "metadata": {},
   "source": [
    "<a id=\"jupyter\"></a>\n",
    "[Back to Table of Contents](#toc)    \n",
    "# 3. What is a Jupyter notebook and why will we use them?\n",
    "<img src=\"./images/jupiter.png\" align = \"left\" width=\"155\" style=\"padding-right:25px\">\n",
    "\n",
    "While an Integrated Development Environment (IDE) is meant for writing code with blazing efficiency, Jupyter notebooks are more conducive for learning to code, and communicating scientific ideas. A Jupyter notebook combines the ability to run Python code with the ability to display nicely formatted text/images/equations so people can more readily understand what you are trying to say. \n",
    "\n",
    "Note that while Jupyter notebooks are usually associated with Python, the name 'Jupyter' is formed by combining the names of three popular programming languages: **Ju**lia, **Pyt**hon, and **R**. One nice thing about Jupyter notebooks is that you can use them to program in many different languages. \n",
    "\n",
    "In my experience, when teaching Python, I once used an IDE, but recently all my students always gravitated toward Jupyter notebooks for their ease of use and nice formatting. They make learning Python a lot easier. So I have stopped fighting. Plus, they are now used by pretty much everyone, so if you want to communicate with someone, it is a save bet they will be receptive to a Jupyter notebook.\n",
    "\n",
    "As we will see, Jupyter notebooks trade on an ingenious, and sometimes confusing, use of *two modes of entering information*. One, the *code* mode, lets you enter Python code. A second, *markdown* mode lets you enter formatted text like you are reading now. (There are other modes, but we will ignore them).\n",
    "\n",
    "This may all sound tricky or confusing, but I guarantee you will get the hang of it very quickly. Basically, Jupyter provides a convenient interface with your Python interpreter for writing code, as well as a simple mechanism for displaying formatted text. \n",
    "\n",
    "In the rest of this lesson we will have a brief overview of Jupyter notebooks: just enough to get us moving along in subsequent classes."
   ]
  },
  {
   "cell_type": "markdown",
   "id": "cd4d0822",
   "metadata": {},
   "source": [
    "<a id=\"notebook_anatomy\"></a>\n",
    "[Back to Table of Contents](#toc)    \n",
    "\n",
    "# 4. Anatomy of a Jupyter notebook\n",
    "Take a look around the screen you are currently looking at, in particular the top. You will notice a bunch of little widgets up there that let you control what's going on in your notebook. It should look something like this:\n",
    "\n",
    "<img align = \"center\" width = \"800\" src=\"./images/jupyter_notebook_blank.jpg\" style=\"padding:10px\">\n",
    "\n",
    "At the top left, next to the Jupyter logo, you will find the *name* of the current notebook you are working in. This one should say `week0`. Below that title is the *menu bar* which contains a bunch of dropdown menus, or lists of items that will show when you click on them. \n",
    "\n",
    "For instance, if you click on `File`, the first option is to create a `New notebook`, among many other things (such as `rename`). If you click on `Help` you will see a useful list of help options, such as the option to see Jupyter keyboard shortcuts. \n",
    "\n",
    "Below the Menu Bar is the *Toolbar*, which has a bunch of little icons (pictures) that you can click to do things. For instance, the little square on the left lets you save your progress. The scissor icon will remove a cell. The button that says *Run* will run the code in a cell (or format and display the markdown). If you hover your mouse cursor over an icon for a bit, a little description of what will happen if you click will appear.\n",
    "\n",
    "What about the dropdown menu that says 'Code' in the picture (and in your current window probably says 'Markdown'?). This is connected to the part of the window below the Toolbar: the big blank space below that says 'Cell'. It is so important,  we will devote all of the following section to it."
   ]
  },
  {
   "cell_type": "markdown",
   "id": "c95adf1e",
   "metadata": {},
   "source": [
    "<a id =\"code_and_markdown\"></a>\n",
    "[Back to Table of Contents](#toc)    \n",
    "\n",
    "# 5. Dualing modes: code and markdown cells\n",
    "Beneath all the menus and toolbars in Jupyter are where the magic happens: the *cells*. These are the blank spaces where you can either enter **code** (meant to be run by Python) or **markdown** (text meant to be displayed and read by humans). \n",
    "\n",
    "You are currently reading text that has been written in markdown and processed by Jupyter to display for human consumption. To tell Jupyter whether you are entering code or markdown in a cell, you can use the above dropdown menu we just discussed. If you have the current cell highlighted in the notebook you are reading, it should say `Markdown` in it. Let's talk more about markdown."
   ]
  },
  {
   "cell_type": "markdown",
   "id": "c6d0a0e0",
   "metadata": {},
   "source": [
    "## 5A. Markdown: A very brief introduction\n",
    "Markdown is a simple, easy, powerful way to format documents. It has become ubiquitous among programmers because it lets us talk to each other interspersed with code. In addition to Jupyter notebooks, it is automatically displayed at Github on the readme files (in `readme.md` files the `md` stands for 'markdown'). \n",
    "\n",
    "A few tricks you will use a lot include:\n",
    "\n",
    "- Pound signs (`#`) for headings: Enter a single pound sign (`#`) followed by a space, followed by the text, to make a large title. To make smaller titles, add more pound signs (so use `##` to make a smaller heading).\n",
    "- Italics: put an asterisk `*` before and after the word.\n",
    "- Bold: put double asterisks `**`  before and after the word.\n",
    "- Numbered lists: just write numbers with periods after them, a space, and then the text. \n",
    "- Bullet lists: for lists like the one you are reading now just enumerate each item with a dash followed by a space.\n",
    "\n",
    "Note you can click on any of the cells in this document to see how it was formatted, including this one.\n",
    "\n",
    "You don't need to know much about markdown to use Jupyter. Basically just start typing and practice, and if you get stuck Google what you need: that's what everyone does. For more on markdown, see the suggested reading in [Section 6](#more)."
   ]
  },
  {
   "cell_type": "markdown",
   "id": "cefb5d43",
   "metadata": {},
   "source": [
    "### Get some practice!\n",
    "<img align = \"right\" width = \"150\" src=\"./images/sandbox.png\" style=\"padding:5px\">\n",
    "Why don't you practice writing your own markdown?\n",
    "\n",
    "In the following cell, write some markdown that contains a single title (`#`), a numbered list, and some text with bold and italicized words in it. When you are done, display the formatted text by by clicking on `Run` in the Toolbar, or `shift-enter` on your keyboard."
   ]
  },
  {
   "cell_type": "markdown",
   "id": "f2b7c83d",
   "metadata": {},
   "source": [
    "    ---> \n",
    "\n",
    "\n",
    "    double click here and replace me with some practice markdown  \n",
    "\n",
    "\n",
    "    <---"
   ]
  },
  {
   "cell_type": "markdown",
   "id": "bb5973ed",
   "metadata": {},
   "source": [
    "## 5B: Code mode -- there will be plenty of time for that\n",
    "In addition to markdown to write formatted text, a cell can be run in *code* mode. When a cell is in code mode, Jupyter will send each line to the Python interpreter, and return the output.\n",
    "\n",
    "As an exercise, try entering a mathematical expression in the following cell and then hit Run (or `shift-enter`). Make sure the cell is in Code mode when you do or else it will just print it out as text/markdown):"
   ]
  },
  {
   "cell_type": "code",
   "execution_count": 2,
   "id": "726077fd",
   "metadata": {},
   "outputs": [],
   "source": [
    "#\n",
    "# double click here and  replace me with some math like 1/2\n",
    "#"
   ]
  },
  {
   "cell_type": "markdown",
   "id": "a61710ec",
   "metadata": {},
   "source": [
    "Beause the point of the rest of all these classes is to learn Python code, we are not going to spend more time with this now (except for the preview in Section 7 of the next class). The main thing takeaway now is to learn some basic markdown, and to understand the difference between code/markdown modes in Jupyter notebooks. "
   ]
  },
  {
   "cell_type": "markdown",
   "id": "c5d2e58b",
   "metadata": {},
   "source": [
    "<a id=\"more\"></a>\n",
    "[Back to Table of Contents](#toc)    \n",
    "# 6. To learn more\n",
    "We could literally spend an entire series of classes going over Jupyter notebooks and fun things to do with them. But the main goal here is to set it up as a tool to get Python running, and to learn some *minimal* markdown skills so you can take some notes in Jupyter when you need to. \n",
    "\n",
    "There are lots of great resources online for learning more about markdown and Jupyter:\n",
    "\n",
    "- [Realpython intro to Jupyter](https://realpython.com/jupyter-notebook-introduction/): In general, RealPython is a great online resources for learning about Python, and this is a nice introduction to Jupyter. \n",
    "- [Intro to jupyter](https://github.com/ipython/ipython-in-depth/blob/7e5ce96cc9251083979efdfc393425f1229a4a68/examples/Notebook/Notebook%20Basics.ipynb): Introduction in a Jupyter notebook, including a more in-depth overview of keyboard shortcuts and such.\n",
    "- [Markdown guide](https://www.markdownguide.org/basic-syntax/): If you want to learn a lot more Markdown basics, there are tons of web sites with detailed instructions and tutorials. I really like this guide for its no-nonsense style. \n",
    "- [Atom](https://atom.io/): a great general-purpose text editor with markdown preview capabilities. It also is good for editing code/text in general. If you ever want to mess around with markdown on your personal computer without having to start up a Jupyter notebook, I recommend using Atom.\n",
    "\n"
   ]
  },
  {
   "cell_type": "markdown",
   "id": "e7024dd3",
   "metadata": {},
   "source": [
    "<a id = \"preview\"></a>\n",
    "[Back to Table of Contents](#toc)    \n",
    "\n",
    "# 7. Preview of Week 1\n",
    "## Note this isn't done yet: \n",
    "## come back and finish when done with first class!\n",
    "First do the first class, then come back here and pick things from atbswp:\n",
    "https://www.youtube.com/playlist?list=PL0-84-yl1fUnRuXGFe_F7qSH1LEnn9LkW\n",
    "\n",
    "or:\n",
    "\n",
    "Brief intro to python stuff (microsoft course)\n",
    "    https://www.youtube.com/playlist?list=PLlrxD0HtieHhS8VzuMCfQD4uJ9yne1mE6 \n",
    "    \n",
    "Python! Parking downhill\n",
    "\n",
    "variables and data types\n",
    "strings\n",
    "printing\n",
    "if/then\n",
    "\n",
    "print: \n",
    "    https://www.youtube.com/watch?v=FhoASwgvZHk&list=PLlrxD0HtieHhS8VzuMCfQD4uJ9yne1mE6&index=5\n",
    "        \n",
    "        "
   ]
  },
  {
   "cell_type": "code",
   "execution_count": null,
   "id": "017b47dd",
   "metadata": {},
   "outputs": [],
   "source": []
  }
 ],
 "metadata": {
  "kernelspec": {
   "display_name": "Python 3",
   "language": "python",
   "name": "python3"
  },
  "language_info": {
   "codemirror_mode": {
    "name": "ipython",
    "version": 3
   },
   "file_extension": ".py",
   "mimetype": "text/x-python",
   "name": "python",
   "nbconvert_exporter": "python",
   "pygments_lexer": "ipython3",
   "version": "3.7.6"
  }
 },
 "nbformat": 4,
 "nbformat_minor": 5
}
