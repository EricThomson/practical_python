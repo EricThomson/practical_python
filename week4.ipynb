{
 "cells": [
  {
   "cell_type": "markdown",
   "id": "df309b23",
   "metadata": {},
   "source": [
    "# Week 4: From Pandas to machine learning\n",
    "\n",
    "<img width = \"250\" src=\"./images/hazel.png\" align=\"right\" style=\"padding-left:10px\">\n",
    "\n",
    "This week we will finish our tour of the data science ecosystem started in Week 3. \n",
    "\n",
    "Recall, Week 3 provided a brief overview of the main packages in the data science ecosystem, a discussion of virtual environments (including the creation of our first virtual environment `datasci`), and we explored two core packages: NumPy and Matplotlib. \n",
    "\n",
    "This week, we are going to round out our exploration of the data science ecosystem with a discussion of Pandas and scikit-learn. \n",
    "\n",
    "<a id=\"toc\"></a>\n",
    "- [1: Pandas for tabular data](#pandas)\n",
    "- [2: scikit-learn for machine learning](#scikit-learn)\n",
    "\n",
    "Incidentally, there is a good book on Python for data science that is free and available online: [Python Data Science Handbook](https://jakevdp.github.io/PythonDataScienceHandbook/). Unfortunatley, the material in that book is *way* too dense for a rapid crash course. However, when you get stuck or have questions, I encourage you to use it as a reference (along with Google)."
   ]
  },
  {
   "cell_type": "markdown",
   "id": "61a47b98",
   "metadata": {},
   "source": [
    "<a id =\"pandas\"></a>\n",
    "[Back to TOC](#toc)\n",
    "# 5: Pandas for tabular data\n",
    "We will be working through the excellent Pandas tutorial, written by Brendan Martin and others:\n",
    "\n",
    "https://www.learndatasci.com/tutorials/python-pandas-tutorial-complete-introduction-for-beginners/ \n",
    "\n",
    "Note there are lots of great resources for Pandas if you want to triangulage and go beyond the tutorial. For instance:\n",
    "- https://github.com/stefmolin/pandas-workshop \n",
    "- https://pandas.pydata.org/pandas-docs/stable/user_guide/10min.html \n",
    "\n",
    "As with the other tutorials, I will shadow along here in the notebook, explaining tiny bits along the way, while you explore and modify code in your workspaces.\n",
    "\n",
    "If you really are curious about Pandas, and want to do a deep dive, I strongly recommend Stefanie Moli's book [Hands-On Data Analysis with Pandas](https://www.amazon.com/Hands-Data-Analysis-Pandas-visualization/dp/1800563450). "
   ]
  },
  {
   "cell_type": "markdown",
   "id": "5742cd8d",
   "metadata": {},
   "source": [
    "## Intro to Pandas\n",
    "This is meant to cover the sections in the tutorial titled **What's Pandas for**, **How does pandas fit into the data science toolkit?**. These are helpful overview sections that hopefully will help explain what Pandas is all about. Basically, if you have a bunch of data and want to collect it together in columns (like an Excel spreadsheet), then Pandas is a great choice. In many ways it is better than Excel because it is way faster (built on top of NumPy), and has great built-in tools for analysis and plotting (built on top of Matplotlib). \n",
    "\n",
    "We have already installed pandas, so don't have to worry about that. As usual in Python, when you import pandas you use an alias (`pd`):"
   ]
  },
  {
   "cell_type": "code",
   "execution_count": 49,
   "id": "a4e94d38",
   "metadata": {},
   "outputs": [],
   "source": [
    "import pandas as pd\n",
    "import numpy as np"
   ]
  },
  {
   "cell_type": "markdown",
   "id": "ba8324e4",
   "metadata": {},
   "source": [
    "## Core components of pandas: Series and DataFrames\n",
    "This is the first substantive part of the tutorial. Frankly, the difference between a series and dataframe can be confusing (in particular, why do we need a separate `series` data class?). It isn't *too* dangerous to think of a series as a single column of data, while a dataframe is a full 2d table that includes a fuller repertoire of tools for analyzing and visualizing the data within that table. We will focus on dataframes, which you will use a lot more, and are a lot more intuitive.\n",
    "\n",
    "### Creating dataframes from scratch\n",
    "It is useful to be able to quickly create dataframes from scratch using a dictionary, so be sure to practice that in your workspace. I'm going to provide a simple example here of a dataframe to hold some data about a rat. This is the kind of thing I do in a workspace when I am learning a library:"
   ]
  },
  {
   "cell_type": "code",
   "execution_count": 50,
   "id": "d3b32aa5",
   "metadata": {},
   "outputs": [
    {
     "name": "stdout",
     "output_type": "stream",
     "text": [
      "dataframe created\n"
     ]
    }
   ],
   "source": [
    "rat1_image = np.random.rand(2,2)\n",
    "rat2_image = np.random.rand(2,2)\n",
    "rat3_image = np.random.rand(2,2)\n",
    "rat_data = {'Behavior': [.0, np.nan, .1],\n",
    "            'Genotype': [1, 0, 1],\n",
    "            'Sex': ['M', 'M', 'F'],\n",
    "            'Images': [rat1_image, rat2_image, rat3_image]}\n",
    "rat_df = pd.DataFrame(rat_data, index=['Rat1', 'Rat2', 'Rat3'])\n",
    "print('dataframe created')"
   ]
  },
  {
   "cell_type": "markdown",
   "id": "8c637fa0",
   "metadata": {},
   "source": [
    "We will revisit our rat dataframe later to emphasize some points. Notice the `np.nan` in the behavior array, that I've used both floats and ints (you can set floats by putting a decimal in a number and ints by not using decimals), and the fact that I've thrown in some \"images\" (2x2 numpy arrays in there). I did all this because the examples in the tutorial are very focused on text, and I thought it would be instructive to see how Pandas handles different types of numerical formats, which is much more common in neuroscience. \n",
    "\n",
    "For the different examples in the tutorial, I encourage you in your workspaces to make similar examples, or to build on and apply the methods to the `rat_df` example above. "
   ]
  },
  {
   "cell_type": "markdown",
   "id": "2e3c523d",
   "metadata": {},
   "source": [
    "### Reading in data from CSVs\n",
    "The tutorial goes over many ways to read in data: from csv, databases, and json files. This is great breadth, but please focus on csv files for now to save time. I have placed the two csv files in the `data/` folder in the repository, so when the tutorial says to load directly using `filename.csv` you should instead load using the relative filepath `./data/filename.csv`. For instance:"
   ]
  },
  {
   "cell_type": "code",
   "execution_count": 51,
   "id": "73f0ac04",
   "metadata": {},
   "outputs": [],
   "source": [
    "df = pd.read_csv('./data/purchases.csv')"
   ]
  },
  {
   "cell_type": "markdown",
   "id": "b26220e2",
   "metadata": {},
   "source": [
    "Note as discussed in the tutorial, you will want to modify that with an `index_col` keyword in your workspace. Again, as I mentioned, please skip the sections on `JSON` and `SQL` databases, you are already doing plenty, and the majority of your data you work with will be csv."
   ]
  },
  {
   "cell_type": "markdown",
   "id": "604d3001",
   "metadata": {},
   "source": [
    "### Converting a dataframe to CSV\n",
    "Once you have a dataframe, it is easy to save it to CSV using the `to_csv()` method. This is extremely helpful, not just in the context of Pandas, but when working with numpy arrays. This is what I often do when working with calcium imaging data for instance. Pandas just provides a great API for handling data. Say we have calcium data and want to save it: Numpy is sometimes weird when it comes to saving data, while pandas simply works really intuitively. \n",
    "\n",
    "So, let's say we have a 1000 x 30 array (maybe each column is a calcium trace, and we have 30 neurons):"
   ]
  },
  {
   "cell_type": "code",
   "execution_count": 52,
   "id": "41dd483c",
   "metadata": {},
   "outputs": [],
   "source": [
    "import numpy as np\n",
    "\n",
    "our_data = np.random.rand(1000, 30)"
   ]
  },
  {
   "cell_type": "markdown",
   "id": "fba92102",
   "metadata": {},
   "source": [
    "And we want to save this as a csv file. It is really easy to quickly convert it to a Pandas dataframe, and export as a CSV:"
   ]
  },
  {
   "cell_type": "code",
   "execution_count": 53,
   "id": "58a8688c",
   "metadata": {},
   "outputs": [],
   "source": [
    "pd.DataFrame(our_data).to_csv('./data/our_data.csv')"
   ]
  },
  {
   "cell_type": "markdown",
   "id": "93d15cf9",
   "metadata": {},
   "source": [
    "You will notice if you open that file up in Excel the first row represents the index of each row of the array (0...9999). If you don't want that in your csv file, you can add `index=None` to `to_csv()`. Also, the top row of the file is a header where each column is numbered `0...29`. If you don't want that you can add the keyword `header=None` to `to_csv()`. "
   ]
  },
  {
   "cell_type": "markdown",
   "id": "82b2b501",
   "metadata": {},
   "source": [
    "### Workspace for creating and saving Dataframes\n",
    "Create dataframes, load from CSV, and save dataframes. Don't worry if you feel like you don't know what to do with them yet. That is coming next. "
   ]
  },
  {
   "cell_type": "code",
   "execution_count": 54,
   "id": "60148864",
   "metadata": {},
   "outputs": [],
   "source": [
    "# workspace to play with your first dataframes."
   ]
  },
  {
   "cell_type": "markdown",
   "id": "0cbfe9b0",
   "metadata": {},
   "source": [
    "## Most important dataframe operations\n",
    "The point of Pandas is that it makes it easy to explore and visualize your data. This section of the tutorial goes over most of those key operations.\n",
    "\n",
    "The tutorial is cumulative in the sense that it builds on each step, so don't skip your steps. It sort of goes over the basic operations you would go through when you inherit a data set, so provides a nice introduction to the first steps in data analysis.\n",
    "\n",
    "It provides an IMDB movie database, which I include in your data folder (be sure to load it from the data folder: the path will be slightly different from the tutorial, as mentioned above)."
   ]
  },
  {
   "cell_type": "code",
   "execution_count": 55,
   "id": "becf1080",
   "metadata": {},
   "outputs": [],
   "source": [
    "movies_df = pd.read_csv(\"./data/IMDB-Movie-Data.csv\", index_col=\"Title\")"
   ]
  },
  {
   "cell_type": "markdown",
   "id": "faf60fc7",
   "metadata": {},
   "source": [
    "### Viewing your data: head() and tail()\n",
    "The `head()` method is always the first I use after I create a dataframe: first it lets me know if I have created it correctly, and it shows me the basic structure of the dataframe."
   ]
  },
  {
   "cell_type": "markdown",
   "id": "752229e9",
   "metadata": {},
   "source": [
    "### Getting info about your data: info()\n",
    "`info()` is almost as useful as `head()` as it provides a helpful summary of the dataframe, telling you how many entries (rows) the dataframe has, how many columns, the name of each column, the type of data in each column, and approximately how much memory the dataframe takes up.  \n",
    "\n",
    "For each column, it tells you the number of *non-null* rows it contains (i.e., the number of rows that actually have values). You will see when you play with this in your workspace, that there are a couple of columns that are missing values. The tutorial will discuss this wrinkle soon.\n",
    "\n",
    "*Note:* `info()` is not always super informative about your data types. When they are types whose size is not fixed (arrays, strings, etc), then it will just tell you the type is `object`. For instance, check out the output for our `rat_df` defined above:"
   ]
  },
  {
   "cell_type": "code",
   "execution_count": 56,
   "id": "9f4ea0fa",
   "metadata": {},
   "outputs": [
    {
     "name": "stdout",
     "output_type": "stream",
     "text": [
      "<class 'pandas.core.frame.DataFrame'>\n",
      "Index: 3 entries, Rat1 to Rat3\n",
      "Data columns (total 4 columns):\n",
      " #   Column    Non-Null Count  Dtype  \n",
      "---  ------    --------------  -----  \n",
      " 0   Behavior  2 non-null      float64\n",
      " 1   Genotype  3 non-null      int64  \n",
      " 2   Sex       3 non-null      object \n",
      " 3   Images    3 non-null      object \n",
      "dtypes: float64(1), int64(1), object(2)\n",
      "memory usage: 120.0+ bytes\n"
     ]
    }
   ],
   "source": [
    "rat_df.info()"
   ]
  },
  {
   "cell_type": "markdown",
   "id": "7a87bf41",
   "metadata": {},
   "source": [
    "Notice that our `2x2` numpy arrays are given type `object`. "
   ]
  },
  {
   "cell_type": "markdown",
   "id": "c80fff97",
   "metadata": {},
   "source": [
    "### Workspace for head, tail, info\n",
    "Be sure you are comfortable with exploring your dataframe using the `head()`, `tail()`, and `info()` methods. You can also check the `shape` attribute of a dataframe, just like you can a numpy array."
   ]
  },
  {
   "cell_type": "code",
   "execution_count": 57,
   "id": "f6532b28",
   "metadata": {},
   "outputs": [],
   "source": [
    "# play with heads, tails, and info\n"
   ]
  },
  {
   "cell_type": "markdown",
   "id": "20b7cd19",
   "metadata": {},
   "source": [
    "## An aside on data wrangling\n",
    "The next couple of sections are about *data wrangling*. This is the stuff that people rarely talk about, but that data scientists spend probably 90% of their time doing. \n",
    "\n",
    "This involves things like handling duplicate data (duplicate rows in tables), missing data points, and how to tweak names (e.g., spaces in names often cause errors in many software packages).\n",
    "\n",
    "As I mentioned above, this tutorial is cumulative, so you do not want to skip these sections, as the later bits of the tutorial will make use of the bits you do here. Luckily Pandas makes data wrangling relatively quick and painless."
   ]
  },
  {
   "cell_type": "markdown",
   "id": "bf58bccd",
   "metadata": {},
   "source": [
    "### Handling duplicates: drop_duplicates()\n",
    "The tutorial has a really nice section on handling duplicates: I personally don't run into this a lot with my neural data, but when you download data from the Wild West, you will see it quite a bit. It is really easy to quickly get rid of duplicate data in a dataframe with `df.drop_duplicates()`, as discussed in the tutorial."
   ]
  },
  {
   "cell_type": "code",
   "execution_count": 58,
   "id": "39109926",
   "metadata": {},
   "outputs": [],
   "source": [
    "# workspace for handling duplicates"
   ]
  },
  {
   "cell_type": "markdown",
   "id": "7de1ab84",
   "metadata": {},
   "source": [
    "### Column name cleanup\n",
    "This section of the tutorial goes over multiple ways to clean up or change column names. There is a lot going on, so it deserves its own workspace. Generally, it is a pain to have column names that are too long, with spaces, that make it hard to see a compact representation when you use `df.head()` in your notebooks. Spaces in names, in particular, can wreak havoc with some software packages and throw errors. Also, many people like to have consistency in terms of upper/lower case etc.. This is aesthetically pleasing, but also makes things more predictable and easy to work with. \n",
    "\n",
    "You can always inspect the columns of a dataframe with `df.columns`."
   ]
  },
  {
   "cell_type": "code",
   "execution_count": 59,
   "id": "d46b8cbb",
   "metadata": {},
   "outputs": [
    {
     "data": {
      "text/plain": [
       "Index(['Rank', 'Genre', 'Description', 'Director', 'Actors', 'Year',\n",
       "       'Runtime (Minutes)', 'Rating', 'Votes', 'Revenue (Millions)',\n",
       "       'Metascore'],\n",
       "      dtype='object')"
      ]
     },
     "execution_count": 59,
     "metadata": {},
     "output_type": "execute_result"
    }
   ],
   "source": [
    "movies_df.columns"
   ]
  },
  {
   "cell_type": "markdown",
   "id": "87e84e92",
   "metadata": {},
   "source": [
    "As discussed in the tutorial, there are a couple of ways you can rename columns:\n",
    "- Use the `df.rename()` method, feeding it the `column` keyword with a dictionary containing the old name/new name as key/value pairs (be sure to set `inplace=True` to change the dataframe in memory). \n",
    "- Rename directly with a list `df.columns = [list_of_columns]` where `[list_of_columns]` is a list of strings containing the column names you want. \n"
   ]
  },
  {
   "cell_type": "markdown",
   "id": "2aa8fc9d",
   "metadata": {},
   "source": [
    "### Let's talk about comprehensions\n",
    "The list comprehension method the tutorial discusses is a special case of renaming with a list.\n",
    "\n",
    "List comprehension in Python is an extremely efficient way to create a new list from an original/source list. It does this by iteratively applying the same function to each element of the original list, and the resulting set of new elements is pushed into a new list. \n",
    "\n",
    "It uses the following syntax:\n",
    "\n",
    "    new_list = [function(elt) for elt in original list]\n",
    "\n",
    "Basically, each element of `original_list` is pushed into `new_list` after `function()` is applied to it. This may all seem pretty abstract, so let's learn it by looking at a couple of really simple examples. \n",
    "\n",
    "First, let's square each element of a list (recall you can square a number `x` in Python with `x**2`):"
   ]
  },
  {
   "cell_type": "code",
   "execution_count": 60,
   "id": "ead83549",
   "metadata": {},
   "outputs": [
    {
     "name": "stdout",
     "output_type": "stream",
     "text": [
      "[1, 2, 3, 4, 5, 6, 7, 8]\n",
      "[1, 4, 9, 16, 25, 36, 49, 64]\n"
     ]
    }
   ],
   "source": [
    "original_list1 = [1, 2, 3, 4, 5, 6, 7, 8]\n",
    "squared_list = [elt**2 for elt in original_list1]\n",
    "print(original_list1)\n",
    "print(squared_list)"
   ]
  },
  {
   "cell_type": "markdown",
   "id": "8cf738a5",
   "metadata": {},
   "source": [
    "Second, closer to the example in the tutorial, let's say we want to get the lower case of every element in a list of strings:"
   ]
  },
  {
   "cell_type": "code",
   "execution_count": 61,
   "id": "5b1818d4",
   "metadata": {},
   "outputs": [
    {
     "name": "stdout",
     "output_type": "stream",
     "text": [
      "['egg', 'orange juice', 'toast', 'oatmeal pancakes']\n"
     ]
    }
   ],
   "source": [
    "food_list = ['Egg', 'Orange Juice', 'Toast', 'Oatmeal Pancakes']\n",
    "lower_list = [food.lower() for food in food_list]\n",
    "print(lower_list)"
   ]
  },
  {
   "cell_type": "markdown",
   "id": "c3be0d4d",
   "metadata": {},
   "source": [
    "This is what the tutorial uses for renaming columns (this trick exploits the fact that  when you iterate over a pandas dataframe in Python, it returns the column names)."
   ]
  },
  {
   "cell_type": "markdown",
   "id": "111879c3",
   "metadata": {},
   "source": [
    "## Workspace for column cleanup\n",
    "As mentioned in the tutorial, it is a good idea to convert your column names to lowercase, get rid of spaces, and get rid of special characters (like parentheses) in column names. Hence, be sure you follow along in the cleanup of column names for the `movie_df` examples, as they will be used in the rest of the tutorial. \n",
    "\n",
    "I strongly encourage you to play with list comprehension too, it is one of the cooler tricks in Python. "
   ]
  },
  {
   "cell_type": "code",
   "execution_count": 62,
   "id": "3d950a54",
   "metadata": {},
   "outputs": [],
   "source": [
    "# column cleanup workspace"
   ]
  },
  {
   "cell_type": "code",
   "execution_count": 63,
   "id": "65c394b8",
   "metadata": {},
   "outputs": [
    {
     "data": {
      "text/plain": [
       "Index(['Rank', 'Genre', 'Description', 'Director', 'Actors', 'Year',\n",
       "       'Runtime (Minutes)', 'Rating', 'Votes', 'Revenue (Millions)',\n",
       "       'Metascore'],\n",
       "      dtype='object')"
      ]
     },
     "execution_count": 63,
     "metadata": {},
     "output_type": "execute_result"
    }
   ],
   "source": [
    "movies_df.columns"
   ]
  },
  {
   "cell_type": "code",
   "execution_count": 64,
   "id": "f82593b1",
   "metadata": {},
   "outputs": [
    {
     "data": {
      "text/plain": [
       "{'Runtime (Minutes)': 'Runtime', 'Revenue (Millions)': 'Revenue_millions'}"
      ]
     },
     "execution_count": 64,
     "metadata": {},
     "output_type": "execute_result"
    }
   ],
   "source": [
    "# create new column names to remove special characters\n",
    "new_col_names = {'Runtime (Minutes)': 'Runtime',\n",
    "                 'Revenue (Millions)': 'Revenue_millions'}\n",
    "new_col_names"
   ]
  },
  {
   "cell_type": "code",
   "execution_count": 65,
   "id": "84edbbbc",
   "metadata": {},
   "outputs": [
    {
     "data": {
      "text/plain": [
       "Index(['Rank', 'Genre', 'Description', 'Director', 'Actors', 'Year', 'Runtime',\n",
       "       'Rating', 'Votes', 'Revenue_millions', 'Metascore'],\n",
       "      dtype='object')"
      ]
     },
     "execution_count": 65,
     "metadata": {},
     "output_type": "execute_result"
    }
   ],
   "source": [
    "# rename with dict of new names, be sure inplace=True\n",
    "movies_df.rename(columns=new_col_names, inplace=True);\n",
    "\n",
    "# check that it worked\n",
    "movies_df.columns"
   ]
  },
  {
   "cell_type": "code",
   "execution_count": 66,
   "id": "a4fc834b",
   "metadata": {},
   "outputs": [
    {
     "name": "stdout",
     "output_type": "stream",
     "text": [
      "Rank\n",
      "Genre\n",
      "Description\n",
      "Director\n",
      "Actors\n",
      "Year\n",
      "Runtime\n",
      "Rating\n",
      "Votes\n",
      "Revenue_millions\n",
      "Metascore\n"
     ]
    }
   ],
   "source": [
    "# show that if you loop through df it prints columns\n",
    "for val in movies_df:\n",
    "    print(val)"
   ]
  },
  {
   "cell_type": "code",
   "execution_count": 67,
   "id": "79429950",
   "metadata": {},
   "outputs": [
    {
     "data": {
      "text/plain": [
       "Index(['rank', 'genre', 'description', 'director', 'actors', 'year', 'runtime',\n",
       "       'rating', 'votes', 'revenue_millions', 'metascore'],\n",
       "      dtype='object')"
      ]
     },
     "execution_count": 67,
     "metadata": {},
     "output_type": "execute_result"
    }
   ],
   "source": [
    "# use list comprehension to turn to lower case\n",
    "movies_df.columns = [col.lower() for col in movies_df]\n",
    "movies_df.columns"
   ]
  },
  {
   "cell_type": "markdown",
   "id": "abc2991c",
   "metadata": {},
   "source": [
    "### Working with missing values: removal or imputation (or none of the above)\n",
    "When you inherit a dataset there will often be values missing for some columns. How do you handle that? \n",
    "\n",
    " There are a few options people tend to use in Pandas:\n",
    "\n",
    "1. Drop the *rows* with null values using `df.dropna()`.\n",
    "2. Drop *columns* that contain null values using `df.dropna()` with `axis=1` keyword.\n",
    "3. Use *imputation* to fill in/replace the null values with some other value like the mean of the non-null values in that column.\n",
    "4. Just leave them in there and calculate your aggregate statistics with the remaining, non-null, values.\n",
    "\n",
    "The tutorial is pretty good in that it discusses all of the above options, but bear in mind they are not all equally reasonable in all contexts.\n",
    "\n",
    "As an aside: I'm a big fan of the fourth option, as I don't really buy into the assumption that missing data is some urgent problem you have to \"handle\". Especially with numerical data, I prefer to just leave NaN's there and work with them. Ablating data (options 1 and 2), or adding in pseudodata (option 3) just so you can smile when you have no non-null values when you run `df.info()` is an extreme measure that shouldn't be taken lightly. \n",
    "\n",
    "Recall that `df.info()` tells you, for each column, how many non-null values it contains. "
   ]
  },
  {
   "cell_type": "code",
   "execution_count": 68,
   "id": "24b5f450",
   "metadata": {},
   "outputs": [
    {
     "name": "stdout",
     "output_type": "stream",
     "text": [
      "<class 'pandas.core.frame.DataFrame'>\n",
      "Index: 1000 entries, Guardians of the Galaxy to Nine Lives\n",
      "Data columns (total 11 columns):\n",
      " #   Column            Non-Null Count  Dtype  \n",
      "---  ------            --------------  -----  \n",
      " 0   rank              1000 non-null   int64  \n",
      " 1   genre             1000 non-null   object \n",
      " 2   description       1000 non-null   object \n",
      " 3   director          1000 non-null   object \n",
      " 4   actors            1000 non-null   object \n",
      " 5   year              1000 non-null   int64  \n",
      " 6   runtime           1000 non-null   int64  \n",
      " 7   rating            1000 non-null   float64\n",
      " 8   votes             1000 non-null   int64  \n",
      " 9   revenue_millions  872 non-null    float64\n",
      " 10  metascore         936 non-null    float64\n",
      "dtypes: float64(3), int64(4), object(4)\n",
      "memory usage: 93.8+ KB\n"
     ]
    }
   ],
   "source": [
    "movies_df.info()"
   ]
  },
  {
   "cell_type": "markdown",
   "id": "ed7abb58",
   "metadata": {},
   "source": [
    "As described in the tutorial, you can count the number of null values in each column of a dataframe, and this should complement the result of `df.info()`:"
   ]
  },
  {
   "cell_type": "code",
   "execution_count": 69,
   "id": "2b7f38e2",
   "metadata": {},
   "outputs": [
    {
     "data": {
      "text/plain": [
       "rank                  0\n",
       "genre                 0\n",
       "description           0\n",
       "director              0\n",
       "actors                0\n",
       "year                  0\n",
       "runtime               0\n",
       "rating                0\n",
       "votes                 0\n",
       "revenue_millions    128\n",
       "metascore            64\n",
       "dtype: int64"
      ]
     },
     "execution_count": 69,
     "metadata": {},
     "output_type": "execute_result"
    }
   ],
   "source": [
    "movies_df.isnull().sum()"
   ]
  },
  {
   "cell_type": "markdown",
   "id": "388f6d8b",
   "metadata": {},
   "source": [
    "You can then decide what you want to do with them. The tutorial has a very nice example of how to use imputation to replace the null values in `revenue_millions` with the mean values from the non-null rows. It leaves the `metascore` column with the null values there. I recommend working through the imputation section:"
   ]
  },
  {
   "cell_type": "code",
   "execution_count": 70,
   "id": "2deb2626",
   "metadata": {},
   "outputs": [],
   "source": [
    "# workspace for \"fixing\" missing revenue values with imputation"
   ]
  },
  {
   "cell_type": "code",
   "execution_count": 71,
   "id": "c7509fea",
   "metadata": {},
   "outputs": [
    {
     "data": {
      "text/plain": [
       "pandas.core.series.Series"
      ]
     },
     "execution_count": 71,
     "metadata": {},
     "output_type": "execute_result"
    }
   ],
   "source": [
    "revenue = movies_df.revenue_millions\n",
    "type(revenue)  # you have just extracted a series"
   ]
  },
  {
   "cell_type": "code",
   "execution_count": 72,
   "id": "124d40a8",
   "metadata": {},
   "outputs": [
    {
     "data": {
      "text/plain": [
       "Title\n",
       "Guardians of the Galaxy    333.13\n",
       "Prometheus                 126.46\n",
       "Split                      138.12\n",
       "Sing                       270.32\n",
       "Suicide Squad              325.02\n",
       "Name: revenue_millions, dtype: float64"
      ]
     },
     "execution_count": 72,
     "metadata": {},
     "output_type": "execute_result"
    }
   ],
   "source": [
    "revenue.head()"
   ]
  },
  {
   "cell_type": "code",
   "execution_count": 73,
   "id": "90bb22da",
   "metadata": {},
   "outputs": [
    {
     "name": "stdout",
     "output_type": "stream",
     "text": [
      "82.95637614678898\n"
     ]
    }
   ],
   "source": [
    "revenue_mean = revenue.mean()\n",
    "print(revenue_mean)"
   ]
  },
  {
   "cell_type": "code",
   "execution_count": 74,
   "id": "c14e5edb",
   "metadata": {},
   "outputs": [
    {
     "data": {
      "text/plain": [
       "rank                 0\n",
       "genre                0\n",
       "description          0\n",
       "director             0\n",
       "actors               0\n",
       "year                 0\n",
       "runtime              0\n",
       "rating               0\n",
       "votes                0\n",
       "revenue_millions     0\n",
       "metascore           64\n",
       "dtype: int64"
      ]
     },
     "execution_count": 74,
     "metadata": {},
     "output_type": "execute_result"
    }
   ],
   "source": [
    "revenue.fillna(revenue_mean, inplace=True)\n",
    "movies_df.isnull().sum()"
   ]
  },
  {
   "cell_type": "markdown",
   "id": "6a5cae4a",
   "metadata": {},
   "source": [
    "### We're done wrangling our data: now what?\n",
    "So let's assume we are happy with our data wrangling: that is, we have renamed our columns so they are all lower case and have no spaces (yeah!), removed missing values from the `revenue_millions` column for some reason, and luckily didn't have any duplicate rows to deal with. \n",
    "\n",
    "When we have finished wrangling our data, we are saying we are basically done poking and prodding it, and are ready to start *analyzing* it. Data analysis can get really complex and esoteric, but it almost always involves the same two basic steps:\n",
    "\n",
    "- Do simple descriptive statistics on individual variables and relationships between variables.\n",
    "- Visualize your variables. \n",
    "\n",
    "Pretty much no matter how fancy your data gets, you typically will do something like the above steps when you first inherit some data. Luckily, Pandas makes this really easy for the type of tabular data it caters to."
   ]
  },
  {
   "cell_type": "markdown",
   "id": "49e6e8f1",
   "metadata": {},
   "source": [
    "### Understanding your continuous variables: describe()\n",
    "As just mentioned, when first examining a data set, we usually want to do some simple descriptive statistics on our variables. This is built in to Pandas: the `describe()` method will spit out the mean, standard deviation, min, max, median, and other statistics for each column that contains numerical data:"
   ]
  },
  {
   "cell_type": "code",
   "execution_count": 75,
   "id": "fe767347",
   "metadata": {},
   "outputs": [
    {
     "data": {
      "text/html": [
       "<div>\n",
       "<style scoped>\n",
       "    .dataframe tbody tr th:only-of-type {\n",
       "        vertical-align: middle;\n",
       "    }\n",
       "\n",
       "    .dataframe tbody tr th {\n",
       "        vertical-align: top;\n",
       "    }\n",
       "\n",
       "    .dataframe thead th {\n",
       "        text-align: right;\n",
       "    }\n",
       "</style>\n",
       "<table border=\"1\" class=\"dataframe\">\n",
       "  <thead>\n",
       "    <tr style=\"text-align: right;\">\n",
       "      <th></th>\n",
       "      <th>rank</th>\n",
       "      <th>year</th>\n",
       "      <th>runtime</th>\n",
       "      <th>rating</th>\n",
       "      <th>votes</th>\n",
       "      <th>revenue_millions</th>\n",
       "      <th>metascore</th>\n",
       "    </tr>\n",
       "  </thead>\n",
       "  <tbody>\n",
       "    <tr>\n",
       "      <th>count</th>\n",
       "      <td>1000.000000</td>\n",
       "      <td>1000.000000</td>\n",
       "      <td>1000.000000</td>\n",
       "      <td>1000.000000</td>\n",
       "      <td>1.000000e+03</td>\n",
       "      <td>1000.000000</td>\n",
       "      <td>936.000000</td>\n",
       "    </tr>\n",
       "    <tr>\n",
       "      <th>mean</th>\n",
       "      <td>500.500000</td>\n",
       "      <td>2012.783000</td>\n",
       "      <td>113.172000</td>\n",
       "      <td>6.723200</td>\n",
       "      <td>1.698083e+05</td>\n",
       "      <td>82.956376</td>\n",
       "      <td>58.985043</td>\n",
       "    </tr>\n",
       "    <tr>\n",
       "      <th>std</th>\n",
       "      <td>288.819436</td>\n",
       "      <td>3.205962</td>\n",
       "      <td>18.810908</td>\n",
       "      <td>0.945429</td>\n",
       "      <td>1.887626e+05</td>\n",
       "      <td>96.412043</td>\n",
       "      <td>17.194757</td>\n",
       "    </tr>\n",
       "    <tr>\n",
       "      <th>min</th>\n",
       "      <td>1.000000</td>\n",
       "      <td>2006.000000</td>\n",
       "      <td>66.000000</td>\n",
       "      <td>1.900000</td>\n",
       "      <td>6.100000e+01</td>\n",
       "      <td>0.000000</td>\n",
       "      <td>11.000000</td>\n",
       "    </tr>\n",
       "    <tr>\n",
       "      <th>25%</th>\n",
       "      <td>250.750000</td>\n",
       "      <td>2010.000000</td>\n",
       "      <td>100.000000</td>\n",
       "      <td>6.200000</td>\n",
       "      <td>3.630900e+04</td>\n",
       "      <td>17.442500</td>\n",
       "      <td>47.000000</td>\n",
       "    </tr>\n",
       "    <tr>\n",
       "      <th>50%</th>\n",
       "      <td>500.500000</td>\n",
       "      <td>2014.000000</td>\n",
       "      <td>111.000000</td>\n",
       "      <td>6.800000</td>\n",
       "      <td>1.107990e+05</td>\n",
       "      <td>60.375000</td>\n",
       "      <td>59.500000</td>\n",
       "    </tr>\n",
       "    <tr>\n",
       "      <th>75%</th>\n",
       "      <td>750.250000</td>\n",
       "      <td>2016.000000</td>\n",
       "      <td>123.000000</td>\n",
       "      <td>7.400000</td>\n",
       "      <td>2.399098e+05</td>\n",
       "      <td>99.177500</td>\n",
       "      <td>72.000000</td>\n",
       "    </tr>\n",
       "    <tr>\n",
       "      <th>max</th>\n",
       "      <td>1000.000000</td>\n",
       "      <td>2016.000000</td>\n",
       "      <td>191.000000</td>\n",
       "      <td>9.000000</td>\n",
       "      <td>1.791916e+06</td>\n",
       "      <td>936.630000</td>\n",
       "      <td>100.000000</td>\n",
       "    </tr>\n",
       "  </tbody>\n",
       "</table>\n",
       "</div>"
      ],
      "text/plain": [
       "              rank         year      runtime       rating         votes  \\\n",
       "count  1000.000000  1000.000000  1000.000000  1000.000000  1.000000e+03   \n",
       "mean    500.500000  2012.783000   113.172000     6.723200  1.698083e+05   \n",
       "std     288.819436     3.205962    18.810908     0.945429  1.887626e+05   \n",
       "min       1.000000  2006.000000    66.000000     1.900000  6.100000e+01   \n",
       "25%     250.750000  2010.000000   100.000000     6.200000  3.630900e+04   \n",
       "50%     500.500000  2014.000000   111.000000     6.800000  1.107990e+05   \n",
       "75%     750.250000  2016.000000   123.000000     7.400000  2.399098e+05   \n",
       "max    1000.000000  2016.000000   191.000000     9.000000  1.791916e+06   \n",
       "\n",
       "       revenue_millions   metascore  \n",
       "count       1000.000000  936.000000  \n",
       "mean          82.956376   58.985043  \n",
       "std           96.412043   17.194757  \n",
       "min            0.000000   11.000000  \n",
       "25%           17.442500   47.000000  \n",
       "50%           60.375000   59.500000  \n",
       "75%           99.177500   72.000000  \n",
       "max          936.630000  100.000000  "
      ]
     },
     "execution_count": 75,
     "metadata": {},
     "output_type": "execute_result"
    }
   ],
   "source": [
    "movies_df.describe()"
   ]
  },
  {
   "cell_type": "markdown",
   "id": "b7da1f8a",
   "metadata": {},
   "source": [
    "If you apply `describe()` to columns that contains a string or another categorical variable, you will get a relatively simple analysis of the number of categories:"
   ]
  },
  {
   "cell_type": "code",
   "execution_count": 76,
   "id": "a428e9e0",
   "metadata": {},
   "outputs": [
    {
     "data": {
      "text/plain": [
       "count                        1000\n",
       "unique                        207\n",
       "top       Action,Adventure,Sci-Fi\n",
       "freq                           50\n",
       "Name: genre, dtype: object"
      ]
     },
     "execution_count": 76,
     "metadata": {},
     "output_type": "execute_result"
    }
   ],
   "source": [
    "movies_df['genre'].describe()"
   ]
  },
  {
   "cell_type": "markdown",
   "id": "d48b89ed",
   "metadata": {},
   "source": [
    "For such categorical data, a more useful method that provides a more detailed breakdown of the number in each category, a more useful method is `value_counts()`:"
   ]
  },
  {
   "cell_type": "code",
   "execution_count": 77,
   "id": "da9855a4",
   "metadata": {},
   "outputs": [
    {
     "data": {
      "text/plain": [
       "Action,Adventure,Sci-Fi    50\n",
       "Drama                      48\n",
       "Comedy,Drama,Romance       35\n",
       "Comedy                     32\n",
       "Drama,Romance              31\n",
       "                           ..\n",
       "Action,Comedy,Family        1\n",
       "Action,Crime,Fantasy        1\n",
       "Comedy,Mystery              1\n",
       "Adventure,Comedy,Horror     1\n",
       "Comedy,Family,Fantasy       1\n",
       "Name: genre, Length: 207, dtype: int64"
      ]
     },
     "execution_count": 77,
     "metadata": {},
     "output_type": "execute_result"
    }
   ],
   "source": [
    "movies_df.genre.value_counts()"
   ]
  },
  {
   "cell_type": "markdown",
   "id": "113cbb53",
   "metadata": {},
   "source": [
    "### Looking at pairwise correlations between variables\n",
    "In addition to basic descriptive stats on individual variables, we often want to know basic pairwise stats on the numerical variables in the dataframe. This is provided with `df.corr()`:"
   ]
  },
  {
   "cell_type": "code",
   "execution_count": 78,
   "id": "70203ef3",
   "metadata": {},
   "outputs": [
    {
     "data": {
      "text/html": [
       "<div>\n",
       "<style scoped>\n",
       "    .dataframe tbody tr th:only-of-type {\n",
       "        vertical-align: middle;\n",
       "    }\n",
       "\n",
       "    .dataframe tbody tr th {\n",
       "        vertical-align: top;\n",
       "    }\n",
       "\n",
       "    .dataframe thead th {\n",
       "        text-align: right;\n",
       "    }\n",
       "</style>\n",
       "<table border=\"1\" class=\"dataframe\">\n",
       "  <thead>\n",
       "    <tr style=\"text-align: right;\">\n",
       "      <th></th>\n",
       "      <th>rank</th>\n",
       "      <th>year</th>\n",
       "      <th>runtime</th>\n",
       "      <th>rating</th>\n",
       "      <th>votes</th>\n",
       "      <th>revenue_millions</th>\n",
       "      <th>metascore</th>\n",
       "    </tr>\n",
       "  </thead>\n",
       "  <tbody>\n",
       "    <tr>\n",
       "      <th>rank</th>\n",
       "      <td>1.000000</td>\n",
       "      <td>-0.261605</td>\n",
       "      <td>-0.221739</td>\n",
       "      <td>-0.219555</td>\n",
       "      <td>-0.283876</td>\n",
       "      <td>-0.252996</td>\n",
       "      <td>-0.191869</td>\n",
       "    </tr>\n",
       "    <tr>\n",
       "      <th>year</th>\n",
       "      <td>-0.261605</td>\n",
       "      <td>1.000000</td>\n",
       "      <td>-0.164900</td>\n",
       "      <td>-0.211219</td>\n",
       "      <td>-0.411904</td>\n",
       "      <td>-0.117562</td>\n",
       "      <td>-0.079305</td>\n",
       "    </tr>\n",
       "    <tr>\n",
       "      <th>runtime</th>\n",
       "      <td>-0.221739</td>\n",
       "      <td>-0.164900</td>\n",
       "      <td>1.000000</td>\n",
       "      <td>0.392214</td>\n",
       "      <td>0.407062</td>\n",
       "      <td>0.247834</td>\n",
       "      <td>0.211978</td>\n",
       "    </tr>\n",
       "    <tr>\n",
       "      <th>rating</th>\n",
       "      <td>-0.219555</td>\n",
       "      <td>-0.211219</td>\n",
       "      <td>0.392214</td>\n",
       "      <td>1.000000</td>\n",
       "      <td>0.511537</td>\n",
       "      <td>0.189527</td>\n",
       "      <td>0.631897</td>\n",
       "    </tr>\n",
       "    <tr>\n",
       "      <th>votes</th>\n",
       "      <td>-0.283876</td>\n",
       "      <td>-0.411904</td>\n",
       "      <td>0.407062</td>\n",
       "      <td>0.511537</td>\n",
       "      <td>1.000000</td>\n",
       "      <td>0.607941</td>\n",
       "      <td>0.325684</td>\n",
       "    </tr>\n",
       "    <tr>\n",
       "      <th>revenue_millions</th>\n",
       "      <td>-0.252996</td>\n",
       "      <td>-0.117562</td>\n",
       "      <td>0.247834</td>\n",
       "      <td>0.189527</td>\n",
       "      <td>0.607941</td>\n",
       "      <td>1.000000</td>\n",
       "      <td>0.133328</td>\n",
       "    </tr>\n",
       "    <tr>\n",
       "      <th>metascore</th>\n",
       "      <td>-0.191869</td>\n",
       "      <td>-0.079305</td>\n",
       "      <td>0.211978</td>\n",
       "      <td>0.631897</td>\n",
       "      <td>0.325684</td>\n",
       "      <td>0.133328</td>\n",
       "      <td>1.000000</td>\n",
       "    </tr>\n",
       "  </tbody>\n",
       "</table>\n",
       "</div>"
      ],
      "text/plain": [
       "                      rank      year   runtime    rating     votes  \\\n",
       "rank              1.000000 -0.261605 -0.221739 -0.219555 -0.283876   \n",
       "year             -0.261605  1.000000 -0.164900 -0.211219 -0.411904   \n",
       "runtime          -0.221739 -0.164900  1.000000  0.392214  0.407062   \n",
       "rating           -0.219555 -0.211219  0.392214  1.000000  0.511537   \n",
       "votes            -0.283876 -0.411904  0.407062  0.511537  1.000000   \n",
       "revenue_millions -0.252996 -0.117562  0.247834  0.189527  0.607941   \n",
       "metascore        -0.191869 -0.079305  0.211978  0.631897  0.325684   \n",
       "\n",
       "                  revenue_millions  metascore  \n",
       "rank                     -0.252996  -0.191869  \n",
       "year                     -0.117562  -0.079305  \n",
       "runtime                   0.247834   0.211978  \n",
       "rating                    0.189527   0.631897  \n",
       "votes                     0.607941   0.325684  \n",
       "revenue_millions          1.000000   0.133328  \n",
       "metascore                 0.133328   1.000000  "
      ]
     },
     "execution_count": 78,
     "metadata": {},
     "output_type": "execute_result"
    }
   ],
   "source": [
    "movies_df.corr()"
   ]
  },
  {
   "cell_type": "markdown",
   "id": "3e9a2c76",
   "metadata": {},
   "source": [
    "## Workspace for exploring data\n",
    "Play around with describe, value_counts, and corr"
   ]
  },
  {
   "cell_type": "code",
   "execution_count": 79,
   "id": "9241fd01",
   "metadata": {},
   "outputs": [],
   "source": [
    "# workspace to exploring data"
   ]
  },
  {
   "cell_type": "markdown",
   "id": "e54a0729",
   "metadata": {},
   "source": [
    "## Dataframe slicing, selecting, extracting\n",
    "As we learned with numpy, it is often really important to be able to select subsets of data (e.g., what if you want to select data for just a particular animal to analyze?). This is also important for dataframes. \n",
    "\n",
    "There are a few ways to extract subsets of data from Pandas dataframes.\n",
    "\n",
    "\n",
    "### Extracting individual columns by name\n",
    "Here the tutorial discusses how to extract a single column as a series, or dataframe.\n",
    "\n",
    "Note it doesn't discuss the common dot notation where you can extract a single column as a series using `data_frame.column_name`. Using our rat dataframe, for instance, we can extract the `Behavior` column as a series as follows:"
   ]
  },
  {
   "cell_type": "code",
   "execution_count": 80,
   "id": "cb82b700",
   "metadata": {},
   "outputs": [
    {
     "data": {
      "text/plain": [
       "Rat1    0.0\n",
       "Rat2    NaN\n",
       "Rat3    0.1\n",
       "Name: Behavior, dtype: float64"
      ]
     },
     "execution_count": 80,
     "metadata": {},
     "output_type": "execute_result"
    }
   ],
   "source": [
    "rat_df.Behavior"
   ]
  },
  {
   "cell_type": "markdown",
   "id": "d5730dab",
   "metadata": {},
   "source": [
    "Alternatively, you can extract a column as a series by directly putting the column header name in brackets:"
   ]
  },
  {
   "cell_type": "code",
   "execution_count": 81,
   "id": "ce553157",
   "metadata": {},
   "outputs": [
    {
     "data": {
      "text/plain": [
       "Rat1    0.0\n",
       "Rat2    NaN\n",
       "Rat3    0.1\n",
       "Name: Behavior, dtype: float64"
      ]
     },
     "execution_count": 81,
     "metadata": {},
     "output_type": "execute_result"
    }
   ],
   "source": [
    "rat_df['Behavior']"
   ]
  },
  {
   "cell_type": "markdown",
   "id": "3b7d8807",
   "metadata": {},
   "source": [
    "To extract a column as a *dataframe*, put the column name in a list. This also allows you to put multiple column names in a list:"
   ]
  },
  {
   "cell_type": "code",
   "execution_count": 82,
   "id": "9acbf9ee",
   "metadata": {},
   "outputs": [
    {
     "data": {
      "text/html": [
       "<div>\n",
       "<style scoped>\n",
       "    .dataframe tbody tr th:only-of-type {\n",
       "        vertical-align: middle;\n",
       "    }\n",
       "\n",
       "    .dataframe tbody tr th {\n",
       "        vertical-align: top;\n",
       "    }\n",
       "\n",
       "    .dataframe thead th {\n",
       "        text-align: right;\n",
       "    }\n",
       "</style>\n",
       "<table border=\"1\" class=\"dataframe\">\n",
       "  <thead>\n",
       "    <tr style=\"text-align: right;\">\n",
       "      <th></th>\n",
       "      <th>genre</th>\n",
       "    </tr>\n",
       "    <tr>\n",
       "      <th>Title</th>\n",
       "      <th></th>\n",
       "    </tr>\n",
       "  </thead>\n",
       "  <tbody>\n",
       "    <tr>\n",
       "      <th>Guardians of the Galaxy</th>\n",
       "      <td>Action,Adventure,Sci-Fi</td>\n",
       "    </tr>\n",
       "    <tr>\n",
       "      <th>Prometheus</th>\n",
       "      <td>Adventure,Mystery,Sci-Fi</td>\n",
       "    </tr>\n",
       "    <tr>\n",
       "      <th>Split</th>\n",
       "      <td>Horror,Thriller</td>\n",
       "    </tr>\n",
       "    <tr>\n",
       "      <th>Sing</th>\n",
       "      <td>Animation,Comedy,Family</td>\n",
       "    </tr>\n",
       "    <tr>\n",
       "      <th>Suicide Squad</th>\n",
       "      <td>Action,Adventure,Fantasy</td>\n",
       "    </tr>\n",
       "  </tbody>\n",
       "</table>\n",
       "</div>"
      ],
      "text/plain": [
       "                                            genre\n",
       "Title                                            \n",
       "Guardians of the Galaxy   Action,Adventure,Sci-Fi\n",
       "Prometheus               Adventure,Mystery,Sci-Fi\n",
       "Split                             Horror,Thriller\n",
       "Sing                      Animation,Comedy,Family\n",
       "Suicide Squad            Action,Adventure,Fantasy"
      ]
     },
     "execution_count": 82,
     "metadata": {},
     "output_type": "execute_result"
    }
   ],
   "source": [
    "subset_df = movies_df[['genre']]\n",
    "subset_df.head()"
   ]
  },
  {
   "cell_type": "markdown",
   "id": "bd944deb",
   "metadata": {},
   "source": [
    "Why don't you play with extracting individual columns now."
   ]
  },
  {
   "cell_type": "code",
   "execution_count": 83,
   "id": "55ce97e3",
   "metadata": {},
   "outputs": [],
   "source": [
    "# Workspace for directly extracting column(s) of data, either as a series or dataframe"
   ]
  },
  {
   "cell_type": "markdown",
   "id": "55ad69ed",
   "metadata": {},
   "source": [
    "### Extracting \"rows\" (more accurately: indexing by label or by integer)\n",
    "Pandas has two useful ways to extract subsets of rows and columns (for some reason the tutorial just goes over the interface for rows, but often you will want to extract rows and columns). It can sometimes be confusing to remember these two different methods, but basically you can select by *label* or by *index*:\n",
    "\n",
    "- To select by *label* use `loc`. \n",
    "- To select using more traditional integer-based indexing, use `iloc` (the `i` is for integer).\n",
    "\n",
    "For a *really* good overview of the topic of indexing in Pandas, see the following little tutorial, that has great diagrams and is very conceptually clear (ignore the discussion of `ix`, which is an outdated method):    \n",
    "https://www.geeksforgeeks.org/indexing-and-selecting-data-with-pandas/amp/"
   ]
  },
  {
   "cell_type": "markdown",
   "id": "b2cbb64f",
   "metadata": {},
   "source": [
    "### Access via label: loc\n",
    "Let's take a look at our movie dataframe:"
   ]
  },
  {
   "cell_type": "code",
   "execution_count": 84,
   "id": "406dd662",
   "metadata": {},
   "outputs": [
    {
     "data": {
      "text/html": [
       "<div>\n",
       "<style scoped>\n",
       "    .dataframe tbody tr th:only-of-type {\n",
       "        vertical-align: middle;\n",
       "    }\n",
       "\n",
       "    .dataframe tbody tr th {\n",
       "        vertical-align: top;\n",
       "    }\n",
       "\n",
       "    .dataframe thead th {\n",
       "        text-align: right;\n",
       "    }\n",
       "</style>\n",
       "<table border=\"1\" class=\"dataframe\">\n",
       "  <thead>\n",
       "    <tr style=\"text-align: right;\">\n",
       "      <th></th>\n",
       "      <th>rank</th>\n",
       "      <th>genre</th>\n",
       "      <th>description</th>\n",
       "      <th>director</th>\n",
       "      <th>actors</th>\n",
       "      <th>year</th>\n",
       "      <th>runtime</th>\n",
       "      <th>rating</th>\n",
       "      <th>votes</th>\n",
       "      <th>revenue_millions</th>\n",
       "      <th>metascore</th>\n",
       "    </tr>\n",
       "    <tr>\n",
       "      <th>Title</th>\n",
       "      <th></th>\n",
       "      <th></th>\n",
       "      <th></th>\n",
       "      <th></th>\n",
       "      <th></th>\n",
       "      <th></th>\n",
       "      <th></th>\n",
       "      <th></th>\n",
       "      <th></th>\n",
       "      <th></th>\n",
       "      <th></th>\n",
       "    </tr>\n",
       "  </thead>\n",
       "  <tbody>\n",
       "    <tr>\n",
       "      <th>Guardians of the Galaxy</th>\n",
       "      <td>1</td>\n",
       "      <td>Action,Adventure,Sci-Fi</td>\n",
       "      <td>A group of intergalactic criminals are forced ...</td>\n",
       "      <td>James Gunn</td>\n",
       "      <td>Chris Pratt, Vin Diesel, Bradley Cooper, Zoe S...</td>\n",
       "      <td>2014</td>\n",
       "      <td>121</td>\n",
       "      <td>8.1</td>\n",
       "      <td>757074</td>\n",
       "      <td>333.13</td>\n",
       "      <td>76.0</td>\n",
       "    </tr>\n",
       "    <tr>\n",
       "      <th>Prometheus</th>\n",
       "      <td>2</td>\n",
       "      <td>Adventure,Mystery,Sci-Fi</td>\n",
       "      <td>Following clues to the origin of mankind, a te...</td>\n",
       "      <td>Ridley Scott</td>\n",
       "      <td>Noomi Rapace, Logan Marshall-Green, Michael Fa...</td>\n",
       "      <td>2012</td>\n",
       "      <td>124</td>\n",
       "      <td>7.0</td>\n",
       "      <td>485820</td>\n",
       "      <td>126.46</td>\n",
       "      <td>65.0</td>\n",
       "    </tr>\n",
       "    <tr>\n",
       "      <th>Split</th>\n",
       "      <td>3</td>\n",
       "      <td>Horror,Thriller</td>\n",
       "      <td>Three girls are kidnapped by a man with a diag...</td>\n",
       "      <td>M. Night Shyamalan</td>\n",
       "      <td>James McAvoy, Anya Taylor-Joy, Haley Lu Richar...</td>\n",
       "      <td>2016</td>\n",
       "      <td>117</td>\n",
       "      <td>7.3</td>\n",
       "      <td>157606</td>\n",
       "      <td>138.12</td>\n",
       "      <td>62.0</td>\n",
       "    </tr>\n",
       "    <tr>\n",
       "      <th>Sing</th>\n",
       "      <td>4</td>\n",
       "      <td>Animation,Comedy,Family</td>\n",
       "      <td>In a city of humanoid animals, a hustling thea...</td>\n",
       "      <td>Christophe Lourdelet</td>\n",
       "      <td>Matthew McConaughey,Reese Witherspoon, Seth Ma...</td>\n",
       "      <td>2016</td>\n",
       "      <td>108</td>\n",
       "      <td>7.2</td>\n",
       "      <td>60545</td>\n",
       "      <td>270.32</td>\n",
       "      <td>59.0</td>\n",
       "    </tr>\n",
       "    <tr>\n",
       "      <th>Suicide Squad</th>\n",
       "      <td>5</td>\n",
       "      <td>Action,Adventure,Fantasy</td>\n",
       "      <td>A secret government agency recruits some of th...</td>\n",
       "      <td>David Ayer</td>\n",
       "      <td>Will Smith, Jared Leto, Margot Robbie, Viola D...</td>\n",
       "      <td>2016</td>\n",
       "      <td>123</td>\n",
       "      <td>6.2</td>\n",
       "      <td>393727</td>\n",
       "      <td>325.02</td>\n",
       "      <td>40.0</td>\n",
       "    </tr>\n",
       "  </tbody>\n",
       "</table>\n",
       "</div>"
      ],
      "text/plain": [
       "                         rank                     genre  \\\n",
       "Title                                                     \n",
       "Guardians of the Galaxy     1   Action,Adventure,Sci-Fi   \n",
       "Prometheus                  2  Adventure,Mystery,Sci-Fi   \n",
       "Split                       3           Horror,Thriller   \n",
       "Sing                        4   Animation,Comedy,Family   \n",
       "Suicide Squad               5  Action,Adventure,Fantasy   \n",
       "\n",
       "                                                               description  \\\n",
       "Title                                                                        \n",
       "Guardians of the Galaxy  A group of intergalactic criminals are forced ...   \n",
       "Prometheus               Following clues to the origin of mankind, a te...   \n",
       "Split                    Three girls are kidnapped by a man with a diag...   \n",
       "Sing                     In a city of humanoid animals, a hustling thea...   \n",
       "Suicide Squad            A secret government agency recruits some of th...   \n",
       "\n",
       "                                     director  \\\n",
       "Title                                           \n",
       "Guardians of the Galaxy            James Gunn   \n",
       "Prometheus                       Ridley Scott   \n",
       "Split                      M. Night Shyamalan   \n",
       "Sing                     Christophe Lourdelet   \n",
       "Suicide Squad                      David Ayer   \n",
       "\n",
       "                                                                    actors  \\\n",
       "Title                                                                        \n",
       "Guardians of the Galaxy  Chris Pratt, Vin Diesel, Bradley Cooper, Zoe S...   \n",
       "Prometheus               Noomi Rapace, Logan Marshall-Green, Michael Fa...   \n",
       "Split                    James McAvoy, Anya Taylor-Joy, Haley Lu Richar...   \n",
       "Sing                     Matthew McConaughey,Reese Witherspoon, Seth Ma...   \n",
       "Suicide Squad            Will Smith, Jared Leto, Margot Robbie, Viola D...   \n",
       "\n",
       "                         year  runtime  rating   votes  revenue_millions  \\\n",
       "Title                                                                      \n",
       "Guardians of the Galaxy  2014      121     8.1  757074            333.13   \n",
       "Prometheus               2012      124     7.0  485820            126.46   \n",
       "Split                    2016      117     7.3  157606            138.12   \n",
       "Sing                     2016      108     7.2   60545            270.32   \n",
       "Suicide Squad            2016      123     6.2  393727            325.02   \n",
       "\n",
       "                         metascore  \n",
       "Title                               \n",
       "Guardians of the Galaxy       76.0  \n",
       "Prometheus                    65.0  \n",
       "Split                         62.0  \n",
       "Sing                          59.0  \n",
       "Suicide Squad                 40.0  "
      ]
     },
     "execution_count": 84,
     "metadata": {},
     "output_type": "execute_result"
    }
   ],
   "source": [
    "movies_df.head()"
   ]
  },
  {
   "cell_type": "markdown",
   "id": "33eca14a",
   "metadata": {},
   "source": [
    "The title is the label for each row, and we can access a row by its label using `loc`:"
   ]
  },
  {
   "cell_type": "code",
   "execution_count": 85,
   "id": "1d10fc3c",
   "metadata": {},
   "outputs": [],
   "source": [
    "prom_movie = movies_df.loc[\"Prometheus\"]"
   ]
  },
  {
   "cell_type": "markdown",
   "id": "4ebb03c9",
   "metadata": {},
   "source": [
    "This returns a single row. As before, if you want a dataframe you can feed it a list. \n",
    "\n",
    "Interestingly, you can slice over multiple rows:"
   ]
  },
  {
   "cell_type": "code",
   "execution_count": 86,
   "id": "842d0576",
   "metadata": {},
   "outputs": [
    {
     "data": {
      "text/html": [
       "<div>\n",
       "<style scoped>\n",
       "    .dataframe tbody tr th:only-of-type {\n",
       "        vertical-align: middle;\n",
       "    }\n",
       "\n",
       "    .dataframe tbody tr th {\n",
       "        vertical-align: top;\n",
       "    }\n",
       "\n",
       "    .dataframe thead th {\n",
       "        text-align: right;\n",
       "    }\n",
       "</style>\n",
       "<table border=\"1\" class=\"dataframe\">\n",
       "  <thead>\n",
       "    <tr style=\"text-align: right;\">\n",
       "      <th></th>\n",
       "      <th>rank</th>\n",
       "      <th>genre</th>\n",
       "      <th>description</th>\n",
       "      <th>director</th>\n",
       "      <th>actors</th>\n",
       "      <th>year</th>\n",
       "      <th>runtime</th>\n",
       "      <th>rating</th>\n",
       "      <th>votes</th>\n",
       "      <th>revenue_millions</th>\n",
       "      <th>metascore</th>\n",
       "    </tr>\n",
       "    <tr>\n",
       "      <th>Title</th>\n",
       "      <th></th>\n",
       "      <th></th>\n",
       "      <th></th>\n",
       "      <th></th>\n",
       "      <th></th>\n",
       "      <th></th>\n",
       "      <th></th>\n",
       "      <th></th>\n",
       "      <th></th>\n",
       "      <th></th>\n",
       "      <th></th>\n",
       "    </tr>\n",
       "  </thead>\n",
       "  <tbody>\n",
       "    <tr>\n",
       "      <th>Prometheus</th>\n",
       "      <td>2</td>\n",
       "      <td>Adventure,Mystery,Sci-Fi</td>\n",
       "      <td>Following clues to the origin of mankind, a te...</td>\n",
       "      <td>Ridley Scott</td>\n",
       "      <td>Noomi Rapace, Logan Marshall-Green, Michael Fa...</td>\n",
       "      <td>2012</td>\n",
       "      <td>124</td>\n",
       "      <td>7.0</td>\n",
       "      <td>485820</td>\n",
       "      <td>126.46</td>\n",
       "      <td>65.0</td>\n",
       "    </tr>\n",
       "    <tr>\n",
       "      <th>Split</th>\n",
       "      <td>3</td>\n",
       "      <td>Horror,Thriller</td>\n",
       "      <td>Three girls are kidnapped by a man with a diag...</td>\n",
       "      <td>M. Night Shyamalan</td>\n",
       "      <td>James McAvoy, Anya Taylor-Joy, Haley Lu Richar...</td>\n",
       "      <td>2016</td>\n",
       "      <td>117</td>\n",
       "      <td>7.3</td>\n",
       "      <td>157606</td>\n",
       "      <td>138.12</td>\n",
       "      <td>62.0</td>\n",
       "    </tr>\n",
       "    <tr>\n",
       "      <th>Sing</th>\n",
       "      <td>4</td>\n",
       "      <td>Animation,Comedy,Family</td>\n",
       "      <td>In a city of humanoid animals, a hustling thea...</td>\n",
       "      <td>Christophe Lourdelet</td>\n",
       "      <td>Matthew McConaughey,Reese Witherspoon, Seth Ma...</td>\n",
       "      <td>2016</td>\n",
       "      <td>108</td>\n",
       "      <td>7.2</td>\n",
       "      <td>60545</td>\n",
       "      <td>270.32</td>\n",
       "      <td>59.0</td>\n",
       "    </tr>\n",
       "  </tbody>\n",
       "</table>\n",
       "</div>"
      ],
      "text/plain": [
       "            rank                     genre  \\\n",
       "Title                                        \n",
       "Prometheus     2  Adventure,Mystery,Sci-Fi   \n",
       "Split          3           Horror,Thriller   \n",
       "Sing           4   Animation,Comedy,Family   \n",
       "\n",
       "                                                  description  \\\n",
       "Title                                                           \n",
       "Prometheus  Following clues to the origin of mankind, a te...   \n",
       "Split       Three girls are kidnapped by a man with a diag...   \n",
       "Sing        In a city of humanoid animals, a hustling thea...   \n",
       "\n",
       "                        director  \\\n",
       "Title                              \n",
       "Prometheus          Ridley Scott   \n",
       "Split         M. Night Shyamalan   \n",
       "Sing        Christophe Lourdelet   \n",
       "\n",
       "                                                       actors  year  runtime  \\\n",
       "Title                                                                          \n",
       "Prometheus  Noomi Rapace, Logan Marshall-Green, Michael Fa...  2012      124   \n",
       "Split       James McAvoy, Anya Taylor-Joy, Haley Lu Richar...  2016      117   \n",
       "Sing        Matthew McConaughey,Reese Witherspoon, Seth Ma...  2016      108   \n",
       "\n",
       "            rating   votes  revenue_millions  metascore  \n",
       "Title                                                    \n",
       "Prometheus     7.0  485820            126.46       65.0  \n",
       "Split          7.3  157606            138.12       62.0  \n",
       "Sing           7.2   60545            270.32       59.0  "
      ]
     },
     "execution_count": 86,
     "metadata": {},
     "output_type": "execute_result"
    }
   ],
   "source": [
    "movie_subset = movies_df.loc[\"Prometheus\": \"Sing\"]\n",
    "movie_subset"
   ]
  },
  {
   "cell_type": "markdown",
   "id": "1f620a37",
   "metadata": {},
   "source": [
    "A couple of things to note: first, the `loc` method uses square brackets instead of parentheses like most python methods. This is to stress that it is an indexing operation for selecting data. \n",
    "\n",
    "Second, when you slice data using `loc['first':'last']` *the `last` element is included*, which is contrary to everything we have done in Python. This is because when indexing by labels it is sometimes hard to know what comes *after* the element you actually want. Instead of blindly sticking to Python convention, the developers of Pandas decided to make things easier. This issue is discussed in the documentation here:\n",
    "\n",
    "https://pandas.pydata.org/pandas-docs/stable/user_guide/advanced.html#endpoints-are-inclusive\n",
    "\n",
    "Third, I'm not sure why the tutorial suggests you only select rows by label: you can also select *columns* by label:"
   ]
  },
  {
   "cell_type": "code",
   "execution_count": 87,
   "id": "5647c177",
   "metadata": {},
   "outputs": [
    {
     "data": {
      "text/html": [
       "<div>\n",
       "<style scoped>\n",
       "    .dataframe tbody tr th:only-of-type {\n",
       "        vertical-align: middle;\n",
       "    }\n",
       "\n",
       "    .dataframe tbody tr th {\n",
       "        vertical-align: top;\n",
       "    }\n",
       "\n",
       "    .dataframe thead th {\n",
       "        text-align: right;\n",
       "    }\n",
       "</style>\n",
       "<table border=\"1\" class=\"dataframe\">\n",
       "  <thead>\n",
       "    <tr style=\"text-align: right;\">\n",
       "      <th></th>\n",
       "      <th>genre</th>\n",
       "      <th>description</th>\n",
       "      <th>director</th>\n",
       "    </tr>\n",
       "    <tr>\n",
       "      <th>Title</th>\n",
       "      <th></th>\n",
       "      <th></th>\n",
       "      <th></th>\n",
       "    </tr>\n",
       "  </thead>\n",
       "  <tbody>\n",
       "    <tr>\n",
       "      <th>Guardians of the Galaxy</th>\n",
       "      <td>Action,Adventure,Sci-Fi</td>\n",
       "      <td>A group of intergalactic criminals are forced ...</td>\n",
       "      <td>James Gunn</td>\n",
       "    </tr>\n",
       "    <tr>\n",
       "      <th>Prometheus</th>\n",
       "      <td>Adventure,Mystery,Sci-Fi</td>\n",
       "      <td>Following clues to the origin of mankind, a te...</td>\n",
       "      <td>Ridley Scott</td>\n",
       "    </tr>\n",
       "    <tr>\n",
       "      <th>Split</th>\n",
       "      <td>Horror,Thriller</td>\n",
       "      <td>Three girls are kidnapped by a man with a diag...</td>\n",
       "      <td>M. Night Shyamalan</td>\n",
       "    </tr>\n",
       "    <tr>\n",
       "      <th>Sing</th>\n",
       "      <td>Animation,Comedy,Family</td>\n",
       "      <td>In a city of humanoid animals, a hustling thea...</td>\n",
       "      <td>Christophe Lourdelet</td>\n",
       "    </tr>\n",
       "    <tr>\n",
       "      <th>Suicide Squad</th>\n",
       "      <td>Action,Adventure,Fantasy</td>\n",
       "      <td>A secret government agency recruits some of th...</td>\n",
       "      <td>David Ayer</td>\n",
       "    </tr>\n",
       "  </tbody>\n",
       "</table>\n",
       "</div>"
      ],
      "text/plain": [
       "                                            genre  \\\n",
       "Title                                               \n",
       "Guardians of the Galaxy   Action,Adventure,Sci-Fi   \n",
       "Prometheus               Adventure,Mystery,Sci-Fi   \n",
       "Split                             Horror,Thriller   \n",
       "Sing                      Animation,Comedy,Family   \n",
       "Suicide Squad            Action,Adventure,Fantasy   \n",
       "\n",
       "                                                               description  \\\n",
       "Title                                                                        \n",
       "Guardians of the Galaxy  A group of intergalactic criminals are forced ...   \n",
       "Prometheus               Following clues to the origin of mankind, a te...   \n",
       "Split                    Three girls are kidnapped by a man with a diag...   \n",
       "Sing                     In a city of humanoid animals, a hustling thea...   \n",
       "Suicide Squad            A secret government agency recruits some of th...   \n",
       "\n",
       "                                     director  \n",
       "Title                                          \n",
       "Guardians of the Galaxy            James Gunn  \n",
       "Prometheus                       Ridley Scott  \n",
       "Split                      M. Night Shyamalan  \n",
       "Sing                     Christophe Lourdelet  \n",
       "Suicide Squad                      David Ayer  "
      ]
     },
     "execution_count": 87,
     "metadata": {},
     "output_type": "execute_result"
    }
   ],
   "source": [
    "col_subset = movies_df.loc[:, 'genre':'director']\n",
    "col_subset.head()"
   ]
  },
  {
   "cell_type": "markdown",
   "id": "01163a16",
   "metadata": {},
   "source": [
    "You can also select both columns *and* rows by label using `loc`:"
   ]
  },
  {
   "cell_type": "code",
   "execution_count": 88,
   "id": "5eb530f4",
   "metadata": {},
   "outputs": [
    {
     "data": {
      "text/html": [
       "<div>\n",
       "<style scoped>\n",
       "    .dataframe tbody tr th:only-of-type {\n",
       "        vertical-align: middle;\n",
       "    }\n",
       "\n",
       "    .dataframe tbody tr th {\n",
       "        vertical-align: top;\n",
       "    }\n",
       "\n",
       "    .dataframe thead th {\n",
       "        text-align: right;\n",
       "    }\n",
       "</style>\n",
       "<table border=\"1\" class=\"dataframe\">\n",
       "  <thead>\n",
       "    <tr style=\"text-align: right;\">\n",
       "      <th></th>\n",
       "      <th>genre</th>\n",
       "      <th>description</th>\n",
       "      <th>director</th>\n",
       "    </tr>\n",
       "    <tr>\n",
       "      <th>Title</th>\n",
       "      <th></th>\n",
       "      <th></th>\n",
       "      <th></th>\n",
       "    </tr>\n",
       "  </thead>\n",
       "  <tbody>\n",
       "    <tr>\n",
       "      <th>Prometheus</th>\n",
       "      <td>Adventure,Mystery,Sci-Fi</td>\n",
       "      <td>Following clues to the origin of mankind, a te...</td>\n",
       "      <td>Ridley Scott</td>\n",
       "    </tr>\n",
       "    <tr>\n",
       "      <th>Split</th>\n",
       "      <td>Horror,Thriller</td>\n",
       "      <td>Three girls are kidnapped by a man with a diag...</td>\n",
       "      <td>M. Night Shyamalan</td>\n",
       "    </tr>\n",
       "    <tr>\n",
       "      <th>Sing</th>\n",
       "      <td>Animation,Comedy,Family</td>\n",
       "      <td>In a city of humanoid animals, a hustling thea...</td>\n",
       "      <td>Christophe Lourdelet</td>\n",
       "    </tr>\n",
       "  </tbody>\n",
       "</table>\n",
       "</div>"
      ],
      "text/plain": [
       "                               genre  \\\n",
       "Title                                  \n",
       "Prometheus  Adventure,Mystery,Sci-Fi   \n",
       "Split                Horror,Thriller   \n",
       "Sing         Animation,Comedy,Family   \n",
       "\n",
       "                                                  description  \\\n",
       "Title                                                           \n",
       "Prometheus  Following clues to the origin of mankind, a te...   \n",
       "Split       Three girls are kidnapped by a man with a diag...   \n",
       "Sing        In a city of humanoid animals, a hustling thea...   \n",
       "\n",
       "                        director  \n",
       "Title                             \n",
       "Prometheus          Ridley Scott  \n",
       "Split         M. Night Shyamalan  \n",
       "Sing        Christophe Lourdelet  "
      ]
     },
     "execution_count": 88,
     "metadata": {},
     "output_type": "execute_result"
    }
   ],
   "source": [
    "both_subset = movies_df.loc['Prometheus': 'Sing', 'genre':'director']\n",
    "both_subset.head()"
   ]
  },
  {
   "cell_type": "markdown",
   "id": "57c763ba",
   "metadata": {},
   "source": [
    "### Access via integer: iloc\n",
    "`iloc` is similar to `loc`, except the indexing is by integer like in NumPy arrays or lists. Like the rest of Python, the second element is *not* included. Because you are more familiar with these, we will just give a couple of examples (and note just like with `loc`, you can index both rows and columns, not just rows):"
   ]
  },
  {
   "cell_type": "code",
   "execution_count": 89,
   "id": "d6fd41d1",
   "metadata": {},
   "outputs": [
    {
     "data": {
      "text/html": [
       "<div>\n",
       "<style scoped>\n",
       "    .dataframe tbody tr th:only-of-type {\n",
       "        vertical-align: middle;\n",
       "    }\n",
       "\n",
       "    .dataframe tbody tr th {\n",
       "        vertical-align: top;\n",
       "    }\n",
       "\n",
       "    .dataframe thead th {\n",
       "        text-align: right;\n",
       "    }\n",
       "</style>\n",
       "<table border=\"1\" class=\"dataframe\">\n",
       "  <thead>\n",
       "    <tr style=\"text-align: right;\">\n",
       "      <th></th>\n",
       "      <th>rank</th>\n",
       "      <th>genre</th>\n",
       "      <th>description</th>\n",
       "      <th>director</th>\n",
       "      <th>actors</th>\n",
       "      <th>year</th>\n",
       "      <th>runtime</th>\n",
       "      <th>rating</th>\n",
       "      <th>votes</th>\n",
       "      <th>revenue_millions</th>\n",
       "      <th>metascore</th>\n",
       "    </tr>\n",
       "    <tr>\n",
       "      <th>Title</th>\n",
       "      <th></th>\n",
       "      <th></th>\n",
       "      <th></th>\n",
       "      <th></th>\n",
       "      <th></th>\n",
       "      <th></th>\n",
       "      <th></th>\n",
       "      <th></th>\n",
       "      <th></th>\n",
       "      <th></th>\n",
       "      <th></th>\n",
       "    </tr>\n",
       "  </thead>\n",
       "  <tbody>\n",
       "    <tr>\n",
       "      <th>Prometheus</th>\n",
       "      <td>2</td>\n",
       "      <td>Adventure,Mystery,Sci-Fi</td>\n",
       "      <td>Following clues to the origin of mankind, a te...</td>\n",
       "      <td>Ridley Scott</td>\n",
       "      <td>Noomi Rapace, Logan Marshall-Green, Michael Fa...</td>\n",
       "      <td>2012</td>\n",
       "      <td>124</td>\n",
       "      <td>7.0</td>\n",
       "      <td>485820</td>\n",
       "      <td>126.46</td>\n",
       "      <td>65.0</td>\n",
       "    </tr>\n",
       "    <tr>\n",
       "      <th>Split</th>\n",
       "      <td>3</td>\n",
       "      <td>Horror,Thriller</td>\n",
       "      <td>Three girls are kidnapped by a man with a diag...</td>\n",
       "      <td>M. Night Shyamalan</td>\n",
       "      <td>James McAvoy, Anya Taylor-Joy, Haley Lu Richar...</td>\n",
       "      <td>2016</td>\n",
       "      <td>117</td>\n",
       "      <td>7.3</td>\n",
       "      <td>157606</td>\n",
       "      <td>138.12</td>\n",
       "      <td>62.0</td>\n",
       "    </tr>\n",
       "    <tr>\n",
       "      <th>Sing</th>\n",
       "      <td>4</td>\n",
       "      <td>Animation,Comedy,Family</td>\n",
       "      <td>In a city of humanoid animals, a hustling thea...</td>\n",
       "      <td>Christophe Lourdelet</td>\n",
       "      <td>Matthew McConaughey,Reese Witherspoon, Seth Ma...</td>\n",
       "      <td>2016</td>\n",
       "      <td>108</td>\n",
       "      <td>7.2</td>\n",
       "      <td>60545</td>\n",
       "      <td>270.32</td>\n",
       "      <td>59.0</td>\n",
       "    </tr>\n",
       "  </tbody>\n",
       "</table>\n",
       "</div>"
      ],
      "text/plain": [
       "            rank                     genre  \\\n",
       "Title                                        \n",
       "Prometheus     2  Adventure,Mystery,Sci-Fi   \n",
       "Split          3           Horror,Thriller   \n",
       "Sing           4   Animation,Comedy,Family   \n",
       "\n",
       "                                                  description  \\\n",
       "Title                                                           \n",
       "Prometheus  Following clues to the origin of mankind, a te...   \n",
       "Split       Three girls are kidnapped by a man with a diag...   \n",
       "Sing        In a city of humanoid animals, a hustling thea...   \n",
       "\n",
       "                        director  \\\n",
       "Title                              \n",
       "Prometheus          Ridley Scott   \n",
       "Split         M. Night Shyamalan   \n",
       "Sing        Christophe Lourdelet   \n",
       "\n",
       "                                                       actors  year  runtime  \\\n",
       "Title                                                                          \n",
       "Prometheus  Noomi Rapace, Logan Marshall-Green, Michael Fa...  2012      124   \n",
       "Split       James McAvoy, Anya Taylor-Joy, Haley Lu Richar...  2016      117   \n",
       "Sing        Matthew McConaughey,Reese Witherspoon, Seth Ma...  2016      108   \n",
       "\n",
       "            rating   votes  revenue_millions  metascore  \n",
       "Title                                                    \n",
       "Prometheus     7.0  485820            126.46       65.0  \n",
       "Split          7.3  157606            138.12       62.0  \n",
       "Sing           7.2   60545            270.32       59.0  "
      ]
     },
     "execution_count": 89,
     "metadata": {},
     "output_type": "execute_result"
    }
   ],
   "source": [
    "rows_df = movies_df.iloc[1:4]\n",
    "rows_df.head()"
   ]
  },
  {
   "cell_type": "markdown",
   "id": "034c6402",
   "metadata": {},
   "source": [
    "Note the final element is not included.\n",
    "\n",
    "And an example selecting both rows and columns:"
   ]
  },
  {
   "cell_type": "code",
   "execution_count": 90,
   "id": "9f8ded56",
   "metadata": {},
   "outputs": [
    {
     "data": {
      "text/html": [
       "<div>\n",
       "<style scoped>\n",
       "    .dataframe tbody tr th:only-of-type {\n",
       "        vertical-align: middle;\n",
       "    }\n",
       "\n",
       "    .dataframe tbody tr th {\n",
       "        vertical-align: top;\n",
       "    }\n",
       "\n",
       "    .dataframe thead th {\n",
       "        text-align: right;\n",
       "    }\n",
       "</style>\n",
       "<table border=\"1\" class=\"dataframe\">\n",
       "  <thead>\n",
       "    <tr style=\"text-align: right;\">\n",
       "      <th></th>\n",
       "      <th>genre</th>\n",
       "    </tr>\n",
       "    <tr>\n",
       "      <th>Title</th>\n",
       "      <th></th>\n",
       "    </tr>\n",
       "  </thead>\n",
       "  <tbody>\n",
       "    <tr>\n",
       "      <th>Prometheus</th>\n",
       "      <td>Adventure,Mystery,Sci-Fi</td>\n",
       "    </tr>\n",
       "    <tr>\n",
       "      <th>Split</th>\n",
       "      <td>Horror,Thriller</td>\n",
       "    </tr>\n",
       "    <tr>\n",
       "      <th>Sing</th>\n",
       "      <td>Animation,Comedy,Family</td>\n",
       "    </tr>\n",
       "  </tbody>\n",
       "</table>\n",
       "</div>"
      ],
      "text/plain": [
       "                               genre\n",
       "Title                               \n",
       "Prometheus  Adventure,Mystery,Sci-Fi\n",
       "Split                Horror,Thriller\n",
       "Sing         Animation,Comedy,Family"
      ]
     },
     "execution_count": 90,
     "metadata": {},
     "output_type": "execute_result"
    }
   ],
   "source": [
    "rows_cols_df = movies_df.iloc[1:4, 1:2]\n",
    "rows_cols_df.head()"
   ]
  },
  {
   "cell_type": "markdown",
   "id": "10980ba7",
   "metadata": {},
   "source": [
    "There we have the basics of selecting subsets of rows and columns. \n",
    "\n",
    "### Workspace for subset selection\n",
    "In the workspace, I recommend you play around with `loc` and `iloc` just to be sure you understand the basics. While they are relatively simple, it is useful to understand the little differences and to take the time to start building some muscle memory now!"
   ]
  },
  {
   "cell_type": "code",
   "execution_count": 91,
   "id": "038ca01d",
   "metadata": {},
   "outputs": [],
   "source": [
    "# workspace for selecting subsets of dataframes"
   ]
  },
  {
   "cell_type": "markdown",
   "id": "c2ccde8a",
   "metadata": {},
   "source": [
    "### Conditional selections (filter by boolean series)\n",
    "Picking entire rows and columns is really important, but picking *subsets* of rows that meet combinations of conditions is extremelyl common: e.g., analyze data from males of a certain genotype. This is the last topic in selecting subsets of data.\n",
    "\n",
    "This will require you to dust off your memory of Boolean values and operators from ATBS Chapter two (which you went over in Week 1). \n",
    "\n",
    "As discussesd in the tutorial, in Pandas you can use expressions on columns to extract different rows, like extracting all the movies directed by Ridley Scott.\n",
    "\n",
    "As mentioned in the tutorial, the *first* thing you do is get a series of truth values with something like the following:"
   ]
  },
  {
   "cell_type": "code",
   "execution_count": 92,
   "id": "4b36c759",
   "metadata": {},
   "outputs": [],
   "source": [
    "scott_rows = (movies_df['director'] == \"Ridley Scott\")"
   ]
  },
  {
   "cell_type": "markdown",
   "id": "a91c6d88",
   "metadata": {},
   "source": [
    "The above is a series that returns `True` for rows where the directory column is \"Ridley Scott\", `False` otherwise (note I put parentheses around the expression on the right hand side for reasons that will become clear even though they are not technically necessary when only selecting for a single condition):"
   ]
  },
  {
   "cell_type": "code",
   "execution_count": 93,
   "id": "f9126336",
   "metadata": {},
   "outputs": [
    {
     "data": {
      "text/plain": [
       "Title\n",
       "Guardians of the Galaxy    False\n",
       "Prometheus                  True\n",
       "Split                      False\n",
       "Sing                       False\n",
       "Suicide Squad              False\n",
       "Name: director, dtype: bool"
      ]
     },
     "execution_count": 93,
     "metadata": {},
     "output_type": "execute_result"
    }
   ],
   "source": [
    "scott_rows.head()"
   ]
  },
  {
   "cell_type": "markdown",
   "id": "90e67798",
   "metadata": {},
   "source": [
    "Then to actually *use* that series of truth values to create a dataframe of Ridley Scott movies, we basically use that series as an index for the dataframe:"
   ]
  },
  {
   "cell_type": "code",
   "execution_count": 94,
   "id": "900deb13",
   "metadata": {},
   "outputs": [
    {
     "name": "stdout",
     "output_type": "stream",
     "text": [
      "8\n"
     ]
    },
    {
     "data": {
      "text/html": [
       "<div>\n",
       "<style scoped>\n",
       "    .dataframe tbody tr th:only-of-type {\n",
       "        vertical-align: middle;\n",
       "    }\n",
       "\n",
       "    .dataframe tbody tr th {\n",
       "        vertical-align: top;\n",
       "    }\n",
       "\n",
       "    .dataframe thead th {\n",
       "        text-align: right;\n",
       "    }\n",
       "</style>\n",
       "<table border=\"1\" class=\"dataframe\">\n",
       "  <thead>\n",
       "    <tr style=\"text-align: right;\">\n",
       "      <th></th>\n",
       "      <th>rank</th>\n",
       "      <th>genre</th>\n",
       "      <th>description</th>\n",
       "      <th>director</th>\n",
       "      <th>actors</th>\n",
       "      <th>year</th>\n",
       "      <th>runtime</th>\n",
       "      <th>rating</th>\n",
       "      <th>votes</th>\n",
       "      <th>revenue_millions</th>\n",
       "      <th>metascore</th>\n",
       "    </tr>\n",
       "    <tr>\n",
       "      <th>Title</th>\n",
       "      <th></th>\n",
       "      <th></th>\n",
       "      <th></th>\n",
       "      <th></th>\n",
       "      <th></th>\n",
       "      <th></th>\n",
       "      <th></th>\n",
       "      <th></th>\n",
       "      <th></th>\n",
       "      <th></th>\n",
       "      <th></th>\n",
       "    </tr>\n",
       "  </thead>\n",
       "  <tbody>\n",
       "    <tr>\n",
       "      <th>Prometheus</th>\n",
       "      <td>2</td>\n",
       "      <td>Adventure,Mystery,Sci-Fi</td>\n",
       "      <td>Following clues to the origin of mankind, a te...</td>\n",
       "      <td>Ridley Scott</td>\n",
       "      <td>Noomi Rapace, Logan Marshall-Green, Michael Fa...</td>\n",
       "      <td>2012</td>\n",
       "      <td>124</td>\n",
       "      <td>7.0</td>\n",
       "      <td>485820</td>\n",
       "      <td>126.46</td>\n",
       "      <td>65.0</td>\n",
       "    </tr>\n",
       "    <tr>\n",
       "      <th>The Martian</th>\n",
       "      <td>103</td>\n",
       "      <td>Adventure,Drama,Sci-Fi</td>\n",
       "      <td>An astronaut becomes stranded on Mars after hi...</td>\n",
       "      <td>Ridley Scott</td>\n",
       "      <td>Matt Damon, Jessica Chastain, Kristen Wiig, Ka...</td>\n",
       "      <td>2015</td>\n",
       "      <td>144</td>\n",
       "      <td>8.0</td>\n",
       "      <td>556097</td>\n",
       "      <td>228.43</td>\n",
       "      <td>80.0</td>\n",
       "    </tr>\n",
       "    <tr>\n",
       "      <th>Robin Hood</th>\n",
       "      <td>388</td>\n",
       "      <td>Action,Adventure,Drama</td>\n",
       "      <td>In 12th century England, Robin and his band of...</td>\n",
       "      <td>Ridley Scott</td>\n",
       "      <td>Russell Crowe, Cate Blanchett, Matthew Macfady...</td>\n",
       "      <td>2010</td>\n",
       "      <td>140</td>\n",
       "      <td>6.7</td>\n",
       "      <td>221117</td>\n",
       "      <td>105.22</td>\n",
       "      <td>53.0</td>\n",
       "    </tr>\n",
       "    <tr>\n",
       "      <th>American Gangster</th>\n",
       "      <td>471</td>\n",
       "      <td>Biography,Crime,Drama</td>\n",
       "      <td>In 1970s America, a detective works to bring d...</td>\n",
       "      <td>Ridley Scott</td>\n",
       "      <td>Denzel Washington, Russell Crowe, Chiwetel Eji...</td>\n",
       "      <td>2007</td>\n",
       "      <td>157</td>\n",
       "      <td>7.8</td>\n",
       "      <td>337835</td>\n",
       "      <td>130.13</td>\n",
       "      <td>76.0</td>\n",
       "    </tr>\n",
       "    <tr>\n",
       "      <th>Exodus: Gods and Kings</th>\n",
       "      <td>517</td>\n",
       "      <td>Action,Adventure,Drama</td>\n",
       "      <td>The defiant leader Moses rises up against the ...</td>\n",
       "      <td>Ridley Scott</td>\n",
       "      <td>Christian Bale, Joel Edgerton, Ben Kingsley, S...</td>\n",
       "      <td>2014</td>\n",
       "      <td>150</td>\n",
       "      <td>6.0</td>\n",
       "      <td>137299</td>\n",
       "      <td>65.01</td>\n",
       "      <td>52.0</td>\n",
       "    </tr>\n",
       "  </tbody>\n",
       "</table>\n",
       "</div>"
      ],
      "text/plain": [
       "                        rank                     genre  \\\n",
       "Title                                                    \n",
       "Prometheus                 2  Adventure,Mystery,Sci-Fi   \n",
       "The Martian              103    Adventure,Drama,Sci-Fi   \n",
       "Robin Hood               388    Action,Adventure,Drama   \n",
       "American Gangster        471     Biography,Crime,Drama   \n",
       "Exodus: Gods and Kings   517    Action,Adventure,Drama   \n",
       "\n",
       "                                                              description  \\\n",
       "Title                                                                       \n",
       "Prometheus              Following clues to the origin of mankind, a te...   \n",
       "The Martian             An astronaut becomes stranded on Mars after hi...   \n",
       "Robin Hood              In 12th century England, Robin and his band of...   \n",
       "American Gangster       In 1970s America, a detective works to bring d...   \n",
       "Exodus: Gods and Kings  The defiant leader Moses rises up against the ...   \n",
       "\n",
       "                            director  \\\n",
       "Title                                  \n",
       "Prometheus              Ridley Scott   \n",
       "The Martian             Ridley Scott   \n",
       "Robin Hood              Ridley Scott   \n",
       "American Gangster       Ridley Scott   \n",
       "Exodus: Gods and Kings  Ridley Scott   \n",
       "\n",
       "                                                                   actors  \\\n",
       "Title                                                                       \n",
       "Prometheus              Noomi Rapace, Logan Marshall-Green, Michael Fa...   \n",
       "The Martian             Matt Damon, Jessica Chastain, Kristen Wiig, Ka...   \n",
       "Robin Hood              Russell Crowe, Cate Blanchett, Matthew Macfady...   \n",
       "American Gangster       Denzel Washington, Russell Crowe, Chiwetel Eji...   \n",
       "Exodus: Gods and Kings  Christian Bale, Joel Edgerton, Ben Kingsley, S...   \n",
       "\n",
       "                        year  runtime  rating   votes  revenue_millions  \\\n",
       "Title                                                                     \n",
       "Prometheus              2012      124     7.0  485820            126.46   \n",
       "The Martian             2015      144     8.0  556097            228.43   \n",
       "Robin Hood              2010      140     6.7  221117            105.22   \n",
       "American Gangster       2007      157     7.8  337835            130.13   \n",
       "Exodus: Gods and Kings  2014      150     6.0  137299             65.01   \n",
       "\n",
       "                        metascore  \n",
       "Title                              \n",
       "Prometheus                   65.0  \n",
       "The Martian                  80.0  \n",
       "Robin Hood                   53.0  \n",
       "American Gangster            76.0  \n",
       "Exodus: Gods and Kings       52.0  "
      ]
     },
     "execution_count": 94,
     "metadata": {},
     "output_type": "execute_result"
    }
   ],
   "source": [
    "scott_df = movies_df[scott_rows]\n",
    "print(len(scott_df))\n",
    "scott_df.head()"
   ]
  },
  {
   "cell_type": "markdown",
   "id": "74f8ab28",
   "metadata": {},
   "source": [
    "What if you want to select for multiple conditions? You can combine them. Let's say we want to pull all movies directed by Steve McQueen:"
   ]
  },
  {
   "cell_type": "code",
   "execution_count": 95,
   "id": "3696ef4f",
   "metadata": {},
   "outputs": [
    {
     "data": {
      "text/html": [
       "<div>\n",
       "<style scoped>\n",
       "    .dataframe tbody tr th:only-of-type {\n",
       "        vertical-align: middle;\n",
       "    }\n",
       "\n",
       "    .dataframe tbody tr th {\n",
       "        vertical-align: top;\n",
       "    }\n",
       "\n",
       "    .dataframe thead th {\n",
       "        text-align: right;\n",
       "    }\n",
       "</style>\n",
       "<table border=\"1\" class=\"dataframe\">\n",
       "  <thead>\n",
       "    <tr style=\"text-align: right;\">\n",
       "      <th></th>\n",
       "      <th>rank</th>\n",
       "      <th>genre</th>\n",
       "      <th>description</th>\n",
       "      <th>director</th>\n",
       "      <th>actors</th>\n",
       "      <th>year</th>\n",
       "      <th>runtime</th>\n",
       "      <th>rating</th>\n",
       "      <th>votes</th>\n",
       "      <th>revenue_millions</th>\n",
       "      <th>metascore</th>\n",
       "    </tr>\n",
       "    <tr>\n",
       "      <th>Title</th>\n",
       "      <th></th>\n",
       "      <th></th>\n",
       "      <th></th>\n",
       "      <th></th>\n",
       "      <th></th>\n",
       "      <th></th>\n",
       "      <th></th>\n",
       "      <th></th>\n",
       "      <th></th>\n",
       "      <th></th>\n",
       "      <th></th>\n",
       "    </tr>\n",
       "  </thead>\n",
       "  <tbody>\n",
       "    <tr>\n",
       "      <th>12 Years a Slave</th>\n",
       "      <td>112</td>\n",
       "      <td>Biography,Drama,History</td>\n",
       "      <td>In the antebellum United States, Solomon North...</td>\n",
       "      <td>Steve McQueen</td>\n",
       "      <td>Chiwetel Ejiofor, Michael Kenneth Williams, Mi...</td>\n",
       "      <td>2013</td>\n",
       "      <td>134</td>\n",
       "      <td>8.1</td>\n",
       "      <td>486338</td>\n",
       "      <td>56.67</td>\n",
       "      <td>96.0</td>\n",
       "    </tr>\n",
       "    <tr>\n",
       "      <th>Shame</th>\n",
       "      <td>420</td>\n",
       "      <td>Drama</td>\n",
       "      <td>A man's carefully cultivated private life is d...</td>\n",
       "      <td>Steve McQueen</td>\n",
       "      <td>Michael Fassbender, Carey Mulligan, James Badg...</td>\n",
       "      <td>2011</td>\n",
       "      <td>101</td>\n",
       "      <td>7.2</td>\n",
       "      <td>155010</td>\n",
       "      <td>4.00</td>\n",
       "      <td>72.0</td>\n",
       "    </tr>\n",
       "    <tr>\n",
       "      <th>Hunger</th>\n",
       "      <td>687</td>\n",
       "      <td>Biography,Drama</td>\n",
       "      <td>Irish republican Bobby Sands leads the inmates...</td>\n",
       "      <td>Steve McQueen</td>\n",
       "      <td>Stuart Graham, Laine Megaw, Brian Milligan, Li...</td>\n",
       "      <td>2008</td>\n",
       "      <td>96</td>\n",
       "      <td>7.6</td>\n",
       "      <td>54486</td>\n",
       "      <td>0.15</td>\n",
       "      <td>82.0</td>\n",
       "    </tr>\n",
       "  </tbody>\n",
       "</table>\n",
       "</div>"
      ],
      "text/plain": [
       "                  rank                    genre  \\\n",
       "Title                                             \n",
       "12 Years a Slave   112  Biography,Drama,History   \n",
       "Shame              420                    Drama   \n",
       "Hunger             687          Biography,Drama   \n",
       "\n",
       "                                                        description  \\\n",
       "Title                                                                 \n",
       "12 Years a Slave  In the antebellum United States, Solomon North...   \n",
       "Shame             A man's carefully cultivated private life is d...   \n",
       "Hunger            Irish republican Bobby Sands leads the inmates...   \n",
       "\n",
       "                       director  \\\n",
       "Title                             \n",
       "12 Years a Slave  Steve McQueen   \n",
       "Shame             Steve McQueen   \n",
       "Hunger            Steve McQueen   \n",
       "\n",
       "                                                             actors  year  \\\n",
       "Title                                                                       \n",
       "12 Years a Slave  Chiwetel Ejiofor, Michael Kenneth Williams, Mi...  2013   \n",
       "Shame             Michael Fassbender, Carey Mulligan, James Badg...  2011   \n",
       "Hunger            Stuart Graham, Laine Megaw, Brian Milligan, Li...  2008   \n",
       "\n",
       "                  runtime  rating   votes  revenue_millions  metascore  \n",
       "Title                                                                   \n",
       "12 Years a Slave      134     8.1  486338             56.67       96.0  \n",
       "Shame                 101     7.2  155010              4.00       72.0  \n",
       "Hunger                 96     7.6   54486              0.15       82.0  "
      ]
     },
     "execution_count": 95,
     "metadata": {},
     "output_type": "execute_result"
    }
   ],
   "source": [
    "mcqueen_rows = (movies_df['director'] == \"Steve McQueen\")\n",
    "mcqueen_df = movies_df[mcqueen_rows]\n",
    "mcqueen_df.head()"
   ]
  },
  {
   "cell_type": "markdown",
   "id": "1702345c",
   "metadata": {},
   "source": [
    "To pull all movies that were directed by either McQueen *or* Scott, we can do an *element-wise* boolean or operator*, that will compare each element of the series: if one is True, then it will return True, if both are False, it returns False. The symbol for this element-wise or is the vertical line:"
   ]
  },
  {
   "cell_type": "code",
   "execution_count": 96,
   "id": "fe458d58",
   "metadata": {},
   "outputs": [
    {
     "data": {
      "text/html": [
       "<div>\n",
       "<style scoped>\n",
       "    .dataframe tbody tr th:only-of-type {\n",
       "        vertical-align: middle;\n",
       "    }\n",
       "\n",
       "    .dataframe tbody tr th {\n",
       "        vertical-align: top;\n",
       "    }\n",
       "\n",
       "    .dataframe thead th {\n",
       "        text-align: right;\n",
       "    }\n",
       "</style>\n",
       "<table border=\"1\" class=\"dataframe\">\n",
       "  <thead>\n",
       "    <tr style=\"text-align: right;\">\n",
       "      <th></th>\n",
       "      <th>rank</th>\n",
       "      <th>genre</th>\n",
       "      <th>description</th>\n",
       "      <th>director</th>\n",
       "      <th>actors</th>\n",
       "      <th>year</th>\n",
       "      <th>runtime</th>\n",
       "      <th>rating</th>\n",
       "      <th>votes</th>\n",
       "      <th>revenue_millions</th>\n",
       "      <th>metascore</th>\n",
       "    </tr>\n",
       "    <tr>\n",
       "      <th>Title</th>\n",
       "      <th></th>\n",
       "      <th></th>\n",
       "      <th></th>\n",
       "      <th></th>\n",
       "      <th></th>\n",
       "      <th></th>\n",
       "      <th></th>\n",
       "      <th></th>\n",
       "      <th></th>\n",
       "      <th></th>\n",
       "      <th></th>\n",
       "    </tr>\n",
       "  </thead>\n",
       "  <tbody>\n",
       "    <tr>\n",
       "      <th>Prometheus</th>\n",
       "      <td>2</td>\n",
       "      <td>Adventure,Mystery,Sci-Fi</td>\n",
       "      <td>Following clues to the origin of mankind, a te...</td>\n",
       "      <td>Ridley Scott</td>\n",
       "      <td>Noomi Rapace, Logan Marshall-Green, Michael Fa...</td>\n",
       "      <td>2012</td>\n",
       "      <td>124</td>\n",
       "      <td>7.0</td>\n",
       "      <td>485820</td>\n",
       "      <td>126.46</td>\n",
       "      <td>65.0</td>\n",
       "    </tr>\n",
       "    <tr>\n",
       "      <th>The Martian</th>\n",
       "      <td>103</td>\n",
       "      <td>Adventure,Drama,Sci-Fi</td>\n",
       "      <td>An astronaut becomes stranded on Mars after hi...</td>\n",
       "      <td>Ridley Scott</td>\n",
       "      <td>Matt Damon, Jessica Chastain, Kristen Wiig, Ka...</td>\n",
       "      <td>2015</td>\n",
       "      <td>144</td>\n",
       "      <td>8.0</td>\n",
       "      <td>556097</td>\n",
       "      <td>228.43</td>\n",
       "      <td>80.0</td>\n",
       "    </tr>\n",
       "    <tr>\n",
       "      <th>12 Years a Slave</th>\n",
       "      <td>112</td>\n",
       "      <td>Biography,Drama,History</td>\n",
       "      <td>In the antebellum United States, Solomon North...</td>\n",
       "      <td>Steve McQueen</td>\n",
       "      <td>Chiwetel Ejiofor, Michael Kenneth Williams, Mi...</td>\n",
       "      <td>2013</td>\n",
       "      <td>134</td>\n",
       "      <td>8.1</td>\n",
       "      <td>486338</td>\n",
       "      <td>56.67</td>\n",
       "      <td>96.0</td>\n",
       "    </tr>\n",
       "    <tr>\n",
       "      <th>Robin Hood</th>\n",
       "      <td>388</td>\n",
       "      <td>Action,Adventure,Drama</td>\n",
       "      <td>In 12th century England, Robin and his band of...</td>\n",
       "      <td>Ridley Scott</td>\n",
       "      <td>Russell Crowe, Cate Blanchett, Matthew Macfady...</td>\n",
       "      <td>2010</td>\n",
       "      <td>140</td>\n",
       "      <td>6.7</td>\n",
       "      <td>221117</td>\n",
       "      <td>105.22</td>\n",
       "      <td>53.0</td>\n",
       "    </tr>\n",
       "    <tr>\n",
       "      <th>Shame</th>\n",
       "      <td>420</td>\n",
       "      <td>Drama</td>\n",
       "      <td>A man's carefully cultivated private life is d...</td>\n",
       "      <td>Steve McQueen</td>\n",
       "      <td>Michael Fassbender, Carey Mulligan, James Badg...</td>\n",
       "      <td>2011</td>\n",
       "      <td>101</td>\n",
       "      <td>7.2</td>\n",
       "      <td>155010</td>\n",
       "      <td>4.00</td>\n",
       "      <td>72.0</td>\n",
       "    </tr>\n",
       "  </tbody>\n",
       "</table>\n",
       "</div>"
      ],
      "text/plain": [
       "                  rank                     genre  \\\n",
       "Title                                              \n",
       "Prometheus           2  Adventure,Mystery,Sci-Fi   \n",
       "The Martian        103    Adventure,Drama,Sci-Fi   \n",
       "12 Years a Slave   112   Biography,Drama,History   \n",
       "Robin Hood         388    Action,Adventure,Drama   \n",
       "Shame              420                     Drama   \n",
       "\n",
       "                                                        description  \\\n",
       "Title                                                                 \n",
       "Prometheus        Following clues to the origin of mankind, a te...   \n",
       "The Martian       An astronaut becomes stranded on Mars after hi...   \n",
       "12 Years a Slave  In the antebellum United States, Solomon North...   \n",
       "Robin Hood        In 12th century England, Robin and his band of...   \n",
       "Shame             A man's carefully cultivated private life is d...   \n",
       "\n",
       "                       director  \\\n",
       "Title                             \n",
       "Prometheus         Ridley Scott   \n",
       "The Martian        Ridley Scott   \n",
       "12 Years a Slave  Steve McQueen   \n",
       "Robin Hood         Ridley Scott   \n",
       "Shame             Steve McQueen   \n",
       "\n",
       "                                                             actors  year  \\\n",
       "Title                                                                       \n",
       "Prometheus        Noomi Rapace, Logan Marshall-Green, Michael Fa...  2012   \n",
       "The Martian       Matt Damon, Jessica Chastain, Kristen Wiig, Ka...  2015   \n",
       "12 Years a Slave  Chiwetel Ejiofor, Michael Kenneth Williams, Mi...  2013   \n",
       "Robin Hood        Russell Crowe, Cate Blanchett, Matthew Macfady...  2010   \n",
       "Shame             Michael Fassbender, Carey Mulligan, James Badg...  2011   \n",
       "\n",
       "                  runtime  rating   votes  revenue_millions  metascore  \n",
       "Title                                                                   \n",
       "Prometheus            124     7.0  485820            126.46       65.0  \n",
       "The Martian           144     8.0  556097            228.43       80.0  \n",
       "12 Years a Slave      134     8.1  486338             56.67       96.0  \n",
       "Robin Hood            140     6.7  221117            105.22       53.0  \n",
       "Shame                 101     7.2  155010              4.00       72.0  "
      ]
     },
     "execution_count": 96,
     "metadata": {},
     "output_type": "execute_result"
    }
   ],
   "source": [
    "scott_or_lynch_rows = mcqueen_rows | scott_rows\n",
    "scott_or_lynch_df = movies_df[scott_or_lynch_rows]\n",
    "scott_or_lynch_df.head()"
   ]
  },
  {
   "cell_type": "markdown",
   "id": "375ea798",
   "metadata": {},
   "source": [
    "If we wanted to do an element-wise boolean *and* operation, we would use an ampersand `&` instead of the word `and` (we don't want to do that for our directors because there are no movies directed by both Nolan and McQueen). \n",
    "\n",
    "The tutorial does a good job showing how to chain together the boolean `&` operators to narrow down rows of the dataframe. Note that when chaining them together, you have to put the different conditions in paretheses, which is why I put individual conditions in paretheses above (it is a good habit to get into: it is pretty rare that you just want to select on one condition)."
   ]
  },
  {
   "cell_type": "markdown",
   "id": "8a13014e",
   "metadata": {},
   "source": [
    "### Workspace for conditional Selections\n",
    "This is an important concept, so be sure you understand how it works and build up some basic muscle memory!"
   ]
  },
  {
   "cell_type": "code",
   "execution_count": 97,
   "id": "3c26c2ed",
   "metadata": {},
   "outputs": [],
   "source": [
    "# workspace for conditional selections"
   ]
  },
  {
   "cell_type": "markdown",
   "id": "6eea909c",
   "metadata": {},
   "source": [
    "### Applying functions to rows and create new rows: apply()\n",
    "This section is quite important, and really covers two topics in one. \n",
    "\n",
    "1. How do you create a new column in a dataframe? Often you will want to create a new column that is *derived from* other columns. \n",
    "2. How do you do such derivations in a *computationally efficient* way? \n",
    "\n",
    "This section of the tutorial wraps both of these questions together, showing you how to use Pandas built-in `apply()` method to apply code to all of the rows of pre-existing columns in order to push the results into new columns. \n",
    "\n",
    "While you might be tempted to use a Python `for` loop to manually apply a function to every row of a column, and insert the result to a new column, this is pretty slow. Pandas built-in `apply()` method is much faster (it is said to *vectorize* the operation, applying it to all of your data at once instead of going through a traditional loop). In general, it is much faster to vectorize operations than to run things through a home-grown for loop."
   ]
  },
  {
   "cell_type": "markdown",
   "id": "ab4e4158",
   "metadata": {},
   "source": [
    "The tutorial has a nice example of how to do this, applying a function (`rating_function()`) to each element of the `rating` column and converting it to a rating *category* (`good` if above 8, otherwise `bad`). Be sure you work through this helpful practical example in the workspace!  \n",
    "\n",
    "(Note for now don't worry about the lambda function stuff that is a more advanced topic. For now, I recommend using the explicit separate definition using `def rating_function()` to make sure you grasp the concepts involved). \n",
    "\n",
    "**Bonus workspace question**   \n",
    "After following the example creating a `rating_category` column, use conditional selection from the previous section to create a data frame that contains only `good` movies. What percentage of movies are good?"
   ]
  },
  {
   "cell_type": "code",
   "execution_count": 62,
   "id": "b267516a",
   "metadata": {},
   "outputs": [],
   "source": [
    "# workspace for apply()"
   ]
  },
  {
   "cell_type": "code",
   "execution_count": 98,
   "id": "e681e5e9",
   "metadata": {},
   "outputs": [],
   "source": [
    "def rating_function(x):\n",
    "    if x >= 8.0:\n",
    "        return \"good\"\n",
    "    else:\n",
    "        return \"bad\""
   ]
  },
  {
   "cell_type": "code",
   "execution_count": 99,
   "id": "d0a45b85",
   "metadata": {},
   "outputs": [],
   "source": [
    "movies_df[\"rating_category\"] = movies_df[\"rating\"].apply(rating_function)"
   ]
  },
  {
   "cell_type": "code",
   "execution_count": 100,
   "id": "ba1b60b9",
   "metadata": {},
   "outputs": [
    {
     "name": "stdout",
     "output_type": "stream",
     "text": [
      "78 1000\n"
     ]
    },
    {
     "data": {
      "text/html": [
       "<div>\n",
       "<style scoped>\n",
       "    .dataframe tbody tr th:only-of-type {\n",
       "        vertical-align: middle;\n",
       "    }\n",
       "\n",
       "    .dataframe tbody tr th {\n",
       "        vertical-align: top;\n",
       "    }\n",
       "\n",
       "    .dataframe thead th {\n",
       "        text-align: right;\n",
       "    }\n",
       "</style>\n",
       "<table border=\"1\" class=\"dataframe\">\n",
       "  <thead>\n",
       "    <tr style=\"text-align: right;\">\n",
       "      <th></th>\n",
       "      <th>rank</th>\n",
       "      <th>genre</th>\n",
       "      <th>description</th>\n",
       "      <th>director</th>\n",
       "      <th>actors</th>\n",
       "      <th>year</th>\n",
       "      <th>runtime</th>\n",
       "      <th>rating</th>\n",
       "      <th>votes</th>\n",
       "      <th>revenue_millions</th>\n",
       "      <th>metascore</th>\n",
       "      <th>rating_category</th>\n",
       "    </tr>\n",
       "    <tr>\n",
       "      <th>Title</th>\n",
       "      <th></th>\n",
       "      <th></th>\n",
       "      <th></th>\n",
       "      <th></th>\n",
       "      <th></th>\n",
       "      <th></th>\n",
       "      <th></th>\n",
       "      <th></th>\n",
       "      <th></th>\n",
       "      <th></th>\n",
       "      <th></th>\n",
       "      <th></th>\n",
       "    </tr>\n",
       "  </thead>\n",
       "  <tbody>\n",
       "    <tr>\n",
       "      <th>Guardians of the Galaxy</th>\n",
       "      <td>1</td>\n",
       "      <td>Action,Adventure,Sci-Fi</td>\n",
       "      <td>A group of intergalactic criminals are forced ...</td>\n",
       "      <td>James Gunn</td>\n",
       "      <td>Chris Pratt, Vin Diesel, Bradley Cooper, Zoe S...</td>\n",
       "      <td>2014</td>\n",
       "      <td>121</td>\n",
       "      <td>8.1</td>\n",
       "      <td>757074</td>\n",
       "      <td>333.130000</td>\n",
       "      <td>76.0</td>\n",
       "      <td>good</td>\n",
       "    </tr>\n",
       "    <tr>\n",
       "      <th>La La Land</th>\n",
       "      <td>7</td>\n",
       "      <td>Comedy,Drama,Music</td>\n",
       "      <td>A jazz pianist falls for an aspiring actress i...</td>\n",
       "      <td>Damien Chazelle</td>\n",
       "      <td>Ryan Gosling, Emma Stone, Rosemarie DeWitt, J....</td>\n",
       "      <td>2016</td>\n",
       "      <td>128</td>\n",
       "      <td>8.3</td>\n",
       "      <td>258682</td>\n",
       "      <td>151.060000</td>\n",
       "      <td>93.0</td>\n",
       "      <td>good</td>\n",
       "    </tr>\n",
       "    <tr>\n",
       "      <th>Hacksaw Ridge</th>\n",
       "      <td>17</td>\n",
       "      <td>Biography,Drama,History</td>\n",
       "      <td>WWII American Army Medic Desmond T. Doss, who ...</td>\n",
       "      <td>Mel Gibson</td>\n",
       "      <td>Andrew Garfield, Sam Worthington, Luke Bracey,...</td>\n",
       "      <td>2016</td>\n",
       "      <td>139</td>\n",
       "      <td>8.2</td>\n",
       "      <td>211760</td>\n",
       "      <td>67.120000</td>\n",
       "      <td>71.0</td>\n",
       "      <td>good</td>\n",
       "    </tr>\n",
       "    <tr>\n",
       "      <th>Lion</th>\n",
       "      <td>19</td>\n",
       "      <td>Biography,Drama</td>\n",
       "      <td>A five-year-old Indian boy gets lost on the st...</td>\n",
       "      <td>Garth Davis</td>\n",
       "      <td>Dev Patel, Nicole Kidman, Rooney Mara, Sunny P...</td>\n",
       "      <td>2016</td>\n",
       "      <td>118</td>\n",
       "      <td>8.1</td>\n",
       "      <td>102061</td>\n",
       "      <td>51.690000</td>\n",
       "      <td>69.0</td>\n",
       "      <td>good</td>\n",
       "    </tr>\n",
       "    <tr>\n",
       "      <th>Arrival</th>\n",
       "      <td>20</td>\n",
       "      <td>Drama,Mystery,Sci-Fi</td>\n",
       "      <td>When twelve mysterious spacecraft appear aroun...</td>\n",
       "      <td>Denis Villeneuve</td>\n",
       "      <td>Amy Adams, Jeremy Renner, Forest Whitaker,Mich...</td>\n",
       "      <td>2016</td>\n",
       "      <td>116</td>\n",
       "      <td>8.0</td>\n",
       "      <td>340798</td>\n",
       "      <td>100.500000</td>\n",
       "      <td>81.0</td>\n",
       "      <td>good</td>\n",
       "    </tr>\n",
       "    <tr>\n",
       "      <th>...</th>\n",
       "      <td>...</td>\n",
       "      <td>...</td>\n",
       "      <td>...</td>\n",
       "      <td>...</td>\n",
       "      <td>...</td>\n",
       "      <td>...</td>\n",
       "      <td>...</td>\n",
       "      <td>...</td>\n",
       "      <td>...</td>\n",
       "      <td>...</td>\n",
       "      <td>...</td>\n",
       "      <td>...</td>\n",
       "    </tr>\n",
       "    <tr>\n",
       "      <th>El secreto de sus ojos</th>\n",
       "      <td>743</td>\n",
       "      <td>Drama,Mystery,Romance</td>\n",
       "      <td>A retired legal counselor writes a novel hopin...</td>\n",
       "      <td>Juan José Campanella</td>\n",
       "      <td>Ricardo Darín, Soledad Villamil, Pablo Rago,Ca...</td>\n",
       "      <td>2009</td>\n",
       "      <td>129</td>\n",
       "      <td>8.2</td>\n",
       "      <td>144524</td>\n",
       "      <td>20.170000</td>\n",
       "      <td>80.0</td>\n",
       "      <td>good</td>\n",
       "    </tr>\n",
       "    <tr>\n",
       "      <th>PK</th>\n",
       "      <td>766</td>\n",
       "      <td>Comedy,Drama,Romance</td>\n",
       "      <td>A stranger in the city asks questions no one h...</td>\n",
       "      <td>Rajkumar Hirani</td>\n",
       "      <td>Aamir Khan, Anushka Sharma, Sanjay Dutt,Boman ...</td>\n",
       "      <td>2014</td>\n",
       "      <td>153</td>\n",
       "      <td>8.2</td>\n",
       "      <td>103279</td>\n",
       "      <td>10.570000</td>\n",
       "      <td>51.0</td>\n",
       "      <td>good</td>\n",
       "    </tr>\n",
       "    <tr>\n",
       "      <th>How to Train Your Dragon</th>\n",
       "      <td>773</td>\n",
       "      <td>Animation,Action,Adventure</td>\n",
       "      <td>A hapless young Viking who aspires to hunt dra...</td>\n",
       "      <td>Dean DeBlois</td>\n",
       "      <td>Jay Baruchel, Gerard Butler,Christopher Mintz-...</td>\n",
       "      <td>2010</td>\n",
       "      <td>98</td>\n",
       "      <td>8.1</td>\n",
       "      <td>523893</td>\n",
       "      <td>217.390000</td>\n",
       "      <td>74.0</td>\n",
       "      <td>good</td>\n",
       "    </tr>\n",
       "    <tr>\n",
       "      <th>Koe no katachi</th>\n",
       "      <td>862</td>\n",
       "      <td>Animation,Drama,Romance</td>\n",
       "      <td>The story revolves around Nishimiya Shoko, a g...</td>\n",
       "      <td>Naoko Yamada</td>\n",
       "      <td>Miyu Irino, Saori Hayami, Aoi Yuki, Kenshô Ono</td>\n",
       "      <td>2016</td>\n",
       "      <td>129</td>\n",
       "      <td>8.4</td>\n",
       "      <td>2421</td>\n",
       "      <td>82.956376</td>\n",
       "      <td>80.0</td>\n",
       "      <td>good</td>\n",
       "    </tr>\n",
       "    <tr>\n",
       "      <th>Taare Zameen Par</th>\n",
       "      <td>992</td>\n",
       "      <td>Drama,Family,Music</td>\n",
       "      <td>An eight-year-old boy is thought to be a lazy ...</td>\n",
       "      <td>Aamir Khan</td>\n",
       "      <td>Darsheel Safary, Aamir Khan, Tanay Chheda, Sac...</td>\n",
       "      <td>2007</td>\n",
       "      <td>165</td>\n",
       "      <td>8.5</td>\n",
       "      <td>102697</td>\n",
       "      <td>1.200000</td>\n",
       "      <td>42.0</td>\n",
       "      <td>good</td>\n",
       "    </tr>\n",
       "  </tbody>\n",
       "</table>\n",
       "<p>78 rows × 12 columns</p>\n",
       "</div>"
      ],
      "text/plain": [
       "                          rank                       genre  \\\n",
       "Title                                                        \n",
       "Guardians of the Galaxy      1     Action,Adventure,Sci-Fi   \n",
       "La La Land                   7          Comedy,Drama,Music   \n",
       "Hacksaw Ridge               17     Biography,Drama,History   \n",
       "Lion                        19             Biography,Drama   \n",
       "Arrival                     20        Drama,Mystery,Sci-Fi   \n",
       "...                        ...                         ...   \n",
       "El secreto de sus ojos     743       Drama,Mystery,Romance   \n",
       "PK                         766        Comedy,Drama,Romance   \n",
       "How to Train Your Dragon   773  Animation,Action,Adventure   \n",
       "Koe no katachi             862     Animation,Drama,Romance   \n",
       "Taare Zameen Par           992          Drama,Family,Music   \n",
       "\n",
       "                                                                description  \\\n",
       "Title                                                                         \n",
       "Guardians of the Galaxy   A group of intergalactic criminals are forced ...   \n",
       "La La Land                A jazz pianist falls for an aspiring actress i...   \n",
       "Hacksaw Ridge             WWII American Army Medic Desmond T. Doss, who ...   \n",
       "Lion                      A five-year-old Indian boy gets lost on the st...   \n",
       "Arrival                   When twelve mysterious spacecraft appear aroun...   \n",
       "...                                                                     ...   \n",
       "El secreto de sus ojos    A retired legal counselor writes a novel hopin...   \n",
       "PK                        A stranger in the city asks questions no one h...   \n",
       "How to Train Your Dragon  A hapless young Viking who aspires to hunt dra...   \n",
       "Koe no katachi            The story revolves around Nishimiya Shoko, a g...   \n",
       "Taare Zameen Par          An eight-year-old boy is thought to be a lazy ...   \n",
       "\n",
       "                                      director  \\\n",
       "Title                                            \n",
       "Guardians of the Galaxy             James Gunn   \n",
       "La La Land                     Damien Chazelle   \n",
       "Hacksaw Ridge                       Mel Gibson   \n",
       "Lion                               Garth Davis   \n",
       "Arrival                       Denis Villeneuve   \n",
       "...                                        ...   \n",
       "El secreto de sus ojos    Juan José Campanella   \n",
       "PK                             Rajkumar Hirani   \n",
       "How to Train Your Dragon          Dean DeBlois   \n",
       "Koe no katachi                    Naoko Yamada   \n",
       "Taare Zameen Par                    Aamir Khan   \n",
       "\n",
       "                                                                     actors  \\\n",
       "Title                                                                         \n",
       "Guardians of the Galaxy   Chris Pratt, Vin Diesel, Bradley Cooper, Zoe S...   \n",
       "La La Land                Ryan Gosling, Emma Stone, Rosemarie DeWitt, J....   \n",
       "Hacksaw Ridge             Andrew Garfield, Sam Worthington, Luke Bracey,...   \n",
       "Lion                      Dev Patel, Nicole Kidman, Rooney Mara, Sunny P...   \n",
       "Arrival                   Amy Adams, Jeremy Renner, Forest Whitaker,Mich...   \n",
       "...                                                                     ...   \n",
       "El secreto de sus ojos    Ricardo Darín, Soledad Villamil, Pablo Rago,Ca...   \n",
       "PK                        Aamir Khan, Anushka Sharma, Sanjay Dutt,Boman ...   \n",
       "How to Train Your Dragon  Jay Baruchel, Gerard Butler,Christopher Mintz-...   \n",
       "Koe no katachi               Miyu Irino, Saori Hayami, Aoi Yuki, Kenshô Ono   \n",
       "Taare Zameen Par          Darsheel Safary, Aamir Khan, Tanay Chheda, Sac...   \n",
       "\n",
       "                          year  runtime  rating   votes  revenue_millions  \\\n",
       "Title                                                                       \n",
       "Guardians of the Galaxy   2014      121     8.1  757074        333.130000   \n",
       "La La Land                2016      128     8.3  258682        151.060000   \n",
       "Hacksaw Ridge             2016      139     8.2  211760         67.120000   \n",
       "Lion                      2016      118     8.1  102061         51.690000   \n",
       "Arrival                   2016      116     8.0  340798        100.500000   \n",
       "...                        ...      ...     ...     ...               ...   \n",
       "El secreto de sus ojos    2009      129     8.2  144524         20.170000   \n",
       "PK                        2014      153     8.2  103279         10.570000   \n",
       "How to Train Your Dragon  2010       98     8.1  523893        217.390000   \n",
       "Koe no katachi            2016      129     8.4    2421         82.956376   \n",
       "Taare Zameen Par          2007      165     8.5  102697          1.200000   \n",
       "\n",
       "                          metascore rating_category  \n",
       "Title                                                \n",
       "Guardians of the Galaxy        76.0            good  \n",
       "La La Land                     93.0            good  \n",
       "Hacksaw Ridge                  71.0            good  \n",
       "Lion                           69.0            good  \n",
       "Arrival                        81.0            good  \n",
       "...                             ...             ...  \n",
       "El secreto de sus ojos         80.0            good  \n",
       "PK                             51.0            good  \n",
       "How to Train Your Dragon       74.0            good  \n",
       "Koe no katachi                 80.0            good  \n",
       "Taare Zameen Par               42.0            good  \n",
       "\n",
       "[78 rows x 12 columns]"
      ]
     },
     "execution_count": 100,
     "metadata": {},
     "output_type": "execute_result"
    }
   ],
   "source": [
    "good_rows = (movies_df[\"rating_category\"] == \"good\")\n",
    "good_df = movies_df[good_rows]\n",
    "print(len(good_df), len(movies_df))\n",
    "good_df.head(len(good_df))"
   ]
  },
  {
   "cell_type": "markdown",
   "id": "94610b79",
   "metadata": {},
   "source": [
    "## Plotting in Pandas\n",
    "Pandas has powerful built-in plotting capabilities to visualize your dataframe. It is built on Matplotib, which is nice, as it means you can modify your plots using the tools you learned in week 3. Before jumping into plotting, One useful trick we didn't go over in Week 3 for Matplotlib is setting default settings for all your plots by feeding a dictionary of parameters to `rcParams.update()` (`rc` stands for 'runtime configuration'):"
   ]
  },
  {
   "cell_type": "code",
   "execution_count": 185,
   "id": "93ef0c09",
   "metadata": {},
   "outputs": [],
   "source": [
    "import matplotlib.pyplot as plt\n",
    "plt.rcParams.update({'font.size': 13,\n",
    "                     'figure.figsize': (10,8)})"
   ]
  },
  {
   "cell_type": "markdown",
   "id": "f2af9db9",
   "metadata": {},
   "source": [
    "There are a couple of ways to plot from a dataframe. \n",
    "\n",
    "First, as discussed in the tutorial, you can use `df.plot()` and use the `kind` keyword argument (e.g., `kind='scatter'`) to specify the type of plot. This is helpful for quickly exploring different kinds of plots, or if you want to send a program a text string of a type of plot you want to draw.  \n",
    "\n",
    "The valid values of `kind` are enumerated here:    \n",
    "https://pandas.pydata.org/docs/reference/api/pandas.DataFrame.plot.html\n",
    "\n",
    "Second, you can be more explicit in your function call with `df.plot.plot_type()` where \"plot_type\" is the kind of plot you want to draw (the same as the values of `kind` from above). This second way of plotting makes it easy to get help as you can enter:\n",
    "\n",
    "    df.plot.<plot_type>?\n",
    "    \n",
    "in your notebook or google to find the documentation about that particular type of plot. You can always enumerate the different types of plots by entering `df.plot.` and hitting the tab key in your notebook."
   ]
  },
  {
   "cell_type": "markdown",
   "id": "cfe8b6f0",
   "metadata": {},
   "source": [
    "Let's check out an example."
   ]
  },
  {
   "cell_type": "code",
   "execution_count": 140,
   "id": "d94bd30b",
   "metadata": {},
   "outputs": [
    {
     "data": {
      "image/png": "[encoded data removed]",
      "text/plain": [
       "<Figure size 720x576 with 1 Axes>"
      ]
     },
     "metadata": {
      "needs_background": "light"
     },
     "output_type": "display_data"
    }
   ],
   "source": [
    "movies_df.plot.scatter(x='rating', \n",
    "                       y='metascore', \n",
    "                       alpha=0.5,\n",
    "                       color='tab:red');"
   ]
  },
  {
   "cell_type": "markdown",
   "id": "8a2d10ea",
   "metadata": {},
   "source": [
    "As expected, two of the rating values are very highly correlated. \n",
    "\n",
    "What about rating and revenue?"
   ]
  },
  {
   "cell_type": "code",
   "execution_count": 187,
   "id": "f4a7493b",
   "metadata": {},
   "outputs": [
    {
     "data": {
      "image/png": "[encoded data removed]",
      "text/plain": [
       "<Figure size 720x576 with 1 Axes>"
      ]
     },
     "metadata": {
      "needs_background": "light"
     },
     "output_type": "display_data"
    }
   ],
   "source": [
    "movies_df.plot.scatter(x='rating', \n",
    "                       y='revenue_millions');"
   ]
  },
  {
   "cell_type": "markdown",
   "id": "ef4a9a44",
   "metadata": {},
   "source": [
    "These look correlated, but there are so many points smashed together with low revenue, it is hard to tell. Let's improve the plot in a few ways:\n",
    "- Change the y axis to logarithmic scale to pull apart the values.\n",
    "- Improve the titles.\n",
    "- Change the alpha value so overlapping points are darker.\n",
    "- Use matplotlib to add some lines for key values of revenue (and to show how to mix Matplotlib with Pandas)."
   ]
  },
  {
   "cell_type": "code",
   "execution_count": 192,
   "id": "a595692d",
   "metadata": {
    "scrolled": false
   },
   "outputs": [
    {
     "data": {
      "image/png": "[encoded data removed]",
      "text/plain": [
       "<Figure size 504x504 with 1 Axes>"
      ]
     },
     "metadata": {
      "needs_background": "light"
     },
     "output_type": "display_data"
    }
   ],
   "source": [
    "movies_df.plot.scatter(x='rating', \n",
    "                       y='revenue_millions', \n",
    "                       alpha=0.3,\n",
    "                       color='tab:grey',\n",
    "                       logy=True,\n",
    "                       title=\"$ vs Rating\",\n",
    "                       xlabel=\"Rating\",\n",
    "                       ylabel=\"Revenue (Millions)\",\n",
    "                       figsize=(7,7))\n",
    "plt.axhline(1, \n",
    "            color='blue', \n",
    "            linewidth=0.5,\n",
    "            label='1 million');\n",
    "plt.axhline(10, \n",
    "            color='lime', \n",
    "            linewidth=0.75,\n",
    "            label='10 million');\n",
    "plt.axhline(100, \n",
    "            color='red', \n",
    "            linewidth=1,\n",
    "            label='100 million');\n",
    "plt.axhline(1000,\n",
    "            color='magenta',\n",
    "           label='1 billion')\n",
    "plt.legend()\n",
    "plt.title('');"
   ]
  },
  {
   "cell_type": "markdown",
   "id": "afba14e8",
   "metadata": {},
   "source": [
    "Now we can see just how messy the relationship is. There are many poorly rated movies that make a **lot** of money."
   ]
  },
  {
   "cell_type": "markdown",
   "id": "45980bb9",
   "metadata": {},
   "source": [
    "Now if you want to do something to a *single column* like draw a histogram to show the distribution of the values of a variable, things are a little different. You select just the single column instead of the entire dataframe, and then run the plot method on it you want (otherwise plotting the hist will try to plot histograms of all the values in your dataframe simultaneously and it will look absolutely horrible):"
   ]
  },
  {
   "cell_type": "code",
   "execution_count": 201,
   "id": "d9393bd7",
   "metadata": {},
   "outputs": [
    {
     "data": {
      "image/png": "[encoded data removed]",
      "text/plain": [
       "<Figure size 720x576 with 1 Axes>"
      ]
     },
     "metadata": {
      "needs_background": "light"
     },
     "output_type": "display_data"
    }
   ],
   "source": [
    "movies_df['revenue_millions'].plot.hist(bins=30, color='black');\n",
    "plt.xlabel(\"Revenue (Millions)\");  #adding label because bug in pandas"
   ]
  },
  {
   "cell_type": "markdown",
   "id": "50820b36",
   "metadata": {},
   "source": [
    "Or you could show the probability of different ratings using kernel density estimation (kde):"
   ]
  },
  {
   "cell_type": "code",
   "execution_count": 202,
   "id": "bf6c83ae",
   "metadata": {},
   "outputs": [
    {
     "data": {
      "image/png": "[encoded data removed]",
      "text/plain": [
       "<Figure size 720x576 with 1 Axes>"
      ]
     },
     "metadata": {
      "needs_background": "light"
     },
     "output_type": "display_data"
    }
   ],
   "source": [
    "movies_df['rating'].plot.kde(xlabel=\"Rating\");\n",
    "plt.xlabel(\"Rating\");"
   ]
  },
  {
   "cell_type": "markdown",
   "id": "1ea99c56",
   "metadata": {},
   "source": [
    "The boxplot, which the tutorial goes over, has a nice way to break things down by subcategories. For instance, if you want to see revenue broken down by rating category (the column we created above):"
   ]
  },
  {
   "cell_type": "code",
   "execution_count": 153,
   "id": "d25c9e93",
   "metadata": {},
   "outputs": [
    {
     "data": {
      "image/png": "[encoded data removed]",
      "text/plain": [
       "<Figure size 720x576 with 1 Axes>"
      ]
     },
     "metadata": {
      "needs_background": "light"
     },
     "output_type": "display_data"
    }
   ],
   "source": [
    "movies_df.boxplot(column='revenue_millions', by='rating_category');"
   ]
  },
  {
   "cell_type": "markdown",
   "id": "22e7072e",
   "metadata": {},
   "source": [
    "Unfortunately this way of breaking things down by category doesn't work for most of the plotting functions, and I'm not sure why. \n",
    "\n",
    "For instance if you try to draw a histogram with this syntax you will just get an error. The only way I'm aware of doing something like that with histograms is more complicated (e.g., one way would be to use conditional selections followed by two separate hist operations on the same plot, setting alpha to 0.5: *this would be a great exercise for an ambitious workspace exercise*!). "
   ]
  },
  {
   "cell_type": "markdown",
   "id": "5bd8fbd7",
   "metadata": {},
   "source": [
    "### Workspace for plotting\n",
    "I recommend playing with the different ways of plotting, just to be sure you are familiar with them. Also, if you like Pandas and think you will use it, I recommend the exercise from the previous paragraph. It is a pretty good representation of the type of challenge you will face with data visualization in real life. "
   ]
  },
  {
   "cell_type": "code",
   "execution_count": null,
   "id": "500d4163",
   "metadata": {},
   "outputs": [],
   "source": [
    "# workspace for plotting"
   ]
  },
  {
   "cell_type": "markdown",
   "id": "d2926692",
   "metadata": {},
   "source": [
    "### Additional resources for plotting with Pandas\n",
    "Strangely, the tutorial sort of ran out of steam once it started to go over plotting. It sort of was like \"Sorry I'm done now I'm tired.\" If you want more on plotting in Pandas:\n",
    "\n",
    "- https://realpython.com/pandas-plot-python/\n",
    "- https://neptune.ai/blog/pandas-plot-deep-dive-into-plotting-directly-with-pandas"
   ]
  },
  {
   "cell_type": "markdown",
   "id": "366de1cb",
   "metadata": {},
   "source": [
    "## I should really add something with seaborn it is truly magic"
   ]
  },
  {
   "cell_type": "markdown",
   "id": "7f6745cd",
   "metadata": {},
   "source": [
    "### Extracting data as numpy arrays: to_numpy()\n",
    "One thing the Pandas tutorial doesn't go over, that I find extremely helpful and important is how to convert it to numpy arrays. I do this all the time when I inherit code that provides analysis of dataframes and I just want to convert back to a format that I am more comfortable with (which is usually NumPy arrays and Matplotlib). \n",
    "\n",
    "You can convert entire Pandas dataframes, or pull out individual columns (using the selection/indexing we went over above), and then just convert to numpy:"
   ]
  },
  {
   "cell_type": "code",
   "execution_count": 203,
   "id": "e1c1ba89",
   "metadata": {},
   "outputs": [],
   "source": [
    "my_happy_place = movies_df['rating'].to_numpy()"
   ]
  },
  {
   "cell_type": "markdown",
   "id": "1dd05545",
   "metadata": {},
   "source": [
    "Yippee now I can use NumPy and Matplotlib on this data and not have to remember Pandas stuff!"
   ]
  },
  {
   "cell_type": "code",
   "execution_count": 184,
   "id": "d0770d4c",
   "metadata": {},
   "outputs": [
    {
     "name": "stdout",
     "output_type": "stream",
     "text": [
      "(1000,)\n"
     ]
    },
    {
     "data": {
      "image/png": "[encoded data removed]",
      "text/plain": [
       "<Figure size 720x576 with 1 Axes>"
      ]
     },
     "metadata": {
      "needs_background": "light"
     },
     "output_type": "display_data"
    }
   ],
   "source": [
    "print(my_happy_place.shape)\n",
    "plt.plot(my_happy_place, color='k');"
   ]
  },
  {
   "cell_type": "markdown",
   "id": "15b31d30",
   "metadata": {},
   "source": [
    "Seriously, though about 50% of people prefer Pandas to Numpy/Matplotlib. It likely depends on the type of data you are using, and your personal preferences. Just do what you feel will make you most efficient and help you get your science done the fastest. "
   ]
  },
  {
   "cell_type": "markdown",
   "id": "d72f7940",
   "metadata": {},
   "source": [
    "## Congrats!\n",
    "You have seen the basics of the dataframe creation, loading/saving, basic operations. Pandas, like NumPy, is a vast library, so we couldn't fully do it justice here, but we have hopefully given you a taste of the possibilities, especially for speeding things up with common tools for wranging, analysis, and visualization of your data. \n",
    "\n",
    "While this is a simplification, I have noticed there tend to be two types of people; those that prefer to do their analysis using NumPy and Matplotlib, and those that prefer to take advantage of the convenience of Pandas. Hopefully this notebook, by including a bit from all three, will give you a sense of what you might prefer moving forward. "
   ]
  },
  {
   "cell_type": "code",
   "execution_count": null,
   "id": "35a1a6c3",
   "metadata": {},
   "outputs": [],
   "source": []
  }
 ],
 "metadata": {
  "kernelspec": {
   "display_name": "Python 3",
   "language": "python",
   "name": "python3"
  },
  "language_info": {
   "codemirror_mode": {
    "name": "ipython",
    "version": 3
   },
   "file_extension": ".py",
   "mimetype": "text/x-python",
   "name": "python",
   "nbconvert_exporter": "python",
   "pygments_lexer": "ipython3",
   "version": "3.7.6"
  }
 },
 "nbformat": 4,
 "nbformat_minor": 5
}
