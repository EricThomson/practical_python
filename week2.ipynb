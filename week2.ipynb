{
 "cells": [
  {
   "cell_type": "markdown",
   "id": "ad87508a",
   "metadata": {},
   "source": [
    "# Week 2: Functions and data structures\n",
    "\n",
    "<img width = \"250\" src=\"./images/hazel.png\" align=\"right\" style=\"padding-left:10px\">\n",
    "\n",
    "This is our second and last weeek with ATBS!\n",
    "\n",
    "As we discussed at the end of Week 1 in class, this week we are going to be covering the final bits of Python basics: functions and the main types of data structures. We will be covering more chapters than last week, but it will be less work because other than learning about functions (admittedly a substantive topic), most of this week will involve learning about different data structures, which is fairly straightforward stuff. \n",
    "\n",
    "- [Chapter 3: Functions](#chapter3)\n",
    "- [Chapter 4: Lists and Tuples](#chapter4)\n",
    "- [Chapter 5: Dictionaries](#chapter5)\n",
    "- [Chapter 6: Strings](#chapter6)\n",
    "\n",
    "My recommendation for picking up the material is the same as last week: make lots of cells and mess around with code: tweak and twiddle with the examples to see what happens. Coding is largely muscle memory, so it is really important to literally *type code*, especially when learning the basics. If you run into error messages, first make sure there isn't an obvious mistake in the code (an unclosed paren or quotation mark). Second, read the error message that pops up: they are often helpful. Barring that, Google the error message there are great resources online. \n",
    "\n",
    "### Note: this week we will be skipping quite a bit\n",
    "There are going to be quite a few sections I recommend skipping in ATBS. You obviously don't *have* to skip them, but I'm asking you to cover a lot of material this week, so think it is important to stick to the essentials of the language and not focus on every single detail. Those of you who really want to burrow into the details, obviously feel free!\n",
    "\n",
    "Also, Sweigart will start to introduce some more time-consuming programming projects in these chapters. I'm a huge advocate of learning via practical projects, but you'll notice I'm suggesting you skip them. This is a practical decision: covering four chapters in one week is already a lot of work, so I think it is enough to just spend your time tweaking and fiddling with the coding examples in the main body of the chapters. That *is* your project.\n",
    "\n",
    "Also, our goal is to get into more data-analysis relevant material, and we will have more project-type stuff in future weeks. However, if you have time left over and *want* to work on those projects, by all means please do! If you want to check your work (or just look at some examples) there are people that have done them and posted their work online ([this repo seems good](https://github.com/kudeh/automate-the-boring-stuff-projects))."
   ]
  },
  {
   "cell_type": "markdown",
   "id": "22a52dc9",
   "metadata": {},
   "source": [
    "<a id=\"chapter3\"></a>\n",
    "# Chapter 3: Functions\n",
    "[Link to Chapter 3 in ATBS: Functions](https://automatetheboringstuff.com/2e/chapter3/) \n",
    "\n",
    "Functions will be a crucial piece of any serious project. If you ever find yourself repeating a piece of code more than once, you should probably turn it into a function. If you find yourself repeating it across multiple files, you almost certainly should put it into a function and then import it. As Sweigart says, this is just a much more efficient way to program: if you improve the code, you will onlly have to do it once instead of everyplace you have it duplicated."
   ]
  },
  {
   "cell_type": "code",
   "execution_count": null,
   "id": "fee331ab",
   "metadata": {},
   "outputs": [],
   "source": [
    "# workspace for initial section on functions"
   ]
  },
  {
   "cell_type": "markdown",
   "id": "a6763b99",
   "metadata": {},
   "source": [
    "### Video: functions\n",
    "[Video: functions](https://www.youtube.com/watch?v=xJLj6fWfw6k)\n",
    "\n",
    "To watch it embedded, run the following cell:"
   ]
  },
  {
   "cell_type": "code",
   "execution_count": 4,
   "id": "191e6907",
   "metadata": {},
   "outputs": [],
   "source": [
    "from IPython.display import YouTubeVideo\n",
    "YouTubeVideo('xJLj6fWfw6k', width=600, height=400)"
   ]
  },
  {
   "cell_type": "markdown",
   "id": "4c9b1cf4",
   "metadata": {},
   "source": [
    "## def statements with parameters\n",
    "This section should just be titled **Functions with inputs**, and is really important: you almost always want to give your functions inputs. This section explains how."
   ]
  },
  {
   "cell_type": "code",
   "execution_count": 5,
   "id": "e4fe8bfc",
   "metadata": {},
   "outputs": [],
   "source": [
    "# workspace for functions with inputs"
   ]
  },
  {
   "cell_type": "markdown",
   "id": "6889c273",
   "metadata": {},
   "source": [
    "## Return values and return statments\n",
    "How to get outputs from your functions. "
   ]
  },
  {
   "cell_type": "code",
   "execution_count": 3,
   "id": "93015270",
   "metadata": {},
   "outputs": [
    {
     "data": {
      "text/plain": [
       "nan"
      ]
     },
     "execution_count": 3,
     "metadata": {},
     "output_type": "execute_result"
    }
   ],
   "source": [
    "float('nan')"
   ]
  },
  {
   "cell_type": "code",
   "execution_count": 2,
   "id": "bb65871e",
   "metadata": {},
   "outputs": [],
   "source": [
    "# workspace for return values"
   ]
  },
  {
   "cell_type": "markdown",
   "id": "cf1720ee",
   "metadata": {},
   "source": [
    "## The None value\n",
    "Sometimes you want to return `None` from a function. For instance, functions with no return statement automatically return `None`: it is basically saying \"No value\". \n",
    "\n",
    "Also, while Sweigart doesn't mention it, in the world of numbers sometimes people use a value called 'not a number' , or `NaN` as a kind of numerical equivalent of `None`. The `nan` can be created with `float(nan)`. Don't worry about it too much for now, but just be aware of it."
   ]
  },
  {
   "cell_type": "code",
   "execution_count": 1,
   "id": "84e524b4",
   "metadata": {},
   "outputs": [],
   "source": [
    "# workspace for None"
   ]
  },
  {
   "cell_type": "markdown",
   "id": "119042d1",
   "metadata": {},
   "source": [
    "## Keyword arguments\n",
    "Keyword arguments are really important, and Sweigart effectively skips the topic completely. You will run into them a lot, and they are useful for writing clean code, so to learn more about the important concepts of positional and keyword arguments, please see:\n",
    "\n",
    "https://www.pythontutorial.net/python-basics/python-keyword-arguments/"
   ]
  },
  {
   "cell_type": "code",
   "execution_count": 3,
   "id": "93723ba7",
   "metadata": {},
   "outputs": [],
   "source": [
    "# workspace for the tutorial (the get_net_price example)"
   ]
  },
  {
   "cell_type": "markdown",
   "id": "1d391a80",
   "metadata": {},
   "source": [
    "## The Call Stack\n",
    "Skip this section (in general, four chapters is too much to cover in one week, so to save you time and focus your energy on the really important bits I'm suggesting you skip certain sections). These would be useful to loop back around to if you do a deeper dive into programming.\n",
    "\n",
    "## Local and Global Scope\n",
    "Skip \n",
    "\n",
    "## The GLOBAL Statement\n",
    "Skip. "
   ]
  },
  {
   "cell_type": "markdown",
   "id": "f289b1f9",
   "metadata": {},
   "source": [
    "## Exception handling\n",
    "The `try/except` block is an important way to wrap potential errors in code that might be holding up your program. It is also a useful way to control program execution in its own right."
   ]
  },
  {
   "cell_type": "code",
   "execution_count": 4,
   "id": "26f0f814",
   "metadata": {},
   "outputs": [],
   "source": [
    "# Workspace for exception handling"
   ]
  },
  {
   "cell_type": "markdown",
   "id": "173ae50c",
   "metadata": {},
   "source": [
    "## A short program: zigzag\n",
    "**WARNING:** If you run this as it is in the book things will technically work, but the code will not end, and if you do end it it will be ugly. The differences with Jupyter are pretty important here. \n",
    "\n",
    "**To fix it**. First, replace the `sys.exit()` line in the book code with something like `print(\"Done\")`. Second, `ctrl-c` does not work to stop program execution in Jupyter: it will just make your browser think you are trying to copy something. Instead, you need to either go to your Jupyter nb menu and hit `Kernel->Interrupt`, or the keyboard shortcut `Esc-i-i` to halt program execution. \n",
    "\n",
    "If you ever get overwhelmed in a notebook you can go to `Kernel->Restart`, or if things get *really* out of control you can just close your browser tab (just be sure your work is saved first)."
   ]
  },
  {
   "cell_type": "code",
   "execution_count": 12,
   "id": "7385e838",
   "metadata": {},
   "outputs": [],
   "source": [
    "# zigzag workspace"
   ]
  },
  {
   "cell_type": "markdown",
   "id": "e344bd9a",
   "metadata": {},
   "source": [
    "## Chapter 3 Practice questions\n",
    "I would just skip the questions from the sections we skipped."
   ]
  },
  {
   "cell_type": "code",
   "execution_count": 7,
   "id": "d524c1eb",
   "metadata": {},
   "outputs": [],
   "source": [
    "# do practice questions here"
   ]
  },
  {
   "cell_type": "markdown",
   "id": "cdde807f",
   "metadata": {},
   "source": [
    "<a id =\"chapter4\"></a>\n",
    "# Chapter 4: Lists (and tuples)\n",
    "\n",
    "[Link to Chapter 4 in ATBS: Lists](https://automatetheboringstuff.com/2e/chapter4/)\n",
    "\n",
    "Data structures let you wrap a bunch of data together into one simple container. The list is probably the most common data structure in Python, and Sweigart does a very good job with the topic. As with the previous chapter, there are parts I am going to ask you to skip so we can focus on the essentials.\n",
    "\n",
    "Note if you ever get lost in your variables, and are not sure what type of variable something is (int, list, string, etc), you can always type `type(var_name)` and Python will return the variable type. Go ahead and try this trick:"
   ]
  },
  {
   "cell_type": "code",
   "execution_count": 6,
   "id": "f317927e",
   "metadata": {},
   "outputs": [],
   "source": [
    "foo = [1,2,3]\n",
    "type(foo)"
   ]
  },
  {
   "cell_type": "markdown",
   "id": "fd1f7f80",
   "metadata": {},
   "source": [
    "## The list data type\n",
    "This is really important be sure you understand the `True` and the `False`. In the workspace be sure to play around with the comparison operators. "
   ]
  },
  {
   "cell_type": "code",
   "execution_count": 7,
   "id": "2c66693d",
   "metadata": {},
   "outputs": [],
   "source": [
    "# workspace for the list"
   ]
  },
  {
   "cell_type": "markdown",
   "id": "756c5593",
   "metadata": {},
   "source": [
    "### Video: lists\n",
    "[Video: lists](https://www.youtube.com/watch?v=5n6o1MaXDoE)\n",
    "\n",
    "To watch it embedded, run the following cell:"
   ]
  },
  {
   "cell_type": "code",
   "execution_count": 10,
   "id": "626fc963",
   "metadata": {},
   "outputs": [],
   "source": [
    "from IPython.display import YouTubeVideo\n",
    "YouTubeVideo('5n6o1MaXDoE', width=600, height=400)"
   ]
  },
  {
   "cell_type": "markdown",
   "id": "a7c828cf",
   "metadata": {},
   "source": [
    "## Getting individual values in a list with indices\n",
    "This section is really important, because it introduces you to the arcane world of indexing. Every programming language requires you to index arrays of values. Some languages start out indexing with one, most start with zero. Python starts with zeros. Why start with zero instead of one? If you google this question, you will get over one-hundred million results. \n",
    "\n",
    "For Python, what is probably the definitive answer comes from the writer of Python (Guido  van Rossum), which frankly won't make much sense until you've learned about slicing lists after a few more sections:    \n",
    "http://python-history.blogspot.com/2013/10/why-python-uses-0-based-indexing.html"
   ]
  },
  {
   "cell_type": "code",
   "execution_count": null,
   "id": "136e5084",
   "metadata": {},
   "outputs": [],
   "source": [
    "# workspace for indexing"
   ]
  },
  {
   "cell_type": "markdown",
   "id": "0b8110b8",
   "metadata": {},
   "source": [
    "## Negative indexes\n",
    "Negative indices are a really useful way to pull values from the *end* of a list. It may seem weird at first, but after a few times practicing it becomes second nature."
   ]
  },
  {
   "cell_type": "code",
   "execution_count": 1,
   "id": "141fcc3f",
   "metadata": {},
   "outputs": [],
   "source": [
    "# workspace for negative indexes"
   ]
  },
  {
   "cell_type": "markdown",
   "id": "44554ed4",
   "metadata": {},
   "source": [
    "## Getting a list from another list with slices\n",
    "Slicing is an *extremely* important topic. Beware of the fact that like with the `range()` function, slicing leaves out the last element. \n",
    "\n",
    "**Matlab users**: slicing (and zero-based indexing) in Python were the hardest things to adapt to in my transition to Python. You might want to take extra time to explore the unique features of slicing in Python."
   ]
  },
  {
   "cell_type": "code",
   "execution_count": 2,
   "id": "4b802678",
   "metadata": {},
   "outputs": [],
   "source": [
    "# workspace for slicing"
   ]
  },
  {
   "cell_type": "markdown",
   "id": "c4da5445",
   "metadata": {},
   "source": [
    "## Getting a list's length with the len() function\n",
    "In practice, I use this function all the time. You will learn a lot of functions (e.g., `reverse()`) that you will never use. This is not one of them."
   ]
  },
  {
   "cell_type": "code",
   "execution_count": null,
   "id": "cfa2f905",
   "metadata": {},
   "outputs": [],
   "source": [
    "# workspace for len"
   ]
  },
  {
   "cell_type": "markdown",
   "id": "405d529b",
   "metadata": {},
   "source": [
    "## Changing values in a list with indexes"
   ]
  },
  {
   "cell_type": "code",
   "execution_count": 4,
   "id": "0de50399",
   "metadata": {},
   "outputs": [],
   "source": [
    "# workspace for changing values"
   ]
  },
  {
   "cell_type": "markdown",
   "id": "d48a98a6",
   "metadata": {},
   "source": [
    "## List concatenation and list replication"
   ]
  },
  {
   "cell_type": "code",
   "execution_count": null,
   "id": "9403b505",
   "metadata": {},
   "outputs": [],
   "source": [
    "# workspace for concatenation/replication"
   ]
  },
  {
   "cell_type": "markdown",
   "id": "a6bd4e3e",
   "metadata": {},
   "source": [
    "## Removing values with del statements\n",
    "While Sweigart discusses removing individual elements of a list, you can also remove entire variables with `del`:\n",
    "\n",
    "    foo = [1, 2, 3]\n",
    "    del foo\n",
    "    \n",
    "This can be really useful for clearing space in RAM (for instance I sometimes have to do this with image stacks where individual variables can sometimes take up 40GB in memory)."
   ]
  },
  {
   "cell_type": "code",
   "execution_count": null,
   "id": "3744a8f8",
   "metadata": {},
   "outputs": [],
   "source": [
    "# removing values"
   ]
  },
  {
   "cell_type": "markdown",
   "id": "d88c642e",
   "metadata": {},
   "source": [
    "## Working with lists\n",
    "This is a section where Sweigart gets into when you might want lists, how they can be a useful alternative to storing a bunch of variables, and when they are typically used in practice."
   ]
  },
  {
   "cell_type": "code",
   "execution_count": null,
   "id": "7fa231f3",
   "metadata": {},
   "outputs": [],
   "source": [
    "# workspace for working with lists"
   ]
  },
  {
   "cell_type": "markdown",
   "id": "b477bc0c",
   "metadata": {},
   "source": [
    "## Using for loops with lists\n",
    "This is done all the time and is really important. Frankly, I was going to put the lists chapter into our first week, but because of this section I couldn't bring myself to do it because this is so important and I didn't want to rearrange individual sections of the chapters and start Rubiks cubing the book for this class. \n",
    "\n",
    "In my code I often try to loop over lists rather than using `range()` , because I find it makes the code more clear: it makes it more clear what exactly the intent is. "
   ]
  },
  {
   "cell_type": "code",
   "execution_count": 9,
   "id": "883fc04a",
   "metadata": {},
   "outputs": [],
   "source": [
    "# workspace for for loops with lists"
   ]
  },
  {
   "cell_type": "markdown",
   "id": "4f583cef",
   "metadata": {},
   "source": [
    "### Video: for loops with lists\n",
    "[Video: for loops with lists](https://www.youtube.com/watch?v=umTnflPbYww)\n",
    "\n",
    "To watch it embedded, run the following cell:"
   ]
  },
  {
   "cell_type": "code",
   "execution_count": 5,
   "id": "fedae766",
   "metadata": {},
   "outputs": [],
   "source": [
    "from IPython.display import YouTubeVideo\n",
    "YouTubeVideo('umTnflPbYww', width=600, height=400)"
   ]
  },
  {
   "cell_type": "markdown",
   "id": "123ee9f1",
   "metadata": {},
   "source": [
    "## The in and not operators"
   ]
  },
  {
   "cell_type": "code",
   "execution_count": 10,
   "id": "109dccc2",
   "metadata": {},
   "outputs": [],
   "source": [
    "# workspace for in and not operator workspace"
   ]
  },
  {
   "cell_type": "markdown",
   "id": "68863ea3",
   "metadata": {},
   "source": [
    "## The multiple assignment trick\n",
    "Skip"
   ]
  },
  {
   "cell_type": "markdown",
   "id": "4e1a34a9",
   "metadata": {},
   "source": [
    "## Using the enumerate() function with lists\n",
    "This is a semi-advanced trick, but really powerful. Especially people coming from other languages like C and Matlab tend to like to access elements of arrays using indexes rather than directly. I encourage people to try to break that habit when building for loops, and loop over elements of lists directly as discussed a couple of cells ago. \n",
    "\n",
    "However, sometimes you really do need to use an index. If you must, please do not name it `i` or `j` (is that a complex number?), or `l` (is that a 'one' or the letter 'el'?)  because this isn't 1983 c code where we are trying to be unreadable. In that case `enumerate()` is often a good Pythonic compromise."
   ]
  },
  {
   "cell_type": "code",
   "execution_count": null,
   "id": "d2b4baa2",
   "metadata": {},
   "outputs": [],
   "source": [
    "# workspace for enumerate"
   ]
  },
  {
   "cell_type": "markdown",
   "id": "4601f51c",
   "metadata": {},
   "source": [
    "## Using random.choice() and random.shuffle()"
   ]
  },
  {
   "cell_type": "code",
   "execution_count": 1,
   "id": "23c144fc",
   "metadata": {},
   "outputs": [],
   "source": [
    "# workspace for randomness"
   ]
  },
  {
   "cell_type": "markdown",
   "id": "5238ac97",
   "metadata": {},
   "source": [
    "## Augmented assignment operators\n",
    "I have noticed this syntactic sugar is used a lot more in other languages like C/C++ than in Python, but it is definitely common enough that you should be familir with it. Plus, it is a ubiquitous programming construct so it is very useful to be familiar with it anyway. \n",
    "\n",
    "Also it is used in the Pig Latin example in Chapter 6, which is a useful exercise I will go over in class. "
   ]
  },
  {
   "cell_type": "code",
   "execution_count": null,
   "id": "ce6850f1",
   "metadata": {},
   "outputs": [],
   "source": [
    "# augmented assignment operators"
   ]
  },
  {
   "cell_type": "markdown",
   "id": "9972bf2a",
   "metadata": {},
   "source": [
    "## Methods\n",
    "While we won't be talking about object oriented programming in this class (at the end of the class, I provide a link to a good resource for those who want to learn more about it). However, you should know that everything in Python is technically an *object*. All the numerical types, lists, strings, are all objects. Don't worry about what that means, you can just take it as an undefined primitive term. As we've discussed previously, to find out what *type* of object you are dealing with, you can use the `type(thing)` function. \n",
    "\n",
    "One useful thing about objects is that they have *methods*, which are functions that are called on those objects using a special syntax with the object name, a dot, and the method name followed by parentheses (parentheses are needed just like when you call a function): `object.method_name()`. \n",
    "\n",
    "This week, we will learn a few methods that apply to lists. More generally, we will learn some methods to apply to all the data structures in this class. Methods are basically really useful tools for doing things with/to objects. You could easily do them using traditional functions, so you can think of methods as a specialized route to a similar outcome: when you use a method it is saying \"This is meant to apply to this type of object. Someome took the time to write a function specifically for this type of object, just to make things more convenient.\"\n",
    "\n",
    "Note when going over methods I recommend you not get too bogged down in details over every single method that exists for a particular type of object. Some are *way* more important than others. I will try to point out the most important. Some I basically *never* use, and some I use in almost every program I write. "
   ]
  },
  {
   "cell_type": "code",
   "execution_count": 2,
   "id": "f255695f",
   "metadata": {},
   "outputs": [],
   "source": []
  },
  {
   "cell_type": "markdown",
   "id": "e1c20fac",
   "metadata": {},
   "source": [
    "## Finding a value in a list with the index() method"
   ]
  },
  {
   "cell_type": "code",
   "execution_count": 3,
   "id": "26885ffe",
   "metadata": {},
   "outputs": [],
   "source": [
    "# workspace for the index() method"
   ]
  },
  {
   "cell_type": "markdown",
   "id": "10eaad92",
   "metadata": {},
   "source": [
    "## Adding values to lists with append() and insert()\n",
    "In terms of list methods, `append()` is probably the one that you will use and see the most in practice. It is very common to create an empty list and then append elements to it in a for loop. It is also more efficient to simply append to a list than to insert in a particular position."
   ]
  },
  {
   "cell_type": "code",
   "execution_count": 4,
   "id": "213605cc",
   "metadata": {},
   "outputs": [],
   "source": [
    "# Workspace for append and insert"
   ]
  },
  {
   "cell_type": "markdown",
   "id": "e7ded05d",
   "metadata": {},
   "source": [
    "## Removing values from lists with remove()"
   ]
  },
  {
   "cell_type": "code",
   "execution_count": 5,
   "id": "9b08d696",
   "metadata": {},
   "outputs": [],
   "source": [
    "# workspace for remove"
   ]
  },
  {
   "cell_type": "markdown",
   "id": "c3d8875b",
   "metadata": {},
   "source": [
    "## Sorting the values in a list with sort()   -- and sorted()\n",
    "The study of sorting algorithms takes up a good chunk of computer science algorithms curricula.  Luckily we don't have to worry about that we can just treat the Python methods as a black box. Be sure you understand what Sweigart means when he says that the sort method sorts the list *in place* (basically it means it changes the list in memory you don't have to assign it a new value). If you want to sort *out of place* you can use the function `sorted()`.\n",
    "\n",
    "For more on sort and sorted you can see this tutorial:    \n",
    "https://realpython.com/python-sort/"
   ]
  },
  {
   "cell_type": "code",
   "execution_count": 11,
   "id": "400bc63a",
   "metadata": {},
   "outputs": [],
   "source": [
    "# workspace for sort()"
   ]
  },
  {
   "cell_type": "code",
   "execution_count": 12,
   "id": "3a3e6917",
   "metadata": {},
   "outputs": [],
   "source": [
    "# workspace for sorted()"
   ]
  },
  {
   "cell_type": "markdown",
   "id": "fc7e8eda",
   "metadata": {},
   "source": [
    "## Reversing the values in a list with reverse()"
   ]
  },
  {
   "cell_type": "code",
   "execution_count": 13,
   "id": "002d112b",
   "metadata": {},
   "outputs": [],
   "source": [
    "# workspace for reverse"
   ]
  },
  {
   "cell_type": "markdown",
   "id": "330c6a9c",
   "metadata": {},
   "source": [
    "### Video: list methods\n",
    "[Video: list methods](https://www.youtube.com/watch?v=Z9IxxW7428A)\n",
    "\n",
    "To watch it embedded, run the following cell:"
   ]
  },
  {
   "cell_type": "code",
   "execution_count": 8,
   "id": "10d58996",
   "metadata": {},
   "outputs": [],
   "source": [
    "from IPython.display import YouTubeVideo\n",
    "YouTubeVideo('Z9IxxW7428A', width=600, height=400)### Video: for loops with lists"
   ]
  },
  {
   "cell_type": "markdown",
   "id": "d4842e17",
   "metadata": {},
   "source": [
    "## Example program: Magic 8 Ball with a List"
   ]
  },
  {
   "cell_type": "code",
   "execution_count": 15,
   "id": "b5cd76a0",
   "metadata": {},
   "outputs": [],
   "source": [
    "# Enter program here"
   ]
  },
  {
   "cell_type": "markdown",
   "id": "4be0ec60",
   "metadata": {},
   "source": [
    "## Sequence data types\n",
    "Skip\n",
    "## Mutable and Immutable Data types\n",
    "Skip (we will briefly discuss this in the next section)."
   ]
  },
  {
   "cell_type": "markdown",
   "id": "d39de06e",
   "metadata": {},
   "source": [
    "## The Tuple data type\n",
    "Tuples are basically lists that are immutable: you can't change them -- you can access them using indexing and slicing, but you cannot change the values of the elements with methods like append. Strings are also immutable, as are numeric data types like integers. \n",
    "\n",
    "Tuples are formed by putting values in *comma*-delimited sequences rather than bracket-delimited sequences.\n",
    "\n",
    "Tuples indicate you don't want something to change, and they are also faster to iterate through (for instance in a for loop). So if there are ever a bunch of fixed parameters in a model, or RGB values for a bunch of plots, and you don't want them to be tweaked, or something like that, then tuples are a good option."
   ]
  },
  {
   "cell_type": "code",
   "execution_count": null,
   "id": "3d76509f",
   "metadata": {},
   "outputs": [],
   "source": [
    "# workspace for tuples"
   ]
  },
  {
   "cell_type": "markdown",
   "id": "6d56e84b",
   "metadata": {},
   "source": [
    "## Converting types with the list() and tuple() function"
   ]
  },
  {
   "cell_type": "code",
   "execution_count": 3,
   "id": "0c486727",
   "metadata": {},
   "outputs": [],
   "source": [
    "# Workspace for type conversion"
   ]
  },
  {
   "cell_type": "markdown",
   "id": "96551d7f",
   "metadata": {},
   "source": [
    "## References\n",
    "Skip\n",
    "## Identity and the id() function\n",
    "Skip\n",
    "## Passing references\n",
    "Skip"
   ]
  },
  {
   "cell_type": "markdown",
   "id": "3640c47a",
   "metadata": {},
   "source": [
    "## The copy module's copy() and deepcopy() funcions\n",
    "Skip.\n",
    "\n",
    "## A note on variable reference and scope\n",
    "The above sections we just skipped went pretty deep into the weeds, so I had you skip them.  However, there is one thing that is really important from those sections about how variables work. \n",
    "\n",
    "Let's say you do the following:\n",
    "\n",
    "    foo = [1, 2, 3]\n",
    "    bar = foo\n",
    "\n",
    "In Python, the second command does not create new object in memory (RAM), but a new name that refers to the same object as the original `foo`. This makes for extremely efficient memory/RAM usage in Python, but can get confusing: *when you change `foo`, you also change `bar`*. For instance, run the following code: "
   ]
  },
  {
   "cell_type": "code",
   "execution_count": 3,
   "id": "23746e8d",
   "metadata": {},
   "outputs": [],
   "source": [
    "foo = [1, 2, 3]\n",
    "bar = foo"
   ]
  },
  {
   "cell_type": "markdown",
   "id": "872a33b2",
   "metadata": {},
   "source": [
    "Now change the value of the original variable `foo`, and then inspect the value of the new variable bar."
   ]
  },
  {
   "cell_type": "code",
   "execution_count": 6,
   "id": "022bbe00",
   "metadata": {},
   "outputs": [],
   "source": [
    "foo[0] = 'new value'\n",
    "print(foo, bar)"
   ]
  },
  {
   "cell_type": "markdown",
   "id": "f0a8abc1",
   "metadata": {},
   "source": [
    "You will see that *both* foo as well as the derived variable *bar* have both changed! This can be pretty confusing at first, and is something you have to watch out for if you don't want to accidentally change a bunch of variables all at once. \n",
    "\n",
    "The way to get around this is with the `copy()` method with your built-in data structures. This will create a new variable that does not refer to the original object in memory, but creates a *new* object for the variable to pick out:"
   ]
  },
  {
   "cell_type": "code",
   "execution_count": 8,
   "id": "03826bcb",
   "metadata": {},
   "outputs": [],
   "source": [
    "foo = [1, 2, 3]\n",
    "bar = foo.copy()\n",
    "foo[0] = 'new value'\n",
    "print(foo, bar)"
   ]
  },
  {
   "cell_type": "markdown",
   "id": "649d8025",
   "metadata": {},
   "source": [
    "Now you will see that `bar` still contains the original values of foo, even after you alter the contents of foo. \n",
    "\n",
    "But what about inside functions? Surely Python will leave things alone when messing with a variable inside the scope a function, right. Alas, no. Try the following function, which simply changes the first element of a list to a new value. Even though you change the value of `foo` inside the function `change_list()`, it will remain changed *outside of the function*:"
   ]
  },
  {
   "cell_type": "code",
   "execution_count": 17,
   "id": "f3893d92",
   "metadata": {},
   "outputs": [],
   "source": [
    "def change_list(data):\n",
    "    data[0] = 'new value'\n",
    "    return data\n",
    "foo = [1, 2, 3]\n",
    "change_list(foo)\n",
    "print(foo)"
   ]
  },
  {
   "cell_type": "markdown",
   "id": "62fbcbc6",
   "metadata": {},
   "source": [
    "Again, this is one thing that really saves on computation speed/RAM, but can trip people up. As before, if you want to change values of the list in a function, while leaving the original the same, you should pass a copy of the list to the function:"
   ]
  },
  {
   "cell_type": "code",
   "execution_count": 23,
   "id": "388bcc30",
   "metadata": {},
   "outputs": [],
   "source": [
    "foo = [1, 2, 3]\n",
    "change_list(foo.copy())\n",
    "print(foo)"
   ]
  },
  {
   "cell_type": "markdown",
   "id": "242a104b",
   "metadata": {},
   "source": [
    "This was a short introduction to a complicated topic. To read more about variables and scope, please see the following excellent discussion: \n",
    "\n",
    "https://open.oregonstate.education/computationalbiology/chapter/variables-and-scope/\n",
    "\n",
    "If any of this is confusing, please ask a question for the next class. :) "
   ]
  },
  {
   "cell_type": "markdown",
   "id": "706c0ba2",
   "metadata": {},
   "source": [
    "## Conway's game of life\n",
    "Skip, unfortunately (this just doesn't work well in Jupyter notebooks). \n",
    "\n",
    "Not everything works well in a Jupyter notebook, unfortunately. If you want to get this example to work, you can save the code as a separate python file `conway.py` from a text editor and run it from the command line. To run Python code from the command line, go to your Anaconda prompt and change to the directory where the file is saved, and enter `python conway.py` and you will see the program run (and `ctrl-c` when you are done).\n",
    "\n",
    "Conway's game of life is a classic example that was pretty seminal in sparking people's imagination in the study of artificial life and complex systems modeling. It is a nice demonstration of the now commonplace idea that complexity can emerge from very simple elements following very simple rules."
   ]
  },
  {
   "cell_type": "markdown",
   "id": "77c215a7",
   "metadata": {},
   "source": [
    "## Practice questions\n",
    "Just do the questions that correspond to the sections you did not skip."
   ]
  },
  {
   "cell_type": "code",
   "execution_count": 6,
   "id": "960b15a7",
   "metadata": {},
   "outputs": [],
   "source": [
    "# Space for practice questions."
   ]
  },
  {
   "cell_type": "markdown",
   "id": "526d0b42",
   "metadata": {},
   "source": [
    "<a id =\"chapter5\"></a>\n",
    "# Chapter 5: Dictionaries\n",
    "\n",
    "[Link to Chapter 5 in ATBS: Dictionaries](https://automatetheboringstuff.com/2e/chapter5/)\n",
    "\n",
    "Every language has something like lists from Chapter 4: basically a linear container you throw things into. Dictionaries, on the other hand, are a unique kind of way to *pair* data together in a way that lets you access things really quickly. Like lists, dictionaries are mutable. Unlike lists, dictionary values are not stored in order and are not accessed using an index but by using *key-value* pairs. \n",
    "\n",
    "Dictionaries take some getting used to for those of us used to accessing data from a linear indexed array of values, but they are *very* fast, and useful when you want to bundle together a bunch of related data. For instance, many software packages -- such as the calcium analysis pipeline [caiman](https://github.com/flatironinstitute/CaImAn) -- store parameters in dictionaries. "
   ]
  },
  {
   "cell_type": "markdown",
   "id": "9fef318c",
   "metadata": {},
   "source": [
    "## The dictionary data type"
   ]
  },
  {
   "cell_type": "code",
   "execution_count": 8,
   "id": "bac031d3",
   "metadata": {},
   "outputs": [],
   "source": [
    "# Dictionary workspace"
   ]
  },
  {
   "cell_type": "markdown",
   "id": "ba12a80b",
   "metadata": {},
   "source": [
    "## Dictionaries vs Lists"
   ]
  },
  {
   "cell_type": "code",
   "execution_count": 9,
   "id": "df4fe5ae",
   "metadata": {},
   "outputs": [],
   "source": [
    "# Dictionaries v lists workspace"
   ]
  },
  {
   "cell_type": "markdown",
   "id": "5ed2f460",
   "metadata": {},
   "source": [
    "## The keys(), values(), and items() methods\n",
    "These are important, especially `keys()`. When someone throws a dictionary at me, the first thing I typically do is invoke the `keys()` method just to see what I'm working with."
   ]
  },
  {
   "cell_type": "code",
   "execution_count": null,
   "id": "bed01afc",
   "metadata": {},
   "outputs": [],
   "source": [
    "# workspace for keys, values, items methods"
   ]
  },
  {
   "cell_type": "markdown",
   "id": "34ab6875",
   "metadata": {},
   "source": [
    "## Checking whether a key or value exists in a dictionary"
   ]
  },
  {
   "cell_type": "code",
   "execution_count": 10,
   "id": "b7696096",
   "metadata": {},
   "outputs": [],
   "source": [
    "# workspace for checking for key/value"
   ]
  },
  {
   "cell_type": "markdown",
   "id": "e0349443",
   "metadata": {},
   "source": [
    "## The get() method"
   ]
  },
  {
   "cell_type": "code",
   "execution_count": 11,
   "id": "656369b6",
   "metadata": {},
   "outputs": [],
   "source": [
    "# get workspace"
   ]
  },
  {
   "cell_type": "markdown",
   "id": "305971fc",
   "metadata": {},
   "source": [
    "### Video: dictionaries\n",
    "[Video: dictionaries](https://www.youtube.com/watch?v=daefaLgNkw0)\n",
    "\n",
    "We are switching to non-Sweigart videos now, some from Corey Schafer, some from the Microsoft Python course: both are excellent and free. Corey Schafer tends to talk really fast, so strap in.\n",
    "\n",
    "To watch it embedded, run the following cell:"
   ]
  },
  {
   "cell_type": "code",
   "execution_count": 13,
   "id": "23231978",
   "metadata": {},
   "outputs": [],
   "source": [
    "from IPython.display import YouTubeVideo\n",
    "YouTubeVideo('daefaLgNkw0', width=800, height=600)"
   ]
  },
  {
   "cell_type": "markdown",
   "id": "e1486309",
   "metadata": {},
   "source": [
    "## The setdefault() method\n",
    "Skip"
   ]
  },
  {
   "cell_type": "markdown",
   "id": "81aece4f",
   "metadata": {},
   "source": [
    "## Pretty printing"
   ]
  },
  {
   "cell_type": "code",
   "execution_count": 12,
   "id": "3e543e68",
   "metadata": {},
   "outputs": [],
   "source": [
    "# Workspace for pretty print"
   ]
  },
  {
   "cell_type": "markdown",
   "id": "77f68657",
   "metadata": {},
   "source": [
    "## Using data structures to model real-world things\n",
    "Skip\n",
    "\n",
    "## A tic-tac-toe board\n",
    "Skip"
   ]
  },
  {
   "cell_type": "markdown",
   "id": "b587af85",
   "metadata": {},
   "source": [
    "## Nested dictionaries and lists\n",
    "All data structures in Python can include all other data structures as components. For instance, lists can contain dictionaries as components, dictionaries can contain strings or lists or dictionaries as values or even keys, etc (though you often want your dictionary keys to be simple and memorable because that is sort of the point of key-value pairing). "
   ]
  },
  {
   "cell_type": "code",
   "execution_count": 14,
   "id": "33b46287",
   "metadata": {},
   "outputs": [],
   "source": [
    "# workspace for nested dictionaries and lists"
   ]
  },
  {
   "cell_type": "markdown",
   "id": "c06f5455",
   "metadata": {},
   "source": [
    "## Practice questions"
   ]
  },
  {
   "cell_type": "code",
   "execution_count": 15,
   "id": "9e7d6ce7",
   "metadata": {},
   "outputs": [],
   "source": [
    "# Workspace for practice questions"
   ]
  },
  {
   "cell_type": "markdown",
   "id": "da15ff8b",
   "metadata": {},
   "source": [
    "<a id =\"chapter6\"></a>\n",
    "# Chapter 6: Strings 'n' things\n",
    "\n",
    "[Link to Chapter 6 in ATBS: Manipulating Strings](https://automatetheboringstuff.com/2e/chapter6/)\n",
    "\n",
    "While in neuroscience we usually focus on numerical data, textual data is also important at the very least for storing metadata about our experiments (e.g., the animal's ID, comments about the experimental session, etc.). While such metadata is usually stored in a dictionary, the values are typically stored as strings. \n",
    "\n",
    "You have been using strings since Chapter 1, so are probably already fairly comfortable with them. In this chapter we will be picking up loose ends wrt strings: learning different methods and ways of formatting strings for displaying them."
   ]
  },
  {
   "cell_type": "markdown",
   "id": "e708a035",
   "metadata": {},
   "source": [
    "## String literals\n",
    "This section is bizarre I'm not sure what it is here for. A `string literal` is simply a technical programmer-term for a `string`. In Python, there is pretty much no need to throw around this jargon except to show off. "
   ]
  },
  {
   "cell_type": "markdown",
   "id": "a64333bd",
   "metadata": {},
   "source": [
    "### Video: strings and string methods\n",
    "[Video: Strings](https://www.youtube.com/watch?app=desktop&v=tSebLz1hNpA)\n",
    "\n",
    "To watch it embedded run the following cell:"
   ]
  },
  {
   "cell_type": "code",
   "execution_count": 31,
   "id": "8efccb9a",
   "metadata": {},
   "outputs": [],
   "source": [
    "from IPython.display import YouTubeVideo\n",
    "YouTubeVideo('tSebLz1hNpA', width=600, height=400)"
   ]
  },
  {
   "cell_type": "markdown",
   "id": "e69b518b",
   "metadata": {},
   "source": [
    "## Double quotes\n",
    "In Python you can define a string using single or double quotes. Many people prefer double quotes because then you can indicate posession using apostrophes within double quotes."
   ]
  },
  {
   "cell_type": "code",
   "execution_count": 14,
   "id": "a2979edf",
   "metadata": {},
   "outputs": [],
   "source": [
    "# double quote workspace"
   ]
  },
  {
   "cell_type": "markdown",
   "id": "abd542d8",
   "metadata": {},
   "source": [
    "## Escape characters \n",
    "This is pretty important: backslashes are special characters in a string that tell the interpreter that something special is about to happen (e.g., a tab or new line is coming). \n",
    "I recommend play around with all the escape characters this is something that is used a lot. \n",
    "\n",
    "That's why if you click on this markdown cell the amount of text needed to get the following emoticon right is sort of ridiculous (and the same is true on reddit):\n",
    "\n",
    "¯\\\\\\_(ツ)_/¯"
   ]
  },
  {
   "cell_type": "code",
   "execution_count": null,
   "id": "b1381c50",
   "metadata": {},
   "outputs": [],
   "source": [
    "# workspace for escape characters and raw strings"
   ]
  },
  {
   "cell_type": "markdown",
   "id": "af7689dc",
   "metadata": {},
   "source": [
    "## Raw strings\n",
    "You can also tell the interpreter to ignore escape character by putting an `r` in front of a string. I use this all the time when entering filepath variables (e.g., paths to data in the operating system have tons of slashes). "
   ]
  },
  {
   "cell_type": "code",
   "execution_count": null,
   "id": "b13a4939",
   "metadata": {},
   "outputs": [],
   "source": [
    "# workspace for raw strings"
   ]
  },
  {
   "cell_type": "markdown",
   "id": "7a67d9ce",
   "metadata": {},
   "source": [
    "## Multiline strings with triple quotes"
   ]
  },
  {
   "cell_type": "code",
   "execution_count": 15,
   "id": "cc863b73",
   "metadata": {},
   "outputs": [],
   "source": [
    "# multiline string workspace"
   ]
  },
  {
   "cell_type": "markdown",
   "id": "db681c02",
   "metadata": {},
   "source": [
    "## Multiline comments\n",
    "This is really important to know, as this is the standard way to write documentation for functions/classes etc, and comments on code in general when they get to be more than a few lines.\n",
    "\n",
    "For instance, check out the [motion_correct](https://github.com/flatironinstitute/CaImAn/blob/master/caiman/motion_correction.py#L216) method at caiman, which is used for motion correction of movies before extracting calcium signals, you will see the multiline comment before the actual code starts. Don't worry about the details, but you can see a nice user-friendly little bit of documentation in relatively ordinary English there, before the more technical stuff kicks in in the actual code.  This is standard practice in any well-maintained library."
   ]
  },
  {
   "cell_type": "code",
   "execution_count": null,
   "id": "d5626051",
   "metadata": {},
   "outputs": [],
   "source": [
    "# workspace for multiline comments"
   ]
  },
  {
   "cell_type": "markdown",
   "id": "3ecbfe05",
   "metadata": {},
   "source": [
    "## Indexing and slicing strings\n",
    "Back to our old friends the index and slice. You cannot escape them. We will also see them next week when we learn about numpy."
   ]
  },
  {
   "cell_type": "code",
   "execution_count": 16,
   "id": "58071cbb",
   "metadata": {},
   "outputs": [],
   "source": [
    "# workspace for indexing/slicing strings."
   ]
  },
  {
   "cell_type": "markdown",
   "id": "231cc4ed",
   "metadata": {},
   "source": [
    "## The in and not operators with strings"
   ]
  },
  {
   "cell_type": "code",
   "execution_count": 17,
   "id": "d90fdd71",
   "metadata": {},
   "outputs": [],
   "source": [
    "# workspace for in/not operators with strings"
   ]
  },
  {
   "cell_type": "markdown",
   "id": "7eaa9d8b",
   "metadata": {},
   "source": [
    "## Putting strings in other strings (string formatting)\n",
    "This is an *extremely* important topic, and Sweigart doesn't really do it justice. Really, this is about how to format your strings when you have variables (including numeric variables) that you want to display as text. It is very strange that it does not include the \"string\".format() syntax, so I'm including a video that includes that below, because you will see that a lot.\n",
    "\n",
    "He *does* mention *f-strings*, which is great: it is an extremely powerful and useful formatting tool that was introduced relatively recently in Python."
   ]
  },
  {
   "cell_type": "code",
   "execution_count": null,
   "id": "fd37701c",
   "metadata": {},
   "outputs": [],
   "source": [
    "# Workspace for string formatting"
   ]
  },
  {
   "cell_type": "code",
   "execution_count": null,
   "id": "17cfe52a",
   "metadata": {},
   "outputs": [],
   "source": []
  },
  {
   "cell_type": "markdown",
   "id": "198db404",
   "metadata": {},
   "source": [
    "### Video: formatting strings\n",
    "[Video: Formatting strings](https://www.youtube.com/watch?app=desktop&v=bQQqxysLIGE)\n",
    "\n",
    "To watch it embedded run the following cell:"
   ]
  },
  {
   "cell_type": "code",
   "execution_count": 34,
   "id": "b75db8d6",
   "metadata": {},
   "outputs": [],
   "source": [
    "from IPython.display import YouTubeVideo\n",
    "YouTubeVideo('bQQqxysLIGE', width=600, height=400)"
   ]
  },
  {
   "cell_type": "code",
   "execution_count": 18,
   "id": "dd44fb10",
   "metadata": {},
   "outputs": [],
   "source": [
    "https://www.youtube.com/watch?v=bQQqxysLIGE&list=PLlrxD0HtieHhS8VzuMCfQD4uJ9yne1mE6&index=11"
   ]
  },
  {
   "cell_type": "markdown",
   "id": "a713a02c",
   "metadata": {},
   "source": [
    "## The upper(), lower(), isupper(), and islower() methods\n",
    "We are going to go through a bunch of methods. Frankly, I pretty much never use these methods but you might as well be exposed to them. They are more useful for people that do a lot of form validation and textual processing obviously. E.g., if you ask a y/n question, you will want to convert to uppercase before working with their answer."
   ]
  },
  {
   "cell_type": "code",
   "execution_count": 19,
   "id": "192f5c07",
   "metadata": {},
   "outputs": [],
   "source": [
    "# workspace for case-based string methods"
   ]
  },
  {
   "cell_type": "markdown",
   "id": "b4a1a079",
   "metadata": {},
   "source": [
    "## The isX() methods\n",
    "Again, sometimes it is really helpful to know if a string is just space, or whatever, so just familiarize yourself with these methods. For instance `isalpha()` tells you if a string contains only letters (and is not blank). "
   ]
  },
  {
   "cell_type": "code",
   "execution_count": 20,
   "id": "dda29476",
   "metadata": {},
   "outputs": [],
   "source": [
    "# workspace for a buncch of isX methods"
   ]
  },
  {
   "cell_type": "markdown",
   "id": "ca0c664e",
   "metadata": {},
   "source": [
    "## The startswith() and endswith() methods"
   ]
  },
  {
   "cell_type": "code",
   "execution_count": 21,
   "id": "73efd85a",
   "metadata": {},
   "outputs": [],
   "source": [
    "# workspace for startswith() and endswith() methods"
   ]
  },
  {
   "cell_type": "markdown",
   "id": "23412711",
   "metadata": {},
   "source": [
    "## The join() and split() methods\n",
    "I use these fairly often , especially `split()` because it can be useful for dealing with filepaths. "
   ]
  },
  {
   "cell_type": "code",
   "execution_count": null,
   "id": "35720da5",
   "metadata": {},
   "outputs": [],
   "source": [
    "# workspace for join and split"
   ]
  },
  {
   "cell_type": "markdown",
   "id": "fd8ae08c",
   "metadata": {},
   "source": [
    "## Splitting strings with the partition() method\n",
    "Skip\n",
    "## Justifying text\n",
    "Skip "
   ]
  },
  {
   "cell_type": "markdown",
   "id": "c07ab674",
   "metadata": {},
   "source": [
    "## Removing whitespace with strip(), rstrip(), and lstrip()"
   ]
  },
  {
   "cell_type": "code",
   "execution_count": 23,
   "id": "447c9c64",
   "metadata": {},
   "outputs": [],
   "source": [
    "# workspace for whitespace stripping"
   ]
  },
  {
   "cell_type": "markdown",
   "id": "94915c34",
   "metadata": {},
   "source": [
    "## Numeric values of characters\n",
    "Skip\n",
    "\n",
    "## Copying and Pasting strings with the pyperclip module\n",
    "Skip\n",
    "\n",
    "## Project: multi-clipboard automatic messages\n",
    "Skip\n",
    "\n",
    "## Project: Adding bullets to wiki markup\n",
    "Skip\n",
    "\n",
    "## A short program: pig latin\n",
    "skip (will go over in class)"
   ]
  },
  {
   "cell_type": "markdown",
   "id": "7b8f8ddc",
   "metadata": {},
   "source": [
    "## Practice questions\n",
    "As before, just focus on the questions from the non-skipped bits. Solutions are [here](https://automatetheboringstuff.com/2e/appendixc/)."
   ]
  },
  {
   "cell_type": "code",
   "execution_count": 26,
   "id": "767816cd",
   "metadata": {},
   "outputs": [],
   "source": [
    "# Workspace for practice questions"
   ]
  },
  {
   "cell_type": "markdown",
   "id": "83462149",
   "metadata": {},
   "source": [
    "<span style=\"color:red\">\n",
    "    <h1>Congratulations!!!</h1>\n",
    "</span>\n",
    "<img width = \"150\" src=\"./images/yippee.jpg\" align=\"left\" style=\"padding-right:10px\">\n",
    "\n",
    "**You are done learning the fundamentals of Python!**\n",
    "\n",
    "From integers to for loops, from functions to dictionaries, you now know the basics of Python.  This is a **huge** deal. You should now be able to follow along the ebb and flow of most Python programs, even if some of the details might be hard to make out. \n",
    "\n",
    "There are a few intermediate topics we will cover next week, but you now have a great foundation moving forward.\n",
    "The only main topic we didn't cover was classes and object oriented programming (see the footnote below on that). As advertized in the blurb for the course, you now know just enough Python to start doing stuff. We will start doing stuff with *data* over the next couple of weeks. But first we need to meet in person and review some of the ideas you just learned in our second class!"
   ]
  },
  {
   "cell_type": "markdown",
   "id": "c33de263",
   "metadata": {},
   "source": [
    "**Footnote on OOP:** it was a very hard decision to leave out object-oriented programming (OOP) concepts in this class, as it is both fun and important. But alas I found it impossible to do it justice in this crash-course type format, so I am following the lead the three tutorials I have followed in simply neglecting it altogether. If you want to learn about objects/classes there is a nice self-contained tutorial [here](https://realpython.com/python3-object-oriented-programming/) that I almost included in the class. If you want to learn about objects and object-oriented programming, then I would read that, and work on the examples there. It is not very complicated, it is very cool, and definitely worth learning."
   ]
  },
  {
   "cell_type": "code",
   "execution_count": 36,
   "id": "943f0bea",
   "metadata": {},
   "outputs": [],
   "source": [
    "# extra-credit workspace for OOP: this is a super-cool topic, but I will not discuss it in class"
   ]
  }
 ],
 "metadata": {
  "kernelspec": {
   "display_name": "Python 3 (ipykernel)",
   "language": "python",
   "name": "python3"
  },
  "language_info": {
   "codemirror_mode": {
    "name": "ipython",
    "version": 3
   },
   "file_extension": ".py",
   "mimetype": "text/x-python",
   "name": "python",
   "nbconvert_exporter": "python",
   "pygments_lexer": "ipython3",
   "version": "3.10.2"
  }
 },
 "nbformat": 4,
 "nbformat_minor": 5
}
