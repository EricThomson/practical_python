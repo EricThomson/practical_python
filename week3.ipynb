{
 "cells": [
  {
   "cell_type": "markdown",
   "id": "ad87508a",
   "metadata": {},
   "source": [
    "# Week 3: files, virtual environments, and the data science stack\n",
    "\n",
    "<img width = \"250\" src=\"./images/hazel.png\" align=\"right\" style=\"padding-left:10px\">\n",
    "\n",
    "You have now learned enough Python to be able to follow the basic syntax of most Python code. We have so far studied the core of the language, without looking at all at external libraries that people typically use for analyzing their data. \n",
    "\n",
    "This week we will start on this journey, covering some of the most essential tools you will need to analyze and visualize data. This will be a brief overview, but will be more than enough to get you started so that you can understand most code you run into *in situ*, and start to analyze your own data. We are done with ATBS so I have had to delegate at this point to multiple sources, basically scouring the internet for readable, beginner-friendly, but practical introductions to all the topics we are covering. I think I have found some really good resources for you, but if you find some that you like more, please let me know I might incorporate it into a future version of this class!\n",
    "\n",
    "Note there is a really good book on Python for data science that is free and available online: [Python Data Science Handbook](https://jakevdp.github.io/PythonDataScienceHandbook/). Unfortunatley, the volume of material is just too much for a two-week crash course for beginners. However, when you get stuck or have questions, I encourage you to use it as a reference (along with Google).\n",
    "\n",
    "Our topics this week will include:\n",
    "\n",
    "- [1: File I/O](#fileio)\n",
    "- [2: Virtual Environments](#virtual)\n",
    "- [3: The Data Science Stack](#ds_stack)\n",
    "    - [3a: Numpy for numbers](#numpy)\n",
    "    - [3b: Matplotlib for plotting](#matplotlib)\n",
    "\n",
    "My recommendation for picking up the material is the same as before: make lots of cells and mess around with code: tweak and twiddle with the examples to see what happens. Coding is largely muscle memory, so it is really important to literally *type code*. If you run into error messages, first make sure there isn't an obvious mistake in the code (an unclosed paren or quotation mark). Second, read the error message that pops up: they are often helpful. Barring that, Google the error message there are great resources online. "
   ]
  },
  {
   "cell_type": "markdown",
   "id": "22a52dc9",
   "metadata": {},
   "source": [
    "<a id=\"fileio\"></a>\n",
    "# 1: File I/O\n",
    " Files\n",
    "Opening and saving files.\n",
    "- https://www.freecodecamp.org/news/python-write-to-file-open-read-append-and-other-file-handling-functions-explained/ \n",
    "- https://zetcode.com/lang/python/files/ "
   ]
  },
  {
   "cell_type": "markdown",
   "id": "cdde807f",
   "metadata": {},
   "source": [
    "<a id =\"virtual\"></a>\n",
    "# 2: Virtual environments"
   ]
  },
  {
   "cell_type": "markdown",
   "id": "526d0b42",
   "metadata": {},
   "source": [
    "<a id =\"ds_stack\"></a>\n",
    "# 3: The data science stack "
   ]
  },
  {
   "cell_type": "markdown",
   "id": "9da37cae",
   "metadata": {},
   "source": [
    "<a id =\"numpy\"></a>\n",
    "# 3a: Numpy for numbers"
   ]
  },
  {
   "cell_type": "markdown",
   "id": "87dd473d",
   "metadata": {},
   "source": [
    "<a id =\"matplotlib\"></a>\n",
    "# 3b: Plotting with matplotlib"
   ]
  },
  {
   "cell_type": "markdown",
   "id": "83462149",
   "metadata": {},
   "source": [
    "<span style=\"color:red\">\n",
    "    <h1>Congratulations!!!</h1>\n",
    "</span>\n",
    "<img width = \"150\" src=\"./images/yippee.jpg\" align=\"left\" style=\"padding-right:10px\">\n",
    "\n"
   ]
  },
  {
   "cell_type": "code",
   "execution_count": null,
   "id": "6af7a079",
   "metadata": {},
   "outputs": [],
   "source": []
  }
 ],
 "metadata": {
  "kernelspec": {
   "display_name": "Python 3",
   "language": "python",
   "name": "python3"
  },
  "language_info": {
   "codemirror_mode": {
    "name": "ipython",
    "version": 3
   },
   "file_extension": ".py",
   "mimetype": "text/x-python",
   "name": "python",
   "nbconvert_exporter": "python",
   "pygments_lexer": "ipython3",
   "version": "3.7.6"
  }
 },
 "nbformat": 4,
 "nbformat_minor": 5
}
