{
 "cells": [
  {
   "cell_type": "markdown",
   "id": "ad87508a",
   "metadata": {},
   "source": [
    "# Week 1: Python Basics and Program Control\n",
    "\n",
    "<img width = \"250\" src=\"./images/hazel.png\" align=\"right\" style=\"padding-right:10px\">\n",
    "\n",
    "\n",
    "## Contents of this notebook\n",
    "- [Introduction](#intro)\n",
    "- [Chapter 1: Python Basics](#chapter1)\n",
    "- [Chapter 2: Controlling Program Flow](#chapter2)\n",
    "\n",
    "<a id=\"intro\"></a>\n",
    "# Introduction\n",
    "Now that the hard part (setting up your envirnoment) is done, the fun part can begin -- actually coding. Since we are doing a flipped course, this is where the learning will really happen. \n",
    "\n",
    "The main course content is from the excellent online book [Automate the Boring Stuff with Python](https://automatetheboringstuff.com/2e/)(ATBS) by Al Sweigart. This week you will be going over Chapter 1 and 2 of the book. These notebooks will basically be a guide with links to the course content, notes on translating some of his exercises to a Jupyter notebook context, videos, and providing a space to actually *practice coding*.\n",
    "\n",
    "## A note on learning to code\n",
    "My recommendation is to make lots of cells and mess around with code: tweak and fiddle with the examples in the book and see what happens. Coding is largely muscle memory, so it is really important to literally *type code*, especially when learning the basics. The more you are typing (as opposed to just copy/pasting), the faster you will learn. The main danger of using online resources instead of a physical book is that it it is too easy to get stuck in a `copy-paste` loop and neglect actually writing code: I suggest that in your first two weeks, while learning the fundamentals of Python, to *type as much code as possible*. \n",
    "\n"
   ]
  },
  {
   "cell_type": "markdown",
   "id": "07f49920",
   "metadata": {},
   "source": [
    "## Translating from IDE-speak to Jupyter\n",
    "There is one wrinkle when typing the code yourself: Sweigart's book was written for people using an IDE, not Jupyter. Hence, there are a couple of changes you should make when following along the book:\n",
    "\n",
    "- When the book says to test out some code in your interactive Python shell, you should just type that code in a Jupyter cell (in code mode) and run it using `shift-enter` as discussed in the notebook for [Week 0](week0.ipynb). \n",
    "- When the book has you save code as a separate python file in the file editor (to be saved as something like `xyz.py`), do the same thing -- write it all into a cell in Jupyter, and run it using `shift-enter`. \n",
    "\n",
    "We will eventually talk about how to store code in separate files and import it, but for now let's keep it simple and just keep all our code in our Jupyter notebooks.\n",
    "\n",
    "## Videos\n",
    "Sweigart also has [a video series](https://www.youtube.com/watch?v=1F_OgqRuSdI&list=PL0-84-yl1fUnRuXGFe_F7qSH1LEnn9LkW ) for his book, and the first 15 are available free at YouTube. These videos can be a helpful supplement to the written word, so I will embed the videos below as an optional potentially helpful supplement."
   ]
  },
  {
   "cell_type": "markdown",
   "id": "22a52dc9",
   "metadata": {},
   "source": [
    "<a id=\"chapter1\"></a>\n",
    "# Chapter 1: Python Basics\n",
    "[Link to Chapter 1 in ATBS: Python Basics](https://automatetheboringstuff.com/2e/chapter1/) \n",
    "\n",
    "This chapter covers the basics of Python. Programming is a practical skill, so it will be essential to run any code (in code mode), not just read and nod. For this first week to make it easier I'm putting different section headings in markdown with code cells ('workspaces') below them for you to practice code in, just to give a sense for how I would go about structuring my work. "
   ]
  },
  {
   "cell_type": "markdown",
   "id": "56bee480",
   "metadata": {},
   "source": [
    "## Entering expressions into the interactive shell\n",
    "As discussed above, when the book says to test out some code in your interactive Python shell, just type that code in a Jupyter cell (in code mode) and run it using shift-enter. \n",
    "\n",
    "Recall when you need to create a new cell in Jupyter, you can select `Insert` from the menu system above, or use keyboard shortcuts: recall from the previous lesson that you can enter `Esc-A`/`Esc-B` respectively to create a cell above/below the currently active cell."
   ]
  },
  {
   "cell_type": "code",
   "execution_count": 7,
   "id": "d524c1eb",
   "metadata": {},
   "outputs": [],
   "source": [
    "2+2  #run me"
   ]
  },
  {
   "cell_type": "code",
   "execution_count": null,
   "id": "c9d87b15",
   "metadata": {},
   "outputs": [],
   "source": [
    "(2+3)*6"
   ]
  },
  {
   "cell_type": "code",
   "execution_count": null,
   "id": "da65fa53",
   "metadata": {},
   "outputs": [],
   "source": [
    "# add more code here and below"
   ]
  },
  {
   "cell_type": "markdown",
   "id": "0481387e",
   "metadata": {},
   "source": [
    "## The integer, floating-point, and string data types"
   ]
  },
  {
   "cell_type": "code",
   "execution_count": 4,
   "id": "175eabfd",
   "metadata": {},
   "outputs": [],
   "source": [
    "# Practice here and below"
   ]
  },
  {
   "cell_type": "markdown",
   "id": "40da292e",
   "metadata": {},
   "source": [
    "## Strings, concatenation, and replication"
   ]
  },
  {
   "cell_type": "code",
   "execution_count": null,
   "id": "fc82ab53",
   "metadata": {},
   "outputs": [],
   "source": [
    "# Practrice here and below"
   ]
  },
  {
   "cell_type": "markdown",
   "id": "a6a5d2f9",
   "metadata": {},
   "source": [
    "## Storing values in variables"
   ]
  },
  {
   "cell_type": "code",
   "execution_count": 5,
   "id": "b41e3f62",
   "metadata": {},
   "outputs": [],
   "source": [
    "# Practice here and below"
   ]
  },
  {
   "cell_type": "markdown",
   "id": "1df791fa",
   "metadata": {},
   "source": [
    "### Video: Expressions, data types, and variables\n",
    "[Video: Expressions, data types, and variables](https://youtu.be/7qHMXu99d88)\n",
    "\n",
    "Or you can watch it embedded in Jupyter (just `shift-enter` to get it to show in the following cell)."
   ]
  },
  {
   "cell_type": "code",
   "execution_count": null,
   "id": "273c8b3d",
   "metadata": {},
   "outputs": [],
   "source": [
    "from IPython.display import YouTubeVideo\n",
    "YouTubeVideo('7qHMXu99d88', width=600, height=400)"
   ]
  },
  {
   "cell_type": "markdown",
   "id": "bb50b891",
   "metadata": {},
   "source": [
    "## Your first program\n",
    "Your first experience with a full program. Go ahead and enter the program from the book in the following cell (not a separate `.py` file like the book says), and run it with `shift-enter`). This is an instructive example because it includes a lot of useful functions (like how to get input from the user) and useful commentary from Sweigart.\n",
    "\n",
    "### A note on debugging\n",
    "One important aspect of learning to code is learning to handle errors -- *debugging*. Errors, and hence debugging, is a ubiquitous part of the coding process, and is *usually* pretty painless. When just getting started, I would suggest the following steps when you hit an error message with your code:\n",
    "1. Make sure there isn't an obvious mistake (an unclosed paren or quotation mark, Jupyter cell in the wrong mode). \n",
    "2. Read the error message that pops up: they are often helpful (e.g., `ZeroDivisionError` means you have tried to divide by zero). If you see a huge pile of messages pop up (a *stack trace*), then jump to the last line that will be the most informative. \n",
    "3. If the error message is incomprehensible, then just Google it -- there are great resources online. Over time you will learn the meaning of different error messages.\n",
    "\n",
    "We will do some active debugging in class so we can get a feel for the process."
   ]
  },
  {
   "cell_type": "code",
   "execution_count": 2,
   "id": "3afeba91",
   "metadata": {},
   "outputs": [],
   "source": [
    "# enter program here"
   ]
  },
  {
   "cell_type": "markdown",
   "id": "844e84b7",
   "metadata": {},
   "source": [
    "### Video: Your first program walkthrough\n",
    "[Video: your first program](https://www.youtube.com/watch?v=7qHMXu99d88)\n",
    "\n",
    "To watch it embedded run the following cell:"
   ]
  },
  {
   "cell_type": "code",
   "execution_count": null,
   "id": "691cbbc5",
   "metadata": {},
   "outputs": [],
   "source": [
    "from IPython.display import YouTubeVideo\n",
    "YouTubeVideo('7qHMXu99d88', width=600, height=400)"
   ]
  },
  {
   "cell_type": "markdown",
   "id": "4b71cc6d",
   "metadata": {},
   "source": [
    "# Chapter 1 Practice Questions\n",
    "At the end of the first chapter there are a bunch of practice questions. I strongly recommend you read through them, think about the answers, and if you get stuck there are answers here: \n",
    "\n",
    "[Answers to Practice Questions](https://automatetheboringstuff.com/2e/appendixc/)\n",
    "\n",
    "The questions in these first chapter are mostly academic (what are different variable types), but in later chapters there will be programming exercises that are much more important to work on."
   ]
  },
  {
   "cell_type": "code",
   "execution_count": null,
   "id": "b9ba054c",
   "metadata": {},
   "outputs": [],
   "source": [
    "# workspace for practice questions"
   ]
  },
  {
   "cell_type": "markdown",
   "id": "cdde807f",
   "metadata": {},
   "source": [
    "<a id =\"chapter2\"></a>\n",
    "# Chapter 2: Program flow control\n",
    "\n",
    "[Link to Chapter 2 in ATBS: Program flow control](https://automatetheboringstuff.com/2e/chapter2/)\n",
    "\n",
    "Chapter 2 is an introduction to flow control essentials, which are crucial part of any programming language. Pretty much every programming language has `for` loops and `if` statements. Python also has `while` loops, which are not used too often, but they are useful for things like capturing video data when you aren't sure how long you will need to continue a process. \n",
    "\n",
    "A warning about this chapter: it covers *a lot*. I would not try to rush through it. Rather, take your time to make sure you understand what is going on. When I place a single *Workspace cell* in a section, this is not just a suggestion to repeat the code from the book. I would recommend probably create multiple cells to mess around and tweak/play/fiddle to see what happens. In general, one of the best ways to learn in programming is to take an example and tweak and twiddle with it, break it, fix it, and get a sense for the range and limit of possibilities.\n",
    "\n",
    "This is known as the *tweak, twiddle, and frob* approach to programming, and it is invaluable."
   ]
  },
  {
   "cell_type": "markdown",
   "id": "fd1f7f80",
   "metadata": {},
   "source": [
    "## Boolean values\n",
    "This is really important be sure you understand the `True` and the `False`. In the workspace be sure to play around with the comparison operators. "
   ]
  },
  {
   "cell_type": "code",
   "execution_count": null,
   "id": "2c66693d",
   "metadata": {},
   "outputs": [],
   "source": [
    "# workspace for boolean values"
   ]
  },
  {
   "cell_type": "markdown",
   "id": "d88c642e",
   "metadata": {},
   "source": [
    "## Boolean operators\n",
    "Also super important and something you probably haven't seen in standard math class (but very common if you have ever taken philosophy/logic). It is really important to understand `and` and `or` and `not` and how they operate to produce new Booleans. \n",
    "\n",
    "Note most programming languages do not let you use ordinary English expressions such as `and` like Python does for these operators. That's one of the things that makes Python so much more enjoyable to learn than many other programming languages. "
   ]
  },
  {
   "cell_type": "code",
   "execution_count": null,
   "id": "7fa231f3",
   "metadata": {},
   "outputs": [],
   "source": [
    "# workspace for boolean operators"
   ]
  },
  {
   "cell_type": "markdown",
   "id": "b3bec752",
   "metadata": {},
   "source": [
    "### Video: flow charts, Booleans, and truth tables\n",
    "[Video: flow charts, booleans, and truth tables](https://www.youtube.com/watch?v=4XA9CKJJbr4)\n",
    "\n",
    "To watch it embedded run the following cell:"
   ]
  },
  {
   "cell_type": "code",
   "execution_count": 2,
   "id": "227e4247",
   "metadata": {},
   "outputs": [],
   "source": [
    "from IPython.display import YouTubeVideo\n",
    "YouTubeVideo('4XA9CKJJbr4', width=600, height=400)"
   ]
  },
  {
   "cell_type": "markdown",
   "id": "6d30a49d",
   "metadata": {},
   "source": [
    "## Mixing boolean and comparison operators"
   ]
  },
  {
   "cell_type": "code",
   "execution_count": 1,
   "id": "c245cfe9",
   "metadata": {},
   "outputs": [],
   "source": [
    "# workspace"
   ]
  },
  {
   "cell_type": "markdown",
   "id": "ee44c53e",
   "metadata": {},
   "source": [
    "## Elements of flow control\n",
    "This section introduces the first part of the book that will really start you down the road as a *bona fide* Python programmer. Using if-then statements is basically the insertion of simple switches into your program: doing one thing if one condition holds, and another thing if another condition holds. This section also introduces the idea of *code blocks*, or *space as syntax*, which is a feature that ensures Python doesn't become an unreadable mess."
   ]
  },
  {
   "cell_type": "code",
   "execution_count": null,
   "id": "0381190e",
   "metadata": {},
   "outputs": [],
   "source": [
    "# workspace"
   ]
  },
  {
   "cell_type": "markdown",
   "id": "3382162e",
   "metadata": {},
   "source": [
    "## Flow control statements using if/else/elif\n",
    "This section is really really important. Be sure to enter and understand what is going on here. I've taken the time to create a bunch of workspaces just to emphasize how important each of these elements is (but of course you would have done this yourself anyway I'm sure :) ). "
   ]
  },
  {
   "cell_type": "code",
   "execution_count": null,
   "id": "a3255c1d",
   "metadata": {},
   "outputs": [],
   "source": [
    "# workspace for if"
   ]
  },
  {
   "cell_type": "code",
   "execution_count": null,
   "id": "d1c5e04b",
   "metadata": {},
   "outputs": [],
   "source": [
    "# workspace for else"
   ]
  },
  {
   "cell_type": "code",
   "execution_count": null,
   "id": "8bc887c0",
   "metadata": {},
   "outputs": [],
   "source": [
    "# workspace for elif"
   ]
  },
  {
   "cell_type": "markdown",
   "id": "09c54be8",
   "metadata": {},
   "source": [
    "### Video: Flow control with if/else\n",
    "[Video: flow control with if/else](https://www.youtube.com/watch?v=lWeCgEbk-Ro)\n",
    "\n",
    "To watch it embedded run the following cell:"
   ]
  },
  {
   "cell_type": "code",
   "execution_count": 4,
   "id": "0c9eee39",
   "metadata": {},
   "outputs": [],
   "source": [
    "from IPython.display import YouTubeVideo\n",
    "YouTubeVideo('lWeCgEbk-Ro', width=600, height=400)"
   ]
  },
  {
   "cell_type": "markdown",
   "id": "4ee3c8ac",
   "metadata": {},
   "source": [
    "## While loop statements\n",
    "Be sure to practice with "
   ]
  },
  {
   "cell_type": "code",
   "execution_count": null,
   "id": "f1a13cee",
   "metadata": {},
   "outputs": [],
   "source": [
    "# while loop workspace"
   ]
  },
  {
   "cell_type": "code",
   "execution_count": null,
   "id": "4b860019",
   "metadata": {},
   "outputs": [],
   "source": [
    "# while loop with break"
   ]
  },
  {
   "cell_type": "code",
   "execution_count": null,
   "id": "f9de405c",
   "metadata": {},
   "outputs": [],
   "source": [
    "# while loop with continue"
   ]
  },
  {
   "cell_type": "markdown",
   "id": "21b8681d",
   "metadata": {},
   "source": [
    "### Video: While loops\n",
    "[Video: while loops](https://www.youtube.com/watch?v=885qKiiKisI)\n",
    "\n",
    "To watch it embedded run the following cell:"
   ]
  },
  {
   "cell_type": "code",
   "execution_count": 7,
   "id": "49abd230",
   "metadata": {},
   "outputs": [],
   "source": [
    "from IPython.display import YouTubeVideo\n",
    "YouTubeVideo('885qKiiKisI', width=600, height=400)"
   ]
  },
  {
   "cell_type": "markdown",
   "id": "02b9a82f",
   "metadata": {},
   "source": [
    "## For Loops and the range() function\n",
    "For loops are incredibly important -- you will almost never see a real-world program that does not include a for loop, so be sure they are clear."
   ]
  },
  {
   "cell_type": "code",
   "execution_count": null,
   "id": "6f16a3ad",
   "metadata": {},
   "outputs": [],
   "source": [
    "# for loop workspace"
   ]
  },
  {
   "cell_type": "markdown",
   "id": "797371cc",
   "metadata": {},
   "source": [
    "## The starting, stopping, and stepping arguments to range()\n",
    "Range is a little strange because it doesn't include the final element (by default it includes zero up to one minus the final element). Just be sure that is clear. \n",
    "\n",
    "You can print out all the elements at once in range by turning it into a list (we will go over lists next week). Try it by running the following cell:"
   ]
  },
  {
   "cell_type": "code",
   "execution_count": 12,
   "id": "82ee0967",
   "metadata": {},
   "outputs": [],
   "source": [
    "print(list(range(0,5)))"
   ]
  },
  {
   "cell_type": "code",
   "execution_count": null,
   "id": "ef3928ed",
   "metadata": {},
   "outputs": [],
   "source": [
    "# workspace for range"
   ]
  },
  {
   "cell_type": "markdown",
   "id": "53c10bbf",
   "metadata": {},
   "source": [
    "### Video: For loops and range()\n",
    "[Video: for loops and range()](https://www.youtube.com/watch?v=HFQGxh1jY3g)\n",
    "\n",
    "To watch it embedded run the following cell:"
   ]
  },
  {
   "cell_type": "code",
   "execution_count": 10,
   "id": "a6da503a",
   "metadata": {},
   "outputs": [],
   "source": [
    "from IPython.display import YouTubeVideo\n",
    "YouTubeVideo('HFQGxh1jY3g', width=600, height=400)"
   ]
  },
  {
   "cell_type": "markdown",
   "id": "74f51dd3",
   "metadata": {},
   "source": [
    "## Importing modules\n",
    "We will cover imports a lot more in Week 3, but it is important to understand the basic concept: there are some specialized things you can't do in Python until you've imported the functionality. \n",
    "\n",
    "    Aside for Matlab people: this whole import business tends to be confusing or even annoying for people coming from Matlab, where everything in all the toolboxes is all \"just there\" for you to use whenever you want it. While I first didn't like this part of Python I eventually came to appreciate how it created a cleaner environment and more self-contained programs. At any rate, we will talk about this more, for now it is important just to start getting used to it. "
   ]
  },
  {
   "cell_type": "code",
   "execution_count": 4,
   "id": "5f30c0a7",
   "metadata": {},
   "outputs": [],
   "source": [
    "# workspace for modules"
   ]
  },
  {
   "cell_type": "markdown",
   "id": "0753a5fc",
   "metadata": {},
   "source": [
    "## A short program: guess the number\n",
    "we will do a fairly detailed walkthrough of this in class, so feel free to skip (or not)."
   ]
  },
  {
   "cell_type": "markdown",
   "id": "3977582b",
   "metadata": {},
   "source": [
    "## Short program 2: Rock paper scissors"
   ]
  },
  {
   "cell_type": "code",
   "execution_count": 1,
   "id": "fb5f86bd",
   "metadata": {},
   "outputs": [],
   "source": [
    "# space for rock paper scissors"
   ]
  },
  {
   "cell_type": "markdown",
   "id": "85d50ecc",
   "metadata": {},
   "source": [
    "# Chapter 2 Practice Questions\n",
    "At the end of the chapter, as before, there are a bunch of practice questions. I strongly recommend you read through them, think about the answers, and if you get stuck there are answers here: \n",
    "\n",
    "[Answers to Practice Questions](https://automatetheboringstuff.com/2e/appendixc/)\n",
    "\n",
    "The questions in chapter 2 are a bit more substantive compare to Chapter 1. "
   ]
  },
  {
   "cell_type": "code",
   "execution_count": null,
   "id": "9272f52b",
   "metadata": {},
   "outputs": [],
   "source": [
    "# Workspace for Chapter 2 practice problems"
   ]
  },
  {
   "cell_type": "markdown",
   "id": "80d710ac",
   "metadata": {},
   "source": [
    "# Congratulations!!\n",
    "That's it for the material for the first class. You have learned a ton of material!\n",
    "\n",
    "That is a lot of Python you have just learned, from installing your programming environment, to variables, to for loops. You are definitely ready for the class. I hope that learning Python has been fun for you, and that the next few weeks will continue to be enjoyable. "
   ]
  },
  {
   "cell_type": "code",
   "execution_count": null,
   "id": "57a8d02f",
   "metadata": {},
   "outputs": [],
   "source": [
    "# space for in-class stuff"
   ]
  }
 ],
 "metadata": {
  "kernelspec": {
   "display_name": "Python 3",
   "language": "python",
   "name": "python3"
  },
  "language_info": {
   "codemirror_mode": {
    "name": "ipython",
    "version": 3
   },
   "file_extension": ".py",
   "mimetype": "text/x-python",
   "name": "python",
   "nbconvert_exporter": "python",
   "pygments_lexer": "ipython3",
   "version": "3.7.6"
  }
 },
 "nbformat": 4,
 "nbformat_minor": 5
}
