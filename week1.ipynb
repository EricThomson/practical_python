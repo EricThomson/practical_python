{
 "cells": [
  {
   "cell_type": "markdown",
   "id": "ad87508a",
   "metadata": {},
   "source": [
    "# Week 1: Python Basics and Program Control\n",
    "Now that the hard part (setting up your envirnoment) is done, the fun part can begin -- actually coding. Since we are doing a flipped course, this is where the learning will really happen. \n",
    "\n",
    "The main course content is from the excellent online book [Automate the Boring Stuff with Python](https://automatetheboringstuff.com/2e/) by Al Sweigart. This week you will be going over Chapter 1 and 2 of the book. These notebooks will basically be a guide with links to the course content, notes on translating some of his exercises to a Jupyter notebook context, videos from Al Sweigart, and providing a space to actually *practice coding*.\n",
    "\n",
    "## Translating from IDE-speak to Jupyter\n",
    "There is one wrinkle when typing the code yourself: Sweigart's book was written for people using an IDE, not Jupyter. Hence, there are a couple of changes you should make when following along the book:\n",
    "\n",
    "- When the book says to test out some code in your interactive Python shell, you should just type that code in a Jupyter cell (in code mode) and run it using `shift-enter` as discussed in the notebook for [Week 0](week0.ipynb). \n",
    "- When the book has you save code as a separate python file in the file editor (to be saved as something like `xyz.py`), do the same thing -- write it all into a cell in Jupyter, and run it using `shift-enter`. \n",
    "\n",
    "We will eventually talk about how to store code in separate files and import it, but for now let's keep it simple and just keep all our code in our Jupyter notebooks.\n",
    "\n",
    "## Videos\n",
    "Sweigart also has [a video series](https://www.youtube.com/watch?v=1F_OgqRuSdI&list=PL0-84-yl1fUnRuXGFe_F7qSH1LEnn9LkW ) for his book, and the first 15 are available free at YouTube. These videos can be a helpful supplement to the written word, so I will embed the videos below as an optional potentially helpful supplement."
   ]
  },
  {
   "cell_type": "markdown",
   "id": "22a52dc9",
   "metadata": {},
   "source": [
    "# Chapter 1: Python Basics\n",
    "[Link to Chapter: Python Basics](https://automatetheboringstuff.com/2e/chapter1/) \n",
    "\n",
    "This chapter covers the basics of Python. Programming is a practical skill, so it will be essential to run any code (in code mode), not just read and nod. For this first week to make it easier I'm putting different section headings in markdown with code cells below them for you to practice code in, just to give a sense for how I would go about structuring my work. In the future I'll leave it up to you how to structure your work."
   ]
  },
  {
   "cell_type": "markdown",
   "id": "e344bd9a",
   "metadata": {},
   "source": [
    "# Chapter 1: Practice\n",
    "This is some space for you to practice "
   ]
  },
  {
   "cell_type": "markdown",
   "id": "56bee480",
   "metadata": {},
   "source": [
    "## Entering expressions into the interactive shell\n",
    "As discussed above, when the book says to test out some code in your interactive Python shell, just type that code in a Jupyter cell (in code mode) and run it using shift-enter. \n",
    "\n",
    "Note when you need to create a new cell in Jupyter, you can select `Insert` from the menu system above, or use keyboard shortcuts: `Esc-A`/`Esc-B` to create a cell above/below the currently active cell, respectively."
   ]
  },
  {
   "cell_type": "code",
   "execution_count": 7,
   "id": "d524c1eb",
   "metadata": {},
   "outputs": [],
   "source": [
    "2+2  #run me"
   ]
  },
  {
   "cell_type": "code",
   "execution_count": null,
   "id": "c9d87b15",
   "metadata": {},
   "outputs": [],
   "source": [
    "(2+3)*6"
   ]
  },
  {
   "cell_type": "code",
   "execution_count": null,
   "id": "da65fa53",
   "metadata": {},
   "outputs": [],
   "source": [
    "# add more code here and below"
   ]
  },
  {
   "cell_type": "markdown",
   "id": "0481387e",
   "metadata": {},
   "source": [
    "## The integer, floating-point, and string data types"
   ]
  },
  {
   "cell_type": "code",
   "execution_count": 4,
   "id": "175eabfd",
   "metadata": {},
   "outputs": [],
   "source": [
    "# Practice here and below"
   ]
  },
  {
   "cell_type": "markdown",
   "id": "40da292e",
   "metadata": {},
   "source": [
    "## Strings, concatenation, and replication"
   ]
  },
  {
   "cell_type": "code",
   "execution_count": null,
   "id": "fc82ab53",
   "metadata": {},
   "outputs": [],
   "source": [
    "# Practrice here and below"
   ]
  },
  {
   "cell_type": "markdown",
   "id": "a6a5d2f9",
   "metadata": {},
   "source": [
    "## Storing values in variables"
   ]
  },
  {
   "cell_type": "code",
   "execution_count": 5,
   "id": "b41e3f62",
   "metadata": {},
   "outputs": [],
   "source": [
    "# Practice here and below"
   ]
  },
  {
   "cell_type": "markdown",
   "id": "1df791fa",
   "metadata": {},
   "source": [
    "### Video: Expressions, data types, and variables\n",
    "[Video: Expressions, data types, and variables](https://youtu.be/7qHMXu99d88)\n",
    "\n",
    "Or you can watch it embedded in Jupyter (just `shift-enter` to get it to show in the following cell)."
   ]
  },
  {
   "cell_type": "code",
   "execution_count": null,
   "id": "273c8b3d",
   "metadata": {},
   "outputs": [],
   "source": [
    "from IPython.display import YouTubeVideo\n",
    "YouTubeVideo('7qHMXu99d88', width=600, height=400)"
   ]
  },
  {
   "cell_type": "markdown",
   "id": "bb50b891",
   "metadata": {},
   "source": [
    "## Your first program\n",
    "Your first experience with a full program. Go ahead and enter the program from the book in the following cell (not a separate `.py` file like the book says), and run it with `shift-enter`). This is an instructive example because it includes a lot of useful functions (like how to get input from the user) and useful commentary from Sweigart."
   ]
  },
  {
   "cell_type": "code",
   "execution_count": 2,
   "id": "3afeba91",
   "metadata": {},
   "outputs": [],
   "source": [
    "# enter program here"
   ]
  },
  {
   "cell_type": "markdown",
   "id": "844e84b7",
   "metadata": {},
   "source": [
    "### Video: Your first program walkthrough\n",
    "[Video: your first program](https://www.youtube.com/watch?v=7qHMXu99d88)\n",
    "\n",
    "To watch it embedded run the following cell:"
   ]
  },
  {
   "cell_type": "code",
   "execution_count": null,
   "id": "691cbbc5",
   "metadata": {},
   "outputs": [],
   "source": [
    "from IPython.display import YouTubeVideo\n",
    "YouTubeVideo('7qHMXu99d88', width=600, height=400)"
   ]
  },
  {
   "cell_type": "markdown",
   "id": "4b71cc6d",
   "metadata": {},
   "source": [
    "# Chapter 1 Practice Questions\n",
    "At the end of the first chapter there are a bunch of practice questions. I strongly recommend you read through them, think about the answers, and if you get stuck there are answers here: \n",
    "\n",
    "[Answers to Practice Questions](https://automatetheboringstuff.com/2e/appendixc/)\n",
    "\n",
    "The questions in these first chapter are mostly academic (what are different variable types), but in later chapters there will be programming exercises that are much more important to work on."
   ]
  },
  {
   "cell_type": "code",
   "execution_count": null,
   "id": "b9ba054c",
   "metadata": {},
   "outputs": [],
   "source": [
    "# workspace for practice questions"
   ]
  },
  {
   "cell_type": "markdown",
   "id": "cdde807f",
   "metadata": {},
   "source": [
    "# Chapter 2: Program flow control\n",
    "in [Chapter 2](https://automatetheboringstuff.com/2e/chapter2/) Sweigart does a great job introducing the concepts of flow control, which are essential in any programming environment. "
   ]
  },
  {
   "cell_type": "code",
   "execution_count": null,
   "id": "466366f7",
   "metadata": {},
   "outputs": [],
   "source": []
  }
 ],
 "metadata": {
  "kernelspec": {
   "display_name": "Python 3",
   "language": "python",
   "name": "python3"
  },
  "language_info": {
   "codemirror_mode": {
    "name": "ipython",
    "version": 3
   },
   "file_extension": ".py",
   "mimetype": "text/x-python",
   "name": "python",
   "nbconvert_exporter": "python",
   "pygments_lexer": "ipython3",
   "version": "3.7.6"
  }
 },
 "nbformat": 4,
 "nbformat_minor": 5
}
