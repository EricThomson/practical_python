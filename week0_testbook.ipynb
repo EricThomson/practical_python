{
 "cells": [
  {
   "cell_type": "markdown",
   "id": "ec21ad9d",
   "metadata": {},
   "source": [
    "# Welcome to Practical Python!\n",
    "You did it!"
   ]
  },
  {
   "cell_type": "markdown",
   "id": "896ef307",
   "metadata": {},
   "source": [
    "[Realpython intro to Jupyter](https://realpython.com/jupyter-notebook-introduction/)\n",
    "OMG this is so good basically copy it:    \n",
    "\n",
    "[Intro to jupyter](https://github.com/ipython/ipython-in-depth/blob/7e5ce96cc9251083979efdfc393425f1229a4a68/examples/Notebook/Notebook%20Basics.ipynb)"
   ]
  },
  {
   "cell_type": "markdown",
   "id": "7d085c72",
   "metadata": {},
   "source": [
    "Maybe some of my stuff from covid kids."
   ]
  },
  {
   "cell_type": "markdown",
   "id": "a8c5e228",
   "metadata": {},
   "source": [
    "bababooey"
   ]
  },
  {
   "cell_type": "code",
   "execution_count": null,
   "id": "d799f2ac",
   "metadata": {},
   "outputs": [],
   "source": []
  }
 ],
 "metadata": {
  "kernelspec": {
   "display_name": "Python 3",
   "language": "python",
   "name": "python3"
  },
  "language_info": {
   "codemirror_mode": {
    "name": "ipython",
    "version": 3
   },
   "file_extension": ".py",
   "mimetype": "text/x-python",
   "name": "python",
   "nbconvert_exporter": "python",
   "pygments_lexer": "ipython3",
   "version": "3.7.6"
  }
 },
 "nbformat": 4,
 "nbformat_minor": 5
}
